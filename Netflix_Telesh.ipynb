{
 "cells": [
  {
   "cell_type": "code",
   "execution_count": 228,
   "id": "018be4ce",
   "metadata": {},
   "outputs": [
    {
     "ename": "ImportError",
     "evalue": "cannot import name 'anova_lmz' from 'statsmodels.stats.api' (C:\\Users\\Mi\\anaconda3\\lib\\site-packages\\statsmodels\\stats\\api.py)",
     "output_type": "error",
     "traceback": [
      "\u001b[1;31m---------------------------------------------------------------------------\u001b[0m",
      "\u001b[1;31mImportError\u001b[0m                               Traceback (most recent call last)",
      "Input \u001b[1;32mIn [228]\u001b[0m, in \u001b[0;36m<cell line: 10>\u001b[1;34m()\u001b[0m\n\u001b[0;32m      8\u001b[0m \u001b[38;5;28;01mimport\u001b[39;00m \u001b[38;5;21;01mstatsmodels\u001b[39;00m\u001b[38;5;21;01m.\u001b[39;00m\u001b[38;5;21;01mapi\u001b[39;00m \u001b[38;5;28;01mas\u001b[39;00m \u001b[38;5;21;01msm\u001b[39;00m\n\u001b[0;32m      9\u001b[0m \u001b[38;5;28;01mimport\u001b[39;00m \u001b[38;5;21;01mstatsmodels\u001b[39;00m\u001b[38;5;21;01m.\u001b[39;00m\u001b[38;5;21;01mformula\u001b[39;00m\u001b[38;5;21;01m.\u001b[39;00m\u001b[38;5;21;01mapi\u001b[39;00m \u001b[38;5;28;01mas\u001b[39;00m \u001b[38;5;21;01msmf\u001b[39;00m\n\u001b[1;32m---> 10\u001b[0m \u001b[38;5;28;01mfrom\u001b[39;00m \u001b[38;5;21;01mstatsmodels\u001b[39;00m\u001b[38;5;21;01m.\u001b[39;00m\u001b[38;5;21;01mstats\u001b[39;00m\u001b[38;5;21;01m.\u001b[39;00m\u001b[38;5;21;01mapi\u001b[39;00m \u001b[38;5;28;01mimport\u001b[39;00m anova_lmz\n\u001b[0;32m     11\u001b[0m \u001b[38;5;28;01mfrom\u001b[39;00m \u001b[38;5;21;01mstatsmodels\u001b[39;00m\u001b[38;5;21;01m.\u001b[39;00m\u001b[38;5;21;01mstats\u001b[39;00m\u001b[38;5;21;01m.\u001b[39;00m\u001b[38;5;21;01mmulticomp\u001b[39;00m \u001b[38;5;28;01mimport\u001b[39;00m (pairwise_tukeyhsd,\n\u001b[0;32m     12\u001b[0m                                          MultiComparison)\n\u001b[0;32m     13\u001b[0m \u001b[38;5;28;01mfrom\u001b[39;00m \u001b[38;5;21;01mscipy\u001b[39;00m \u001b[38;5;28;01mimport\u001b[39;00m stats\n",
      "\u001b[1;31mImportError\u001b[0m: cannot import name 'anova_lmz' from 'statsmodels.stats.api' (C:\\Users\\Mi\\anaconda3\\lib\\site-packages\\statsmodels\\stats\\api.py)"
     ]
    }
   ],
   "source": [
    "import pandas as pd\n",
    "import matplotlib.pyplot as plt\n",
    "import seaborn as sns\n",
    "import numpy as np\n",
    "import datetime\n",
    "import plotly.express as px\n",
    "\n",
    "import statsmodels.api as sm\n",
    "import statsmodels.formula.api as smf\n",
    "from statsmodels.stats.api import anova_lmz\n",
    "from statsmodels.stats.multicomp import (pairwise_tukeyhsd,\n",
    "                                         MultiComparison)\n",
    "from scipy import stats\n",
    "import pingouin as pg\n",
    "\n",
    "import numpy as np\n",
    "import scipy.stats as st\n",
    "import pandas as pd\n",
    "from sklearn import metrics\n",
    "from sklearn.linear_model import LinearRegression\n"
   ]
  },
  {
   "cell_type": "code",
   "execution_count": null,
   "id": "4f41b381",
   "metadata": {},
   "outputs": [],
   "source": [
    "!pip install outdated"
   ]
  },
  {
   "cell_type": "markdown",
   "id": "67fc6021",
   "metadata": {},
   "source": [
    " "
   ]
  },
  {
   "cell_type": "raw",
   "id": "09587f36",
   "metadata": {},
   "source": [
    " Исследование датасета:\n",
    "\n",
    "1.Data Exploration and Processing\n",
    "2. Processing and Analysis of Dataset\n",
    "    2.1. Processing of data\n",
    "    2.2 Analysis of data\n",
    "    2.3. Detailed dataset analysis: statistical groupings\n",
    "    2.4 Conclusions\n",
    "3.Visualization\n",
    "    3.1. Visualization by country and genres\n",
    "    3.2. Analysis of the dynamics of downloaded video products\n",
    "    3.3. Analytics TOP-10\n",
    "    3.4. Age rating detalization\n",
    "    3.5. Map Chart"
   ]
  },
  {
   "cell_type": "markdown",
   "id": "772e16af",
   "metadata": {},
   "source": [
    "# 1. Data Exploration and Processing"
   ]
  },
  {
   "cell_type": "markdown",
   "id": "6bf90227",
   "metadata": {},
   "source": [
    "Название датасета: Netflix Data: Cleaning, Analysis and Visualization\n",
    "\n",
    "Ссылка: https://www.kaggle.com/datasets/ariyoomotade/netflix-data-cleaning-analysis-and-visualization/code\n",
    "\n",
    "Netflix — популярный стриминговый сервис, который предлагает обширный каталог фильмов, телешоу и оригинального контента. Данные состоят из контента, добавленного в Netflix с 2008 по 2021 год. Самый старый контент датирован 1925 годом, а самый новый — 2021 годом. \n",
    "Датасет включает 8791 строку.\n"
   ]
  },
  {
   "cell_type": "markdown",
   "id": "a56b33e6",
   "metadata": {},
   "source": [
    "  Описание полей:\n",
    "\n",
    "•\tshow_id: идентификационный номер видео\n",
    "\n",
    "•\ttype: тип \n",
    "Тип: Movie/TV Show\n",
    "\n",
    "•\ttitle: название \n",
    "\n",
    "•\tdirector: имя режиссера\n",
    "\n",
    "•\tcountry: страна-производитель \n",
    "•\tdate_added: дата и время, когда видео было добавлен в netflix\n",
    "\n",
    "•\trelease_year: год выпуска\n",
    "\n",
    "•\trating: возрастное ограничение\n",
    "\n",
    "-- PG-13 (Parents Strongly Cautioned) - рекомендуется присутствие родителей для детей до 13 лет из-за насилия, сексуальных сцен, ненормативной лексики или других материалов, которые могут не подходить для детей;\n",
    "\n",
    "--\tTV-MA (Mature Audience Only) - контент только для взрослых;\n",
    "\n",
    "--\tTV-PG (Parental Guidance Suggested) - рекомендуется присутствие родителей из-за материалов, которые могут не подходить для детей;\n",
    "\n",
    "--\tTV-14 (Parents Strongly Cautioned) - рекомендуется присутствие родителей или взрослых из-за материалов, которые могут не подходить для детей до 14 лет;\n",
    "\n",
    "--\tTV-Y7 (Directed to Older Children) - содержание может быть не подходящим для детей младше 7 лет;\n",
    "\n",
    "--\tTV-Y (All Children) - содержание подходит для всех детей;\n",
    "\n",
    "--\tPG (Parental Guidance Suggested) - рекомендуется родительское присутствие для детей до 13 лет;\n",
    "\n",
    "--\tTV-G (General Audience) - содержание подходит для всех возрастов;\n",
    "\n",
    "--\tR (Restricted) - лицам до 17 лет обязательно присутствие взрослых из-за насилия, сексуальных сцен, ненормативной лексики или других материалов, которые могут не подходить для детей;\n",
    "\n",
    "--\tG (General Audiences) - фильмы для всех возрастов;\n",
    "\n",
    "--\tNC-17 (No Children Under 17 Admitted) - фильмы только для взрослых;\n",
    "\n",
    "--\tNR (Not Rated) - рейтинг не присвоен;\n",
    "\n",
    "--\tTV-Y7-FV (Directed to Older Children - Fantasy Violence) - содержание может быть не подходящим для детей младше 7 лет из-за насилия в фантастическом контексте;\n",
    "\n",
    "--\tUR (Unrated) - рейтинг не присвоен или неизвестен.\n",
    "\n",
    "•\tduration: продолжительность видео\n",
    "\n",
    "•\tlisted_in: жанр\n"
   ]
  },
  {
   "cell_type": "code",
   "execution_count": 229,
   "id": "297cdc02",
   "metadata": {},
   "outputs": [
    {
     "data": {
      "text/html": [
       "<div>\n",
       "<style scoped>\n",
       "    .dataframe tbody tr th:only-of-type {\n",
       "        vertical-align: middle;\n",
       "    }\n",
       "\n",
       "    .dataframe tbody tr th {\n",
       "        vertical-align: top;\n",
       "    }\n",
       "\n",
       "    .dataframe thead th {\n",
       "        text-align: right;\n",
       "    }\n",
       "</style>\n",
       "<table border=\"1\" class=\"dataframe\">\n",
       "  <thead>\n",
       "    <tr style=\"text-align: right;\">\n",
       "      <th></th>\n",
       "      <th>show_id</th>\n",
       "      <th>type</th>\n",
       "      <th>title</th>\n",
       "      <th>director</th>\n",
       "      <th>country</th>\n",
       "      <th>date_added</th>\n",
       "      <th>release_year</th>\n",
       "      <th>rating</th>\n",
       "      <th>duration</th>\n",
       "      <th>listed_in</th>\n",
       "    </tr>\n",
       "  </thead>\n",
       "  <tbody>\n",
       "    <tr>\n",
       "      <th>0</th>\n",
       "      <td>s1</td>\n",
       "      <td>Movie</td>\n",
       "      <td>Dick Johnson Is Dead</td>\n",
       "      <td>Kirsten Johnson</td>\n",
       "      <td>United States</td>\n",
       "      <td>2021-09-25</td>\n",
       "      <td>2020</td>\n",
       "      <td>PG-13</td>\n",
       "      <td>90 min</td>\n",
       "      <td>Documentaries</td>\n",
       "    </tr>\n",
       "    <tr>\n",
       "      <th>1</th>\n",
       "      <td>s3</td>\n",
       "      <td>TV Show</td>\n",
       "      <td>Ganglands</td>\n",
       "      <td>Julien Leclercq</td>\n",
       "      <td>France</td>\n",
       "      <td>2021-09-24</td>\n",
       "      <td>2021</td>\n",
       "      <td>TV-MA</td>\n",
       "      <td>1 Season</td>\n",
       "      <td>Crime TV Shows, International TV Shows, TV Act...</td>\n",
       "    </tr>\n",
       "    <tr>\n",
       "      <th>2</th>\n",
       "      <td>s6</td>\n",
       "      <td>TV Show</td>\n",
       "      <td>Midnight Mass</td>\n",
       "      <td>Mike Flanagan</td>\n",
       "      <td>United States</td>\n",
       "      <td>2021-09-24</td>\n",
       "      <td>2021</td>\n",
       "      <td>TV-MA</td>\n",
       "      <td>1 Season</td>\n",
       "      <td>TV Dramas, TV Horror, TV Mysteries</td>\n",
       "    </tr>\n",
       "    <tr>\n",
       "      <th>3</th>\n",
       "      <td>s14</td>\n",
       "      <td>Movie</td>\n",
       "      <td>Confessions of an Invisible Girl</td>\n",
       "      <td>Bruno Garotti</td>\n",
       "      <td>Brazil</td>\n",
       "      <td>2021-09-22</td>\n",
       "      <td>2021</td>\n",
       "      <td>TV-PG</td>\n",
       "      <td>91 min</td>\n",
       "      <td>Children &amp; Family Movies, Comedies</td>\n",
       "    </tr>\n",
       "    <tr>\n",
       "      <th>4</th>\n",
       "      <td>s8</td>\n",
       "      <td>Movie</td>\n",
       "      <td>Sankofa</td>\n",
       "      <td>Haile Gerima</td>\n",
       "      <td>United States</td>\n",
       "      <td>2021-09-24</td>\n",
       "      <td>1993</td>\n",
       "      <td>TV-MA</td>\n",
       "      <td>125 min</td>\n",
       "      <td>Dramas, Independent Movies, International Movies</td>\n",
       "    </tr>\n",
       "  </tbody>\n",
       "</table>\n",
       "</div>"
      ],
      "text/plain": [
       "  show_id     type                             title         director  \\\n",
       "0      s1    Movie              Dick Johnson Is Dead  Kirsten Johnson   \n",
       "1      s3  TV Show                         Ganglands  Julien Leclercq   \n",
       "2      s6  TV Show                     Midnight Mass    Mike Flanagan   \n",
       "3     s14    Movie  Confessions of an Invisible Girl    Bruno Garotti   \n",
       "4      s8    Movie                           Sankofa     Haile Gerima   \n",
       "\n",
       "         country date_added  release_year rating  duration  \\\n",
       "0  United States 2021-09-25          2020  PG-13    90 min   \n",
       "1         France 2021-09-24          2021  TV-MA  1 Season   \n",
       "2  United States 2021-09-24          2021  TV-MA  1 Season   \n",
       "3         Brazil 2021-09-22          2021  TV-PG    91 min   \n",
       "4  United States 2021-09-24          1993  TV-MA   125 min   \n",
       "\n",
       "                                           listed_in  \n",
       "0                                      Documentaries  \n",
       "1  Crime TV Shows, International TV Shows, TV Act...  \n",
       "2                 TV Dramas, TV Horror, TV Mysteries  \n",
       "3                 Children & Family Movies, Comedies  \n",
       "4   Dramas, Independent Movies, International Movies  "
      ]
     },
     "execution_count": 229,
     "metadata": {},
     "output_type": "execute_result"
    }
   ],
   "source": [
    "Netflix=pd.read_csv('archive.zip', parse_dates=['date_added'])\n",
    "Netflix.head(5)"
   ]
  },
  {
   "cell_type": "markdown",
   "id": "86408df0",
   "metadata": {},
   "source": [
    "# 2. Processing and Analysis of Dataset"
   ]
  },
  {
   "cell_type": "markdown",
   "id": "c22b3ca5",
   "metadata": {},
   "source": [
    "# 2.1. Processing of data"
   ]
  },
  {
   "cell_type": "code",
   "execution_count": 230,
   "id": "128632c5",
   "metadata": {},
   "outputs": [
    {
     "data": {
      "text/plain": [
       "show_id         0\n",
       "type            0\n",
       "title           0\n",
       "director        0\n",
       "country         0\n",
       "date_added      0\n",
       "release_year    0\n",
       "rating          0\n",
       "duration        0\n",
       "listed_in       0\n",
       "dtype: int64"
      ]
     },
     "execution_count": 230,
     "metadata": {},
     "output_type": "execute_result"
    }
   ],
   "source": [
    "#search of null values\n",
    "Netflix.isna().sum()"
   ]
  },
  {
   "cell_type": "code",
   "execution_count": 231,
   "id": "4c478823",
   "metadata": {},
   "outputs": [],
   "source": [
    "#rename of columvs\n",
    "Netflix = Netflix.rename(columns={'listed_in': 'genres'})"
   ]
  },
  {
   "cell_type": "code",
   "execution_count": 232,
   "id": "8bc00669",
   "metadata": {
    "scrolled": false
   },
   "outputs": [],
   "source": [
    "#remove of  null values\n",
    "Netflix=Netflix.dropna()"
   ]
  },
  {
   "cell_type": "code",
   "execution_count": 233,
   "id": "9294869e",
   "metadata": {},
   "outputs": [],
   "source": [
    "#remove of duplicates\n",
    "Netflix = Netflix.drop_duplicates()"
   ]
  },
  {
   "cell_type": "markdown",
   "id": "fa6dbebc",
   "metadata": {},
   "source": [
    " "
   ]
  },
  {
   "cell_type": "markdown",
   "id": "cd6d1819",
   "metadata": {},
   "source": [
    "This dataset contains video products by genre, which can contain several genres at the same time. However, the main genre is the name that comes first.\n",
    "To analyze video products by genre, we will distinguish only those genres that are key:"
   ]
  },
  {
   "cell_type": "code",
   "execution_count": 234,
   "id": "e7634105",
   "metadata": {
    "scrolled": true
   },
   "outputs": [
    {
     "data": {
      "text/html": [
       "<div>\n",
       "<style scoped>\n",
       "    .dataframe tbody tr th:only-of-type {\n",
       "        vertical-align: middle;\n",
       "    }\n",
       "\n",
       "    .dataframe tbody tr th {\n",
       "        vertical-align: top;\n",
       "    }\n",
       "\n",
       "    .dataframe thead th {\n",
       "        text-align: right;\n",
       "    }\n",
       "</style>\n",
       "<table border=\"1\" class=\"dataframe\">\n",
       "  <thead>\n",
       "    <tr style=\"text-align: right;\">\n",
       "      <th></th>\n",
       "      <th>show_id</th>\n",
       "      <th>type</th>\n",
       "      <th>title</th>\n",
       "      <th>director</th>\n",
       "      <th>country</th>\n",
       "      <th>date_added</th>\n",
       "      <th>release_year</th>\n",
       "      <th>rating</th>\n",
       "      <th>duration</th>\n",
       "      <th>genres</th>\n",
       "      <th>genres_2</th>\n",
       "    </tr>\n",
       "  </thead>\n",
       "  <tbody>\n",
       "    <tr>\n",
       "      <th>0</th>\n",
       "      <td>s1</td>\n",
       "      <td>Movie</td>\n",
       "      <td>Dick Johnson Is Dead</td>\n",
       "      <td>Kirsten Johnson</td>\n",
       "      <td>United States</td>\n",
       "      <td>2021-09-25</td>\n",
       "      <td>2020</td>\n",
       "      <td>PG-13</td>\n",
       "      <td>90 min</td>\n",
       "      <td>Documentaries</td>\n",
       "      <td>None</td>\n",
       "    </tr>\n",
       "    <tr>\n",
       "      <th>1</th>\n",
       "      <td>s3</td>\n",
       "      <td>TV Show</td>\n",
       "      <td>Ganglands</td>\n",
       "      <td>Julien Leclercq</td>\n",
       "      <td>France</td>\n",
       "      <td>2021-09-24</td>\n",
       "      <td>2021</td>\n",
       "      <td>TV-MA</td>\n",
       "      <td>1 Season</td>\n",
       "      <td>Crime TV Shows</td>\n",
       "      <td>International TV Shows, TV Action &amp; Adventure</td>\n",
       "    </tr>\n",
       "    <tr>\n",
       "      <th>2</th>\n",
       "      <td>s6</td>\n",
       "      <td>TV Show</td>\n",
       "      <td>Midnight Mass</td>\n",
       "      <td>Mike Flanagan</td>\n",
       "      <td>United States</td>\n",
       "      <td>2021-09-24</td>\n",
       "      <td>2021</td>\n",
       "      <td>TV-MA</td>\n",
       "      <td>1 Season</td>\n",
       "      <td>TV Dramas</td>\n",
       "      <td>TV Horror, TV Mysteries</td>\n",
       "    </tr>\n",
       "    <tr>\n",
       "      <th>3</th>\n",
       "      <td>s14</td>\n",
       "      <td>Movie</td>\n",
       "      <td>Confessions of an Invisible Girl</td>\n",
       "      <td>Bruno Garotti</td>\n",
       "      <td>Brazil</td>\n",
       "      <td>2021-09-22</td>\n",
       "      <td>2021</td>\n",
       "      <td>TV-PG</td>\n",
       "      <td>91 min</td>\n",
       "      <td>Children &amp; Family Movies</td>\n",
       "      <td>Comedies</td>\n",
       "    </tr>\n",
       "    <tr>\n",
       "      <th>4</th>\n",
       "      <td>s8</td>\n",
       "      <td>Movie</td>\n",
       "      <td>Sankofa</td>\n",
       "      <td>Haile Gerima</td>\n",
       "      <td>United States</td>\n",
       "      <td>2021-09-24</td>\n",
       "      <td>1993</td>\n",
       "      <td>TV-MA</td>\n",
       "      <td>125 min</td>\n",
       "      <td>Dramas</td>\n",
       "      <td>Independent Movies, International Movies</td>\n",
       "    </tr>\n",
       "  </tbody>\n",
       "</table>\n",
       "</div>"
      ],
      "text/plain": [
       "  show_id     type                             title         director  \\\n",
       "0      s1    Movie              Dick Johnson Is Dead  Kirsten Johnson   \n",
       "1      s3  TV Show                         Ganglands  Julien Leclercq   \n",
       "2      s6  TV Show                     Midnight Mass    Mike Flanagan   \n",
       "3     s14    Movie  Confessions of an Invisible Girl    Bruno Garotti   \n",
       "4      s8    Movie                           Sankofa     Haile Gerima   \n",
       "\n",
       "         country date_added  release_year rating  duration  \\\n",
       "0  United States 2021-09-25          2020  PG-13    90 min   \n",
       "1         France 2021-09-24          2021  TV-MA  1 Season   \n",
       "2  United States 2021-09-24          2021  TV-MA  1 Season   \n",
       "3         Brazil 2021-09-22          2021  TV-PG    91 min   \n",
       "4  United States 2021-09-24          1993  TV-MA   125 min   \n",
       "\n",
       "                     genres                                        genres_2  \n",
       "0             Documentaries                                            None  \n",
       "1            Crime TV Shows   International TV Shows, TV Action & Adventure  \n",
       "2                 TV Dramas                         TV Horror, TV Mysteries  \n",
       "3  Children & Family Movies                                        Comedies  \n",
       "4                    Dramas        Independent Movies, International Movies  "
      ]
     },
     "execution_count": 234,
     "metadata": {},
     "output_type": "execute_result"
    }
   ],
   "source": [
    "#selecting a key video genre for analysis\n",
    "Netflix[['genres', 'genres_2']] = Netflix['genres']. str.split(',', 1 , expand= True )\n",
    "Netflix.head(5)"
   ]
  },
  {
   "cell_type": "markdown",
   "id": "4e3aaa26",
   "metadata": {},
   "source": [
    " "
   ]
  },
  {
   "cell_type": "markdown",
   "id": "3a308684",
   "metadata": {},
   "source": [
    "To analyze the dataset by year, it's needed split the date and select the years:"
   ]
  },
  {
   "cell_type": "code",
   "execution_count": 235,
   "id": "d138a908",
   "metadata": {
    "scrolled": true
   },
   "outputs": [
    {
     "data": {
      "text/html": [
       "<div>\n",
       "<style scoped>\n",
       "    .dataframe tbody tr th:only-of-type {\n",
       "        vertical-align: middle;\n",
       "    }\n",
       "\n",
       "    .dataframe tbody tr th {\n",
       "        vertical-align: top;\n",
       "    }\n",
       "\n",
       "    .dataframe thead th {\n",
       "        text-align: right;\n",
       "    }\n",
       "</style>\n",
       "<table border=\"1\" class=\"dataframe\">\n",
       "  <thead>\n",
       "    <tr style=\"text-align: right;\">\n",
       "      <th></th>\n",
       "      <th>show_id</th>\n",
       "      <th>type</th>\n",
       "      <th>title</th>\n",
       "      <th>director</th>\n",
       "      <th>country</th>\n",
       "      <th>date_added</th>\n",
       "      <th>release_year</th>\n",
       "      <th>rating</th>\n",
       "      <th>duration</th>\n",
       "      <th>genres</th>\n",
       "      <th>genres_2</th>\n",
       "      <th>year_added</th>\n",
       "    </tr>\n",
       "  </thead>\n",
       "  <tbody>\n",
       "    <tr>\n",
       "      <th>0</th>\n",
       "      <td>s1</td>\n",
       "      <td>Movie</td>\n",
       "      <td>Dick Johnson Is Dead</td>\n",
       "      <td>Kirsten Johnson</td>\n",
       "      <td>United States</td>\n",
       "      <td>2021-09-25</td>\n",
       "      <td>2020</td>\n",
       "      <td>PG-13</td>\n",
       "      <td>90 min</td>\n",
       "      <td>Documentaries</td>\n",
       "      <td>None</td>\n",
       "      <td>2021</td>\n",
       "    </tr>\n",
       "    <tr>\n",
       "      <th>1</th>\n",
       "      <td>s3</td>\n",
       "      <td>TV Show</td>\n",
       "      <td>Ganglands</td>\n",
       "      <td>Julien Leclercq</td>\n",
       "      <td>France</td>\n",
       "      <td>2021-09-24</td>\n",
       "      <td>2021</td>\n",
       "      <td>TV-MA</td>\n",
       "      <td>1 Season</td>\n",
       "      <td>Crime TV Shows</td>\n",
       "      <td>International TV Shows, TV Action &amp; Adventure</td>\n",
       "      <td>2021</td>\n",
       "    </tr>\n",
       "    <tr>\n",
       "      <th>2</th>\n",
       "      <td>s6</td>\n",
       "      <td>TV Show</td>\n",
       "      <td>Midnight Mass</td>\n",
       "      <td>Mike Flanagan</td>\n",
       "      <td>United States</td>\n",
       "      <td>2021-09-24</td>\n",
       "      <td>2021</td>\n",
       "      <td>TV-MA</td>\n",
       "      <td>1 Season</td>\n",
       "      <td>TV Dramas</td>\n",
       "      <td>TV Horror, TV Mysteries</td>\n",
       "      <td>2021</td>\n",
       "    </tr>\n",
       "    <tr>\n",
       "      <th>3</th>\n",
       "      <td>s14</td>\n",
       "      <td>Movie</td>\n",
       "      <td>Confessions of an Invisible Girl</td>\n",
       "      <td>Bruno Garotti</td>\n",
       "      <td>Brazil</td>\n",
       "      <td>2021-09-22</td>\n",
       "      <td>2021</td>\n",
       "      <td>TV-PG</td>\n",
       "      <td>91 min</td>\n",
       "      <td>Children &amp; Family Movies</td>\n",
       "      <td>Comedies</td>\n",
       "      <td>2021</td>\n",
       "    </tr>\n",
       "    <tr>\n",
       "      <th>4</th>\n",
       "      <td>s8</td>\n",
       "      <td>Movie</td>\n",
       "      <td>Sankofa</td>\n",
       "      <td>Haile Gerima</td>\n",
       "      <td>United States</td>\n",
       "      <td>2021-09-24</td>\n",
       "      <td>1993</td>\n",
       "      <td>TV-MA</td>\n",
       "      <td>125 min</td>\n",
       "      <td>Dramas</td>\n",
       "      <td>Independent Movies, International Movies</td>\n",
       "      <td>2021</td>\n",
       "    </tr>\n",
       "  </tbody>\n",
       "</table>\n",
       "</div>"
      ],
      "text/plain": [
       "  show_id     type                             title         director  \\\n",
       "0      s1    Movie              Dick Johnson Is Dead  Kirsten Johnson   \n",
       "1      s3  TV Show                         Ganglands  Julien Leclercq   \n",
       "2      s6  TV Show                     Midnight Mass    Mike Flanagan   \n",
       "3     s14    Movie  Confessions of an Invisible Girl    Bruno Garotti   \n",
       "4      s8    Movie                           Sankofa     Haile Gerima   \n",
       "\n",
       "         country date_added  release_year rating  duration  \\\n",
       "0  United States 2021-09-25          2020  PG-13    90 min   \n",
       "1         France 2021-09-24          2021  TV-MA  1 Season   \n",
       "2  United States 2021-09-24          2021  TV-MA  1 Season   \n",
       "3         Brazil 2021-09-22          2021  TV-PG    91 min   \n",
       "4  United States 2021-09-24          1993  TV-MA   125 min   \n",
       "\n",
       "                     genres                                        genres_2  \\\n",
       "0             Documentaries                                            None   \n",
       "1            Crime TV Shows   International TV Shows, TV Action & Adventure   \n",
       "2                 TV Dramas                         TV Horror, TV Mysteries   \n",
       "3  Children & Family Movies                                        Comedies   \n",
       "4                    Dramas        Independent Movies, International Movies   \n",
       "\n",
       "  year_added  \n",
       "0       2021  \n",
       "1       2021  \n",
       "2       2021  \n",
       "3       2021  \n",
       "4       2021  "
      ]
     },
     "execution_count": 235,
     "metadata": {},
     "output_type": "execute_result"
    }
   ],
   "source": [
    "#adding a column with years\n",
    "Netflix['year_added']=Netflix['date_added'].dt.to_period('Y')\n",
    "Netflix.head(5)"
   ]
  },
  {
   "cell_type": "code",
   "execution_count": 236,
   "id": "6362de0f",
   "metadata": {},
   "outputs": [],
   "source": [
    "Netflix = Netflix.drop('genres_2', axis=1)\n",
    "Netflix = Netflix.drop('date_added', axis=1)"
   ]
  },
  {
   "cell_type": "code",
   "execution_count": 237,
   "id": "fc63aabd",
   "metadata": {},
   "outputs": [
    {
     "data": {
      "text/html": [
       "<div>\n",
       "<style scoped>\n",
       "    .dataframe tbody tr th:only-of-type {\n",
       "        vertical-align: middle;\n",
       "    }\n",
       "\n",
       "    .dataframe tbody tr th {\n",
       "        vertical-align: top;\n",
       "    }\n",
       "\n",
       "    .dataframe thead th {\n",
       "        text-align: right;\n",
       "    }\n",
       "</style>\n",
       "<table border=\"1\" class=\"dataframe\">\n",
       "  <thead>\n",
       "    <tr style=\"text-align: right;\">\n",
       "      <th></th>\n",
       "      <th>show_id</th>\n",
       "      <th>type</th>\n",
       "      <th>title</th>\n",
       "      <th>director</th>\n",
       "      <th>country</th>\n",
       "      <th>release_year</th>\n",
       "      <th>rating</th>\n",
       "      <th>duration</th>\n",
       "      <th>genres</th>\n",
       "      <th>year_added</th>\n",
       "    </tr>\n",
       "  </thead>\n",
       "  <tbody>\n",
       "    <tr>\n",
       "      <th>0</th>\n",
       "      <td>s1</td>\n",
       "      <td>Movie</td>\n",
       "      <td>Dick Johnson Is Dead</td>\n",
       "      <td>Kirsten Johnson</td>\n",
       "      <td>United States</td>\n",
       "      <td>2020</td>\n",
       "      <td>PG-13</td>\n",
       "      <td>90 min</td>\n",
       "      <td>Documentaries</td>\n",
       "      <td>2021</td>\n",
       "    </tr>\n",
       "    <tr>\n",
       "      <th>1</th>\n",
       "      <td>s3</td>\n",
       "      <td>TV Show</td>\n",
       "      <td>Ganglands</td>\n",
       "      <td>Julien Leclercq</td>\n",
       "      <td>France</td>\n",
       "      <td>2021</td>\n",
       "      <td>TV-MA</td>\n",
       "      <td>1 Season</td>\n",
       "      <td>Crime TV Shows</td>\n",
       "      <td>2021</td>\n",
       "    </tr>\n",
       "    <tr>\n",
       "      <th>2</th>\n",
       "      <td>s6</td>\n",
       "      <td>TV Show</td>\n",
       "      <td>Midnight Mass</td>\n",
       "      <td>Mike Flanagan</td>\n",
       "      <td>United States</td>\n",
       "      <td>2021</td>\n",
       "      <td>TV-MA</td>\n",
       "      <td>1 Season</td>\n",
       "      <td>TV Dramas</td>\n",
       "      <td>2021</td>\n",
       "    </tr>\n",
       "    <tr>\n",
       "      <th>3</th>\n",
       "      <td>s14</td>\n",
       "      <td>Movie</td>\n",
       "      <td>Confessions of an Invisible Girl</td>\n",
       "      <td>Bruno Garotti</td>\n",
       "      <td>Brazil</td>\n",
       "      <td>2021</td>\n",
       "      <td>TV-PG</td>\n",
       "      <td>91 min</td>\n",
       "      <td>Children &amp; Family Movies</td>\n",
       "      <td>2021</td>\n",
       "    </tr>\n",
       "    <tr>\n",
       "      <th>4</th>\n",
       "      <td>s8</td>\n",
       "      <td>Movie</td>\n",
       "      <td>Sankofa</td>\n",
       "      <td>Haile Gerima</td>\n",
       "      <td>United States</td>\n",
       "      <td>1993</td>\n",
       "      <td>TV-MA</td>\n",
       "      <td>125 min</td>\n",
       "      <td>Dramas</td>\n",
       "      <td>2021</td>\n",
       "    </tr>\n",
       "  </tbody>\n",
       "</table>\n",
       "</div>"
      ],
      "text/plain": [
       "  show_id     type                             title         director  \\\n",
       "0      s1    Movie              Dick Johnson Is Dead  Kirsten Johnson   \n",
       "1      s3  TV Show                         Ganglands  Julien Leclercq   \n",
       "2      s6  TV Show                     Midnight Mass    Mike Flanagan   \n",
       "3     s14    Movie  Confessions of an Invisible Girl    Bruno Garotti   \n",
       "4      s8    Movie                           Sankofa     Haile Gerima   \n",
       "\n",
       "         country  release_year rating  duration                    genres  \\\n",
       "0  United States          2020  PG-13    90 min             Documentaries   \n",
       "1         France          2021  TV-MA  1 Season            Crime TV Shows   \n",
       "2  United States          2021  TV-MA  1 Season                 TV Dramas   \n",
       "3         Brazil          2021  TV-PG    91 min  Children & Family Movies   \n",
       "4  United States          1993  TV-MA   125 min                    Dramas   \n",
       "\n",
       "  year_added  \n",
       "0       2021  \n",
       "1       2021  \n",
       "2       2021  \n",
       "3       2021  \n",
       "4       2021  "
      ]
     },
     "execution_count": 237,
     "metadata": {},
     "output_type": "execute_result"
    }
   ],
   "source": [
    "Netflix.head(5)"
   ]
  },
  {
   "cell_type": "markdown",
   "id": "864de015",
   "metadata": {},
   "source": [
    "# 2.2. Analysis of data"
   ]
  },
  {
   "cell_type": "code",
   "execution_count": 238,
   "id": "47f5aefb",
   "metadata": {},
   "outputs": [],
   "source": [
    "def first_check(dataset):\n",
    "\n",
    "    print()\n",
    "    print('Первые 5 строк таблицы')\n",
    "    display(dataset.head(5))\n",
    "\n",
    "    print()\n",
    "    print('Последние 5 строк таблицы')\n",
    "    display(dataset.tail(5))\n",
    "\n",
    "    print()\n",
    "    print('Информация о таблице')   \n",
    "    print(dataset.info())\n",
    "\n",
    "    print()\n",
    "    print('Наименование колонок')  \n",
    "    print(dataset.columns)\n",
    "         \n",
    "    print()\n",
    "    print('Типы колонок')  \n",
    "    print(Netflix.shape)\n",
    "    \n",
    "    print()\n",
    "    print('Типы колонок')  \n",
    "    print(Netflix.dtypes)"
   ]
  },
  {
   "cell_type": "code",
   "execution_count": 239,
   "id": "d6303e67",
   "metadata": {},
   "outputs": [
    {
     "name": "stdout",
     "output_type": "stream",
     "text": [
      "\n",
      "Первые 5 строк таблицы\n"
     ]
    },
    {
     "data": {
      "text/html": [
       "<div>\n",
       "<style scoped>\n",
       "    .dataframe tbody tr th:only-of-type {\n",
       "        vertical-align: middle;\n",
       "    }\n",
       "\n",
       "    .dataframe tbody tr th {\n",
       "        vertical-align: top;\n",
       "    }\n",
       "\n",
       "    .dataframe thead th {\n",
       "        text-align: right;\n",
       "    }\n",
       "</style>\n",
       "<table border=\"1\" class=\"dataframe\">\n",
       "  <thead>\n",
       "    <tr style=\"text-align: right;\">\n",
       "      <th></th>\n",
       "      <th>show_id</th>\n",
       "      <th>type</th>\n",
       "      <th>title</th>\n",
       "      <th>director</th>\n",
       "      <th>country</th>\n",
       "      <th>release_year</th>\n",
       "      <th>rating</th>\n",
       "      <th>duration</th>\n",
       "      <th>genres</th>\n",
       "      <th>year_added</th>\n",
       "    </tr>\n",
       "  </thead>\n",
       "  <tbody>\n",
       "    <tr>\n",
       "      <th>0</th>\n",
       "      <td>s1</td>\n",
       "      <td>Movie</td>\n",
       "      <td>Dick Johnson Is Dead</td>\n",
       "      <td>Kirsten Johnson</td>\n",
       "      <td>United States</td>\n",
       "      <td>2020</td>\n",
       "      <td>PG-13</td>\n",
       "      <td>90 min</td>\n",
       "      <td>Documentaries</td>\n",
       "      <td>2021</td>\n",
       "    </tr>\n",
       "    <tr>\n",
       "      <th>1</th>\n",
       "      <td>s3</td>\n",
       "      <td>TV Show</td>\n",
       "      <td>Ganglands</td>\n",
       "      <td>Julien Leclercq</td>\n",
       "      <td>France</td>\n",
       "      <td>2021</td>\n",
       "      <td>TV-MA</td>\n",
       "      <td>1 Season</td>\n",
       "      <td>Crime TV Shows</td>\n",
       "      <td>2021</td>\n",
       "    </tr>\n",
       "    <tr>\n",
       "      <th>2</th>\n",
       "      <td>s6</td>\n",
       "      <td>TV Show</td>\n",
       "      <td>Midnight Mass</td>\n",
       "      <td>Mike Flanagan</td>\n",
       "      <td>United States</td>\n",
       "      <td>2021</td>\n",
       "      <td>TV-MA</td>\n",
       "      <td>1 Season</td>\n",
       "      <td>TV Dramas</td>\n",
       "      <td>2021</td>\n",
       "    </tr>\n",
       "    <tr>\n",
       "      <th>3</th>\n",
       "      <td>s14</td>\n",
       "      <td>Movie</td>\n",
       "      <td>Confessions of an Invisible Girl</td>\n",
       "      <td>Bruno Garotti</td>\n",
       "      <td>Brazil</td>\n",
       "      <td>2021</td>\n",
       "      <td>TV-PG</td>\n",
       "      <td>91 min</td>\n",
       "      <td>Children &amp; Family Movies</td>\n",
       "      <td>2021</td>\n",
       "    </tr>\n",
       "    <tr>\n",
       "      <th>4</th>\n",
       "      <td>s8</td>\n",
       "      <td>Movie</td>\n",
       "      <td>Sankofa</td>\n",
       "      <td>Haile Gerima</td>\n",
       "      <td>United States</td>\n",
       "      <td>1993</td>\n",
       "      <td>TV-MA</td>\n",
       "      <td>125 min</td>\n",
       "      <td>Dramas</td>\n",
       "      <td>2021</td>\n",
       "    </tr>\n",
       "  </tbody>\n",
       "</table>\n",
       "</div>"
      ],
      "text/plain": [
       "  show_id     type                             title         director  \\\n",
       "0      s1    Movie              Dick Johnson Is Dead  Kirsten Johnson   \n",
       "1      s3  TV Show                         Ganglands  Julien Leclercq   \n",
       "2      s6  TV Show                     Midnight Mass    Mike Flanagan   \n",
       "3     s14    Movie  Confessions of an Invisible Girl    Bruno Garotti   \n",
       "4      s8    Movie                           Sankofa     Haile Gerima   \n",
       "\n",
       "         country  release_year rating  duration                    genres  \\\n",
       "0  United States          2020  PG-13    90 min             Documentaries   \n",
       "1         France          2021  TV-MA  1 Season            Crime TV Shows   \n",
       "2  United States          2021  TV-MA  1 Season                 TV Dramas   \n",
       "3         Brazil          2021  TV-PG    91 min  Children & Family Movies   \n",
       "4  United States          1993  TV-MA   125 min                    Dramas   \n",
       "\n",
       "  year_added  \n",
       "0       2021  \n",
       "1       2021  \n",
       "2       2021  \n",
       "3       2021  \n",
       "4       2021  "
      ]
     },
     "metadata": {},
     "output_type": "display_data"
    },
    {
     "name": "stdout",
     "output_type": "stream",
     "text": [
      "\n",
      "Последние 5 строк таблицы\n"
     ]
    },
    {
     "data": {
      "text/html": [
       "<div>\n",
       "<style scoped>\n",
       "    .dataframe tbody tr th:only-of-type {\n",
       "        vertical-align: middle;\n",
       "    }\n",
       "\n",
       "    .dataframe tbody tr th {\n",
       "        vertical-align: top;\n",
       "    }\n",
       "\n",
       "    .dataframe thead th {\n",
       "        text-align: right;\n",
       "    }\n",
       "</style>\n",
       "<table border=\"1\" class=\"dataframe\">\n",
       "  <thead>\n",
       "    <tr style=\"text-align: right;\">\n",
       "      <th></th>\n",
       "      <th>show_id</th>\n",
       "      <th>type</th>\n",
       "      <th>title</th>\n",
       "      <th>director</th>\n",
       "      <th>country</th>\n",
       "      <th>release_year</th>\n",
       "      <th>rating</th>\n",
       "      <th>duration</th>\n",
       "      <th>genres</th>\n",
       "      <th>year_added</th>\n",
       "    </tr>\n",
       "  </thead>\n",
       "  <tbody>\n",
       "    <tr>\n",
       "      <th>8785</th>\n",
       "      <td>s8797</td>\n",
       "      <td>TV Show</td>\n",
       "      <td>Yunus Emre</td>\n",
       "      <td>Not Given</td>\n",
       "      <td>Turkey</td>\n",
       "      <td>2016</td>\n",
       "      <td>TV-PG</td>\n",
       "      <td>2 Seasons</td>\n",
       "      <td>International TV Shows</td>\n",
       "      <td>2017</td>\n",
       "    </tr>\n",
       "    <tr>\n",
       "      <th>8786</th>\n",
       "      <td>s8798</td>\n",
       "      <td>TV Show</td>\n",
       "      <td>Zak Storm</td>\n",
       "      <td>Not Given</td>\n",
       "      <td>United States</td>\n",
       "      <td>2016</td>\n",
       "      <td>TV-Y7</td>\n",
       "      <td>3 Seasons</td>\n",
       "      <td>Kids' TV</td>\n",
       "      <td>2018</td>\n",
       "    </tr>\n",
       "    <tr>\n",
       "      <th>8787</th>\n",
       "      <td>s8801</td>\n",
       "      <td>TV Show</td>\n",
       "      <td>Zindagi Gulzar Hai</td>\n",
       "      <td>Not Given</td>\n",
       "      <td>Pakistan</td>\n",
       "      <td>2012</td>\n",
       "      <td>TV-PG</td>\n",
       "      <td>1 Season</td>\n",
       "      <td>International TV Shows</td>\n",
       "      <td>2016</td>\n",
       "    </tr>\n",
       "    <tr>\n",
       "      <th>8788</th>\n",
       "      <td>s8784</td>\n",
       "      <td>TV Show</td>\n",
       "      <td>Yoko</td>\n",
       "      <td>Not Given</td>\n",
       "      <td>Pakistan</td>\n",
       "      <td>2016</td>\n",
       "      <td>TV-Y</td>\n",
       "      <td>1 Season</td>\n",
       "      <td>Kids' TV</td>\n",
       "      <td>2018</td>\n",
       "    </tr>\n",
       "    <tr>\n",
       "      <th>8789</th>\n",
       "      <td>s8786</td>\n",
       "      <td>TV Show</td>\n",
       "      <td>YOM</td>\n",
       "      <td>Not Given</td>\n",
       "      <td>Pakistan</td>\n",
       "      <td>2016</td>\n",
       "      <td>TV-Y7</td>\n",
       "      <td>1 Season</td>\n",
       "      <td>Kids' TV</td>\n",
       "      <td>2018</td>\n",
       "    </tr>\n",
       "  </tbody>\n",
       "</table>\n",
       "</div>"
      ],
      "text/plain": [
       "     show_id     type               title   director        country  \\\n",
       "8785   s8797  TV Show          Yunus Emre  Not Given         Turkey   \n",
       "8786   s8798  TV Show           Zak Storm  Not Given  United States   \n",
       "8787   s8801  TV Show  Zindagi Gulzar Hai  Not Given       Pakistan   \n",
       "8788   s8784  TV Show                Yoko  Not Given       Pakistan   \n",
       "8789   s8786  TV Show                 YOM  Not Given       Pakistan   \n",
       "\n",
       "      release_year rating   duration                  genres year_added  \n",
       "8785          2016  TV-PG  2 Seasons  International TV Shows       2017  \n",
       "8786          2016  TV-Y7  3 Seasons                Kids' TV       2018  \n",
       "8787          2012  TV-PG   1 Season  International TV Shows       2016  \n",
       "8788          2016   TV-Y   1 Season                Kids' TV       2018  \n",
       "8789          2016  TV-Y7   1 Season                Kids' TV       2018  "
      ]
     },
     "metadata": {},
     "output_type": "display_data"
    },
    {
     "name": "stdout",
     "output_type": "stream",
     "text": [
      "\n",
      "Информация о таблице\n",
      "<class 'pandas.core.frame.DataFrame'>\n",
      "Int64Index: 8790 entries, 0 to 8789\n",
      "Data columns (total 10 columns):\n",
      " #   Column        Non-Null Count  Dtype        \n",
      "---  ------        --------------  -----        \n",
      " 0   show_id       8790 non-null   object       \n",
      " 1   type          8790 non-null   object       \n",
      " 2   title         8790 non-null   object       \n",
      " 3   director      8790 non-null   object       \n",
      " 4   country       8790 non-null   object       \n",
      " 5   release_year  8790 non-null   int64        \n",
      " 6   rating        8790 non-null   object       \n",
      " 7   duration      8790 non-null   object       \n",
      " 8   genres        8790 non-null   object       \n",
      " 9   year_added    8790 non-null   period[A-DEC]\n",
      "dtypes: int64(1), object(8), period[A-DEC](1)\n",
      "memory usage: 755.4+ KB\n",
      "None\n",
      "\n",
      "Наименование колонок\n",
      "Index(['show_id', 'type', 'title', 'director', 'country', 'release_year',\n",
      "       'rating', 'duration', 'genres', 'year_added'],\n",
      "      dtype='object')\n",
      "\n",
      "Типы колонок\n",
      "(8790, 10)\n",
      "\n",
      "Типы колонок\n",
      "show_id                object\n",
      "type                   object\n",
      "title                  object\n",
      "director               object\n",
      "country                object\n",
      "release_year            int64\n",
      "rating                 object\n",
      "duration               object\n",
      "genres                 object\n",
      "year_added      period[A-DEC]\n",
      "dtype: object\n"
     ]
    }
   ],
   "source": [
    "first_check(Netflix)"
   ]
  },
  {
   "cell_type": "code",
   "execution_count": 240,
   "id": "502a9700",
   "metadata": {},
   "outputs": [
    {
     "data": {
      "text/plain": [
       "show_id         8790\n",
       "type               2\n",
       "title           8787\n",
       "director        4528\n",
       "country           86\n",
       "release_year      74\n",
       "rating            14\n",
       "duration         220\n",
       "genres            36\n",
       "year_added        14\n",
       "dtype: int64"
      ]
     },
     "execution_count": 240,
     "metadata": {},
     "output_type": "execute_result"
    }
   ],
   "source": [
    "Netflix.nunique(axis=0)"
   ]
  },
  {
   "cell_type": "markdown",
   "id": "4d5c8214",
   "metadata": {},
   "source": [
    "# 2.3. Detailed dataset analysis: statistical groupings"
   ]
  },
  {
   "cell_type": "code",
   "execution_count": 241,
   "id": "2d338d04",
   "metadata": {},
   "outputs": [
    {
     "data": {
      "text/plain": [
       "69.69283276450511"
      ]
     },
     "execution_count": 241,
     "metadata": {},
     "output_type": "execute_result"
    }
   ],
   "source": [
    "Movies=Netflix[Netflix['type']=='Movie']\n",
    "Movies_perc=Movies.type.count()/Netflix.type.count()*100\n",
    "Movies_perc"
   ]
  },
  {
   "cell_type": "code",
   "execution_count": 242,
   "id": "aacfb993",
   "metadata": {},
   "outputs": [
    {
     "data": {
      "text/plain": [
       "30.307167235494887"
      ]
     },
     "execution_count": 242,
     "metadata": {},
     "output_type": "execute_result"
    }
   ],
   "source": [
    "Shows_perc=100-Movies_perc\n",
    "Shows_perc"
   ]
  },
  {
   "cell_type": "code",
   "execution_count": 243,
   "id": "565305fb",
   "metadata": {},
   "outputs": [
    {
     "data": {
      "text/html": [
       "<div>\n",
       "<style scoped>\n",
       "    .dataframe tbody tr th:only-of-type {\n",
       "        vertical-align: middle;\n",
       "    }\n",
       "\n",
       "    .dataframe tbody tr th {\n",
       "        vertical-align: top;\n",
       "    }\n",
       "\n",
       "    .dataframe thead th {\n",
       "        text-align: right;\n",
       "    }\n",
       "</style>\n",
       "<table border=\"1\" class=\"dataframe\">\n",
       "  <thead>\n",
       "    <tr style=\"text-align: right;\">\n",
       "      <th></th>\n",
       "      <th>show_id</th>\n",
       "      <th>type</th>\n",
       "      <th>title</th>\n",
       "      <th>director</th>\n",
       "      <th>country</th>\n",
       "      <th>release_year</th>\n",
       "      <th>rating</th>\n",
       "      <th>duration</th>\n",
       "      <th>genres</th>\n",
       "      <th>year_added</th>\n",
       "    </tr>\n",
       "  </thead>\n",
       "  <tbody>\n",
       "    <tr>\n",
       "      <th>0</th>\n",
       "      <td>s1</td>\n",
       "      <td>Movie</td>\n",
       "      <td>Dick Johnson Is Dead</td>\n",
       "      <td>Kirsten Johnson</td>\n",
       "      <td>United States</td>\n",
       "      <td>2020</td>\n",
       "      <td>PG-13</td>\n",
       "      <td>90 min</td>\n",
       "      <td>Documentaries</td>\n",
       "      <td>2021</td>\n",
       "    </tr>\n",
       "    <tr>\n",
       "      <th>1</th>\n",
       "      <td>s3</td>\n",
       "      <td>TV Show</td>\n",
       "      <td>Ganglands</td>\n",
       "      <td>Julien Leclercq</td>\n",
       "      <td>France</td>\n",
       "      <td>2021</td>\n",
       "      <td>TV-MA</td>\n",
       "      <td>1 Season</td>\n",
       "      <td>Crime TV Shows</td>\n",
       "      <td>2021</td>\n",
       "    </tr>\n",
       "    <tr>\n",
       "      <th>2</th>\n",
       "      <td>s6</td>\n",
       "      <td>TV Show</td>\n",
       "      <td>Midnight Mass</td>\n",
       "      <td>Mike Flanagan</td>\n",
       "      <td>United States</td>\n",
       "      <td>2021</td>\n",
       "      <td>TV-MA</td>\n",
       "      <td>1 Season</td>\n",
       "      <td>TV Dramas</td>\n",
       "      <td>2021</td>\n",
       "    </tr>\n",
       "    <tr>\n",
       "      <th>3</th>\n",
       "      <td>s14</td>\n",
       "      <td>Movie</td>\n",
       "      <td>Confessions of an Invisible Girl</td>\n",
       "      <td>Bruno Garotti</td>\n",
       "      <td>Brazil</td>\n",
       "      <td>2021</td>\n",
       "      <td>TV-PG</td>\n",
       "      <td>91 min</td>\n",
       "      <td>Children &amp; Family Movies</td>\n",
       "      <td>2021</td>\n",
       "    </tr>\n",
       "    <tr>\n",
       "      <th>4</th>\n",
       "      <td>s8</td>\n",
       "      <td>Movie</td>\n",
       "      <td>Sankofa</td>\n",
       "      <td>Haile Gerima</td>\n",
       "      <td>United States</td>\n",
       "      <td>1993</td>\n",
       "      <td>TV-MA</td>\n",
       "      <td>125 min</td>\n",
       "      <td>Dramas</td>\n",
       "      <td>2021</td>\n",
       "    </tr>\n",
       "    <tr>\n",
       "      <th>...</th>\n",
       "      <td>...</td>\n",
       "      <td>...</td>\n",
       "      <td>...</td>\n",
       "      <td>...</td>\n",
       "      <td>...</td>\n",
       "      <td>...</td>\n",
       "      <td>...</td>\n",
       "      <td>...</td>\n",
       "      <td>...</td>\n",
       "      <td>...</td>\n",
       "    </tr>\n",
       "    <tr>\n",
       "      <th>8785</th>\n",
       "      <td>s8797</td>\n",
       "      <td>TV Show</td>\n",
       "      <td>Yunus Emre</td>\n",
       "      <td>Not Given</td>\n",
       "      <td>Turkey</td>\n",
       "      <td>2016</td>\n",
       "      <td>TV-PG</td>\n",
       "      <td>2 Seasons</td>\n",
       "      <td>International TV Shows</td>\n",
       "      <td>2017</td>\n",
       "    </tr>\n",
       "    <tr>\n",
       "      <th>8786</th>\n",
       "      <td>s8798</td>\n",
       "      <td>TV Show</td>\n",
       "      <td>Zak Storm</td>\n",
       "      <td>Not Given</td>\n",
       "      <td>United States</td>\n",
       "      <td>2016</td>\n",
       "      <td>TV-Y7</td>\n",
       "      <td>3 Seasons</td>\n",
       "      <td>Kids' TV</td>\n",
       "      <td>2018</td>\n",
       "    </tr>\n",
       "    <tr>\n",
       "      <th>8787</th>\n",
       "      <td>s8801</td>\n",
       "      <td>TV Show</td>\n",
       "      <td>Zindagi Gulzar Hai</td>\n",
       "      <td>Not Given</td>\n",
       "      <td>Pakistan</td>\n",
       "      <td>2012</td>\n",
       "      <td>TV-PG</td>\n",
       "      <td>1 Season</td>\n",
       "      <td>International TV Shows</td>\n",
       "      <td>2016</td>\n",
       "    </tr>\n",
       "    <tr>\n",
       "      <th>8788</th>\n",
       "      <td>s8784</td>\n",
       "      <td>TV Show</td>\n",
       "      <td>Yoko</td>\n",
       "      <td>Not Given</td>\n",
       "      <td>Pakistan</td>\n",
       "      <td>2016</td>\n",
       "      <td>TV-Y</td>\n",
       "      <td>1 Season</td>\n",
       "      <td>Kids' TV</td>\n",
       "      <td>2018</td>\n",
       "    </tr>\n",
       "    <tr>\n",
       "      <th>8789</th>\n",
       "      <td>s8786</td>\n",
       "      <td>TV Show</td>\n",
       "      <td>YOM</td>\n",
       "      <td>Not Given</td>\n",
       "      <td>Pakistan</td>\n",
       "      <td>2016</td>\n",
       "      <td>TV-Y7</td>\n",
       "      <td>1 Season</td>\n",
       "      <td>Kids' TV</td>\n",
       "      <td>2018</td>\n",
       "    </tr>\n",
       "  </tbody>\n",
       "</table>\n",
       "<p>8790 rows × 10 columns</p>\n",
       "</div>"
      ],
      "text/plain": [
       "     show_id     type                             title         director  \\\n",
       "0         s1    Movie              Dick Johnson Is Dead  Kirsten Johnson   \n",
       "1         s3  TV Show                         Ganglands  Julien Leclercq   \n",
       "2         s6  TV Show                     Midnight Mass    Mike Flanagan   \n",
       "3        s14    Movie  Confessions of an Invisible Girl    Bruno Garotti   \n",
       "4         s8    Movie                           Sankofa     Haile Gerima   \n",
       "...      ...      ...                               ...              ...   \n",
       "8785   s8797  TV Show                        Yunus Emre        Not Given   \n",
       "8786   s8798  TV Show                         Zak Storm        Not Given   \n",
       "8787   s8801  TV Show                Zindagi Gulzar Hai        Not Given   \n",
       "8788   s8784  TV Show                              Yoko        Not Given   \n",
       "8789   s8786  TV Show                               YOM        Not Given   \n",
       "\n",
       "            country  release_year rating   duration                    genres  \\\n",
       "0     United States          2020  PG-13     90 min             Documentaries   \n",
       "1            France          2021  TV-MA   1 Season            Crime TV Shows   \n",
       "2     United States          2021  TV-MA   1 Season                 TV Dramas   \n",
       "3            Brazil          2021  TV-PG     91 min  Children & Family Movies   \n",
       "4     United States          1993  TV-MA    125 min                    Dramas   \n",
       "...             ...           ...    ...        ...                       ...   \n",
       "8785         Turkey          2016  TV-PG  2 Seasons    International TV Shows   \n",
       "8786  United States          2016  TV-Y7  3 Seasons                  Kids' TV   \n",
       "8787       Pakistan          2012  TV-PG   1 Season    International TV Shows   \n",
       "8788       Pakistan          2016   TV-Y   1 Season                  Kids' TV   \n",
       "8789       Pakistan          2016  TV-Y7   1 Season                  Kids' TV   \n",
       "\n",
       "     year_added  \n",
       "0          2021  \n",
       "1          2021  \n",
       "2          2021  \n",
       "3          2021  \n",
       "4          2021  \n",
       "...         ...  \n",
       "8785       2017  \n",
       "8786       2018  \n",
       "8787       2016  \n",
       "8788       2018  \n",
       "8789       2018  \n",
       "\n",
       "[8790 rows x 10 columns]"
      ]
     },
     "execution_count": 243,
     "metadata": {},
     "output_type": "execute_result"
    }
   ],
   "source": [
    "Netflix"
   ]
  },
  {
   "cell_type": "code",
   "execution_count": 244,
   "id": "713a8b5d",
   "metadata": {},
   "outputs": [
    {
     "data": {
      "text/html": [
       "<div>\n",
       "<style scoped>\n",
       "    .dataframe tbody tr th:only-of-type {\n",
       "        vertical-align: middle;\n",
       "    }\n",
       "\n",
       "    .dataframe tbody tr th {\n",
       "        vertical-align: top;\n",
       "    }\n",
       "\n",
       "    .dataframe thead th {\n",
       "        text-align: right;\n",
       "    }\n",
       "</style>\n",
       "<table border=\"1\" class=\"dataframe\">\n",
       "  <thead>\n",
       "    <tr style=\"text-align: right;\">\n",
       "      <th></th>\n",
       "      <th>type</th>\n",
       "      <th>genres</th>\n",
       "      <th>count</th>\n",
       "    </tr>\n",
       "  </thead>\n",
       "  <tbody>\n",
       "    <tr>\n",
       "      <th>7</th>\n",
       "      <td>Movie</td>\n",
       "      <td>Dramas</td>\n",
       "      <td>1599</td>\n",
       "    </tr>\n",
       "    <tr>\n",
       "      <th>4</th>\n",
       "      <td>Movie</td>\n",
       "      <td>Comedies</td>\n",
       "      <td>1210</td>\n",
       "    </tr>\n",
       "  </tbody>\n",
       "</table>\n",
       "</div>"
      ],
      "text/plain": [
       "    type    genres  count\n",
       "7  Movie    Dramas   1599\n",
       "4  Movie  Comedies   1210"
      ]
     },
     "execution_count": 244,
     "metadata": {},
     "output_type": "execute_result"
    }
   ],
   "source": [
    "movie_genres=Netflix.groupby(['type','genres'], as_index=False).agg({'duration':'count'}).sort_values('duration', ascending=False).query(\"type=='Movie'\").rename(columns={'duration':'count'}).head(5)\n",
    "movie_genres.head(2)"
   ]
  },
  {
   "cell_type": "code",
   "execution_count": 245,
   "id": "5319f73d",
   "metadata": {},
   "outputs": [
    {
     "data": {
      "text/html": [
       "<div>\n",
       "<style scoped>\n",
       "    .dataframe tbody tr th:only-of-type {\n",
       "        vertical-align: middle;\n",
       "    }\n",
       "\n",
       "    .dataframe tbody tr th {\n",
       "        vertical-align: top;\n",
       "    }\n",
       "\n",
       "    .dataframe thead th {\n",
       "        text-align: right;\n",
       "    }\n",
       "</style>\n",
       "<table border=\"1\" class=\"dataframe\">\n",
       "  <thead>\n",
       "    <tr style=\"text-align: right;\">\n",
       "      <th></th>\n",
       "      <th>type</th>\n",
       "      <th>genres</th>\n",
       "      <th>count</th>\n",
       "      <th>perc</th>\n",
       "    </tr>\n",
       "  </thead>\n",
       "  <tbody>\n",
       "    <tr>\n",
       "      <th>7</th>\n",
       "      <td>Movie</td>\n",
       "      <td>Dramas</td>\n",
       "      <td>1599</td>\n",
       "      <td>18.191126</td>\n",
       "    </tr>\n",
       "    <tr>\n",
       "      <th>4</th>\n",
       "      <td>Movie</td>\n",
       "      <td>Comedies</td>\n",
       "      <td>1210</td>\n",
       "      <td>13.765643</td>\n",
       "    </tr>\n",
       "  </tbody>\n",
       "</table>\n",
       "</div>"
      ],
      "text/plain": [
       "    type    genres  count       perc\n",
       "7  Movie    Dramas   1599  18.191126\n",
       "4  Movie  Comedies   1210  13.765643"
      ]
     },
     "execution_count": 245,
     "metadata": {},
     "output_type": "execute_result"
    }
   ],
   "source": [
    "movie_genres['perc']=movie_genres['count']/Netflix.release_year.count()*100\n",
    "movie_genres.head(2)"
   ]
  },
  {
   "cell_type": "code",
   "execution_count": 246,
   "id": "bf8cd241",
   "metadata": {},
   "outputs": [
    {
     "data": {
      "text/html": [
       "<div>\n",
       "<style scoped>\n",
       "    .dataframe tbody tr th:only-of-type {\n",
       "        vertical-align: middle;\n",
       "    }\n",
       "\n",
       "    .dataframe tbody tr th {\n",
       "        vertical-align: top;\n",
       "    }\n",
       "\n",
       "    .dataframe thead th {\n",
       "        text-align: right;\n",
       "    }\n",
       "</style>\n",
       "<table border=\"1\" class=\"dataframe\">\n",
       "  <thead>\n",
       "    <tr style=\"text-align: right;\">\n",
       "      <th></th>\n",
       "      <th>type</th>\n",
       "      <th>genres</th>\n",
       "      <th>count</th>\n",
       "    </tr>\n",
       "  </thead>\n",
       "  <tbody>\n",
       "    <tr>\n",
       "      <th>24</th>\n",
       "      <td>TV Show</td>\n",
       "      <td>International TV Shows</td>\n",
       "      <td>773</td>\n",
       "    </tr>\n",
       "    <tr>\n",
       "      <th>22</th>\n",
       "      <td>TV Show</td>\n",
       "      <td>Crime TV Shows</td>\n",
       "      <td>399</td>\n",
       "    </tr>\n",
       "    <tr>\n",
       "      <th>25</th>\n",
       "      <td>TV Show</td>\n",
       "      <td>Kids' TV</td>\n",
       "      <td>385</td>\n",
       "    </tr>\n",
       "    <tr>\n",
       "      <th>20</th>\n",
       "      <td>TV Show</td>\n",
       "      <td>British TV Shows</td>\n",
       "      <td>252</td>\n",
       "    </tr>\n",
       "    <tr>\n",
       "      <th>23</th>\n",
       "      <td>TV Show</td>\n",
       "      <td>Docuseries</td>\n",
       "      <td>220</td>\n",
       "    </tr>\n",
       "  </tbody>\n",
       "</table>\n",
       "</div>"
      ],
      "text/plain": [
       "       type                  genres  count\n",
       "24  TV Show  International TV Shows    773\n",
       "22  TV Show          Crime TV Shows    399\n",
       "25  TV Show                Kids' TV    385\n",
       "20  TV Show        British TV Shows    252\n",
       "23  TV Show              Docuseries    220"
      ]
     },
     "execution_count": 246,
     "metadata": {},
     "output_type": "execute_result"
    }
   ],
   "source": [
    "shows_genres=Netflix.groupby(['type','genres'], as_index=False).agg({'duration':'count'}).sort_values('duration', ascending=False).query(\"type=='TV Show'\").rename(columns={'duration':'count'}).head(5)\n",
    "shows_genres.head(5)"
   ]
  },
  {
   "cell_type": "code",
   "execution_count": 247,
   "id": "f3a8e55b",
   "metadata": {},
   "outputs": [
    {
     "data": {
      "text/html": [
       "<div>\n",
       "<style scoped>\n",
       "    .dataframe tbody tr th:only-of-type {\n",
       "        vertical-align: middle;\n",
       "    }\n",
       "\n",
       "    .dataframe tbody tr th {\n",
       "        vertical-align: top;\n",
       "    }\n",
       "\n",
       "    .dataframe thead th {\n",
       "        text-align: right;\n",
       "    }\n",
       "</style>\n",
       "<table border=\"1\" class=\"dataframe\">\n",
       "  <thead>\n",
       "    <tr style=\"text-align: right;\">\n",
       "      <th></th>\n",
       "      <th>type</th>\n",
       "      <th>genres</th>\n",
       "      <th>count</th>\n",
       "      <th>perc</th>\n",
       "    </tr>\n",
       "  </thead>\n",
       "  <tbody>\n",
       "    <tr>\n",
       "      <th>24</th>\n",
       "      <td>TV Show</td>\n",
       "      <td>International TV Shows</td>\n",
       "      <td>773</td>\n",
       "      <td>8.794084</td>\n",
       "    </tr>\n",
       "    <tr>\n",
       "      <th>22</th>\n",
       "      <td>TV Show</td>\n",
       "      <td>Crime TV Shows</td>\n",
       "      <td>399</td>\n",
       "      <td>4.539249</td>\n",
       "    </tr>\n",
       "    <tr>\n",
       "      <th>25</th>\n",
       "      <td>TV Show</td>\n",
       "      <td>Kids' TV</td>\n",
       "      <td>385</td>\n",
       "      <td>4.379977</td>\n",
       "    </tr>\n",
       "    <tr>\n",
       "      <th>20</th>\n",
       "      <td>TV Show</td>\n",
       "      <td>British TV Shows</td>\n",
       "      <td>252</td>\n",
       "      <td>2.866894</td>\n",
       "    </tr>\n",
       "    <tr>\n",
       "      <th>23</th>\n",
       "      <td>TV Show</td>\n",
       "      <td>Docuseries</td>\n",
       "      <td>220</td>\n",
       "      <td>2.502844</td>\n",
       "    </tr>\n",
       "  </tbody>\n",
       "</table>\n",
       "</div>"
      ],
      "text/plain": [
       "       type                  genres  count      perc\n",
       "24  TV Show  International TV Shows    773  8.794084\n",
       "22  TV Show          Crime TV Shows    399  4.539249\n",
       "25  TV Show                Kids' TV    385  4.379977\n",
       "20  TV Show        British TV Shows    252  2.866894\n",
       "23  TV Show              Docuseries    220  2.502844"
      ]
     },
     "execution_count": 247,
     "metadata": {},
     "output_type": "execute_result"
    }
   ],
   "source": [
    "shows_genres['perc']=shows_genres['count']/Netflix.release_year.count()*100\n",
    "shows_genres"
   ]
  },
  {
   "cell_type": "markdown",
   "id": "9dd4139a",
   "metadata": {},
   "source": [
    "The largest number of movies by genre are drama - 1599 (18.2%), comedies - 1210 (13.7%), and adventure - 859 (9.8%).\n",
    "\n",
    "The largest number of TV shows by genre are international TV shows - 773 (8.8%), crime - 399 (4.5%), and children's - 385 (4.4%)."
   ]
  },
  {
   "cell_type": "markdown",
   "id": "f4b6c062",
   "metadata": {},
   "source": [
    " "
   ]
  },
  {
   "cell_type": "code",
   "execution_count": 248,
   "id": "f1f42f56",
   "metadata": {},
   "outputs": [
    {
     "data": {
      "text/html": [
       "<div>\n",
       "<style scoped>\n",
       "    .dataframe tbody tr th:only-of-type {\n",
       "        vertical-align: middle;\n",
       "    }\n",
       "\n",
       "    .dataframe tbody tr th {\n",
       "        vertical-align: top;\n",
       "    }\n",
       "\n",
       "    .dataframe thead th {\n",
       "        text-align: right;\n",
       "    }\n",
       "</style>\n",
       "<table border=\"1\" class=\"dataframe\">\n",
       "  <thead>\n",
       "    <tr style=\"text-align: right;\">\n",
       "      <th></th>\n",
       "      <th>year_added</th>\n",
       "      <th>perc</th>\n",
       "    </tr>\n",
       "  </thead>\n",
       "  <tbody>\n",
       "    <tr>\n",
       "      <th>2019</th>\n",
       "      <td>2016</td>\n",
       "      <td>22.935154</td>\n",
       "    </tr>\n",
       "    <tr>\n",
       "      <th>2020</th>\n",
       "      <td>1879</td>\n",
       "      <td>21.376564</td>\n",
       "    </tr>\n",
       "    <tr>\n",
       "      <th>2018</th>\n",
       "      <td>1648</td>\n",
       "      <td>18.748578</td>\n",
       "    </tr>\n",
       "    <tr>\n",
       "      <th>2021</th>\n",
       "      <td>1498</td>\n",
       "      <td>17.042093</td>\n",
       "    </tr>\n",
       "    <tr>\n",
       "      <th>2017</th>\n",
       "      <td>1185</td>\n",
       "      <td>13.481229</td>\n",
       "    </tr>\n",
       "    <tr>\n",
       "      <th>2016</th>\n",
       "      <td>426</td>\n",
       "      <td>4.846416</td>\n",
       "    </tr>\n",
       "    <tr>\n",
       "      <th>2015</th>\n",
       "      <td>82</td>\n",
       "      <td>0.932878</td>\n",
       "    </tr>\n",
       "  </tbody>\n",
       "</table>\n",
       "</div>"
      ],
      "text/plain": [
       "      year_added       perc\n",
       "2019        2016  22.935154\n",
       "2020        1879  21.376564\n",
       "2018        1648  18.748578\n",
       "2021        1498  17.042093\n",
       "2017        1185  13.481229\n",
       "2016         426   4.846416\n",
       "2015          82   0.932878"
      ]
     },
     "execution_count": 248,
     "metadata": {},
     "output_type": "execute_result"
    }
   ],
   "source": [
    "year_added=Netflix.year_added.value_counts().loc[lambda x: x>50].to_frame()\n",
    "year_added['perc']=year_added['year_added']/Netflix.release_year.count()*100\n",
    "year_added"
   ]
  },
  {
   "cell_type": "markdown",
   "id": "7fa6aa24",
   "metadata": {},
   "source": [
    "The largest number of movies were added to the Netflix website in 2019 - 2016 (22.9% of all movies), in 2020 - 1879 (21.4%), in 2018 - 1648 movies (18.7%), in 2017 - 1498 movies (17.1%)."
   ]
  },
  {
   "cell_type": "markdown",
   "id": "19ace665",
   "metadata": {},
   "source": [
    " "
   ]
  },
  {
   "cell_type": "code",
   "execution_count": 249,
   "id": "d15372fa",
   "metadata": {},
   "outputs": [
    {
     "data": {
      "text/html": [
       "<div>\n",
       "<style scoped>\n",
       "    .dataframe tbody tr th:only-of-type {\n",
       "        vertical-align: middle;\n",
       "    }\n",
       "\n",
       "    .dataframe tbody tr th {\n",
       "        vertical-align: top;\n",
       "    }\n",
       "\n",
       "    .dataframe thead th {\n",
       "        text-align: right;\n",
       "    }\n",
       "</style>\n",
       "<table border=\"1\" class=\"dataframe\">\n",
       "  <thead>\n",
       "    <tr style=\"text-align: right;\">\n",
       "      <th></th>\n",
       "      <th>count</th>\n",
       "      <th>perc</th>\n",
       "    </tr>\n",
       "  </thead>\n",
       "  <tbody>\n",
       "    <tr>\n",
       "      <th>United States</th>\n",
       "      <td>3240</td>\n",
       "      <td>36.860068</td>\n",
       "    </tr>\n",
       "    <tr>\n",
       "      <th>India</th>\n",
       "      <td>1057</td>\n",
       "      <td>12.025028</td>\n",
       "    </tr>\n",
       "    <tr>\n",
       "      <th>United Kingdom</th>\n",
       "      <td>638</td>\n",
       "      <td>7.258248</td>\n",
       "    </tr>\n",
       "    <tr>\n",
       "      <th>Pakistan</th>\n",
       "      <td>421</td>\n",
       "      <td>4.789534</td>\n",
       "    </tr>\n",
       "    <tr>\n",
       "      <th>Not Given</th>\n",
       "      <td>287</td>\n",
       "      <td>3.265074</td>\n",
       "    </tr>\n",
       "    <tr>\n",
       "      <th>Canada</th>\n",
       "      <td>271</td>\n",
       "      <td>3.083049</td>\n",
       "    </tr>\n",
       "  </tbody>\n",
       "</table>\n",
       "</div>"
      ],
      "text/plain": [
       "                count       perc\n",
       "United States    3240  36.860068\n",
       "India            1057  12.025028\n",
       "United Kingdom    638   7.258248\n",
       "Pakistan          421   4.789534\n",
       "Not Given         287   3.265074\n",
       "Canada            271   3.083049"
      ]
     },
     "execution_count": 249,
     "metadata": {},
     "output_type": "execute_result"
    }
   ],
   "source": [
    "df_countries=Netflix['country'].value_counts().loc[lambda x : x > 100].to_frame()\n",
    "df_countries.rename\n",
    "df_countries = df_countries.rename(columns={'country': 'count'})\n",
    "df_countries['perc']=df_countries['count']/Netflix['country'].count()*100\n",
    "df_countries.head(6)"
   ]
  },
  {
   "cell_type": "markdown",
   "id": "c91acb8d",
   "metadata": {},
   "source": [
    "The largest number of movies hosted on Netflix were released in the USA - 3240 movies (36.8%), in India - 1057 (12%), in the UK - 638 (7.3%), in Pakistan - 421 (4.8%)."
   ]
  },
  {
   "cell_type": "markdown",
   "id": "9be98d14",
   "metadata": {},
   "source": [
    " "
   ]
  },
  {
   "cell_type": "code",
   "execution_count": 250,
   "id": "ea0b2fd3",
   "metadata": {},
   "outputs": [
    {
     "data": {
      "text/html": [
       "<div>\n",
       "<style scoped>\n",
       "    .dataframe tbody tr th:only-of-type {\n",
       "        vertical-align: middle;\n",
       "    }\n",
       "\n",
       "    .dataframe tbody tr th {\n",
       "        vertical-align: top;\n",
       "    }\n",
       "\n",
       "    .dataframe thead th {\n",
       "        text-align: right;\n",
       "    }\n",
       "</style>\n",
       "<table border=\"1\" class=\"dataframe\">\n",
       "  <thead>\n",
       "    <tr style=\"text-align: right;\">\n",
       "      <th>type</th>\n",
       "      <th>Movie</th>\n",
       "      <th>TV Show</th>\n",
       "      <th>All</th>\n",
       "      <th>Movie_perc</th>\n",
       "      <th>TV show_perc</th>\n",
       "    </tr>\n",
       "    <tr>\n",
       "      <th>rating</th>\n",
       "      <th></th>\n",
       "      <th></th>\n",
       "      <th></th>\n",
       "      <th></th>\n",
       "      <th></th>\n",
       "    </tr>\n",
       "  </thead>\n",
       "  <tbody>\n",
       "    <tr>\n",
       "      <th>G</th>\n",
       "      <td>41</td>\n",
       "      <td>0</td>\n",
       "      <td>41</td>\n",
       "      <td>0.669278</td>\n",
       "      <td>0.000000</td>\n",
       "    </tr>\n",
       "    <tr>\n",
       "      <th>NC-17</th>\n",
       "      <td>3</td>\n",
       "      <td>0</td>\n",
       "      <td>3</td>\n",
       "      <td>0.048972</td>\n",
       "      <td>0.000000</td>\n",
       "    </tr>\n",
       "    <tr>\n",
       "      <th>NR</th>\n",
       "      <td>75</td>\n",
       "      <td>4</td>\n",
       "      <td>79</td>\n",
       "      <td>1.224290</td>\n",
       "      <td>0.150150</td>\n",
       "    </tr>\n",
       "    <tr>\n",
       "      <th>PG</th>\n",
       "      <td>287</td>\n",
       "      <td>0</td>\n",
       "      <td>287</td>\n",
       "      <td>4.684949</td>\n",
       "      <td>0.000000</td>\n",
       "    </tr>\n",
       "    <tr>\n",
       "      <th>PG-13</th>\n",
       "      <td>490</td>\n",
       "      <td>0</td>\n",
       "      <td>490</td>\n",
       "      <td>7.998694</td>\n",
       "      <td>0.000000</td>\n",
       "    </tr>\n",
       "    <tr>\n",
       "      <th>R</th>\n",
       "      <td>797</td>\n",
       "      <td>2</td>\n",
       "      <td>799</td>\n",
       "      <td>13.010121</td>\n",
       "      <td>0.075075</td>\n",
       "    </tr>\n",
       "    <tr>\n",
       "      <th>TV-14</th>\n",
       "      <td>1427</td>\n",
       "      <td>730</td>\n",
       "      <td>2157</td>\n",
       "      <td>23.294156</td>\n",
       "      <td>27.402402</td>\n",
       "    </tr>\n",
       "    <tr>\n",
       "      <th>TV-G</th>\n",
       "      <td>126</td>\n",
       "      <td>94</td>\n",
       "      <td>220</td>\n",
       "      <td>2.056807</td>\n",
       "      <td>3.528529</td>\n",
       "    </tr>\n",
       "    <tr>\n",
       "      <th>TV-MA</th>\n",
       "      <td>2062</td>\n",
       "      <td>1143</td>\n",
       "      <td>3205</td>\n",
       "      <td>33.659811</td>\n",
       "      <td>42.905405</td>\n",
       "    </tr>\n",
       "    <tr>\n",
       "      <th>TV-PG</th>\n",
       "      <td>540</td>\n",
       "      <td>321</td>\n",
       "      <td>861</td>\n",
       "      <td>8.814887</td>\n",
       "      <td>12.049550</td>\n",
       "    </tr>\n",
       "    <tr>\n",
       "      <th>TV-Y</th>\n",
       "      <td>131</td>\n",
       "      <td>175</td>\n",
       "      <td>306</td>\n",
       "      <td>2.138426</td>\n",
       "      <td>6.569069</td>\n",
       "    </tr>\n",
       "    <tr>\n",
       "      <th>TV-Y7</th>\n",
       "      <td>139</td>\n",
       "      <td>194</td>\n",
       "      <td>333</td>\n",
       "      <td>2.269017</td>\n",
       "      <td>7.282282</td>\n",
       "    </tr>\n",
       "    <tr>\n",
       "      <th>TV-Y7-FV</th>\n",
       "      <td>5</td>\n",
       "      <td>1</td>\n",
       "      <td>6</td>\n",
       "      <td>0.081619</td>\n",
       "      <td>0.037538</td>\n",
       "    </tr>\n",
       "    <tr>\n",
       "      <th>UR</th>\n",
       "      <td>3</td>\n",
       "      <td>0</td>\n",
       "      <td>3</td>\n",
       "      <td>0.048972</td>\n",
       "      <td>0.000000</td>\n",
       "    </tr>\n",
       "    <tr>\n",
       "      <th>All</th>\n",
       "      <td>6126</td>\n",
       "      <td>2664</td>\n",
       "      <td>8790</td>\n",
       "      <td>100.000000</td>\n",
       "      <td>100.000000</td>\n",
       "    </tr>\n",
       "  </tbody>\n",
       "</table>\n",
       "</div>"
      ],
      "text/plain": [
       "type      Movie  TV Show   All  Movie_perc  TV show_perc\n",
       "rating                                                  \n",
       "G            41        0    41    0.669278      0.000000\n",
       "NC-17         3        0     3    0.048972      0.000000\n",
       "NR           75        4    79    1.224290      0.150150\n",
       "PG          287        0   287    4.684949      0.000000\n",
       "PG-13       490        0   490    7.998694      0.000000\n",
       "R           797        2   799   13.010121      0.075075\n",
       "TV-14      1427      730  2157   23.294156     27.402402\n",
       "TV-G        126       94   220    2.056807      3.528529\n",
       "TV-MA      2062     1143  3205   33.659811     42.905405\n",
       "TV-PG       540      321   861    8.814887     12.049550\n",
       "TV-Y        131      175   306    2.138426      6.569069\n",
       "TV-Y7       139      194   333    2.269017      7.282282\n",
       "TV-Y7-FV      5        1     6    0.081619      0.037538\n",
       "UR            3        0     3    0.048972      0.000000\n",
       "All        6126     2664  8790  100.000000    100.000000"
      ]
     },
     "execution_count": 250,
     "metadata": {},
     "output_type": "execute_result"
    }
   ],
   "source": [
    "ratings=pd.crosstab(Netflix.rating, Netflix.type, margins=True)\n",
    "ratings['Movie_perc']=ratings['Movie']/6126*100\n",
    "ratings['TV show_perc']=ratings['TV Show']/2664*100\n",
    "ratings"
   ]
  },
  {
   "cell_type": "code",
   "execution_count": 251,
   "id": "9f4211d2",
   "metadata": {},
   "outputs": [
    {
     "data": {
      "text/html": [
       "<div>\n",
       "<style scoped>\n",
       "    .dataframe tbody tr th:only-of-type {\n",
       "        vertical-align: middle;\n",
       "    }\n",
       "\n",
       "    .dataframe tbody tr th {\n",
       "        vertical-align: top;\n",
       "    }\n",
       "\n",
       "    .dataframe thead th {\n",
       "        text-align: right;\n",
       "    }\n",
       "</style>\n",
       "<table border=\"1\" class=\"dataframe\">\n",
       "  <thead>\n",
       "    <tr style=\"text-align: right;\">\n",
       "      <th>type</th>\n",
       "      <th>Movie</th>\n",
       "      <th>TV Show</th>\n",
       "      <th>All</th>\n",
       "      <th>Movie_perc</th>\n",
       "      <th>TV show_perc</th>\n",
       "    </tr>\n",
       "    <tr>\n",
       "      <th>rating</th>\n",
       "      <th></th>\n",
       "      <th></th>\n",
       "      <th></th>\n",
       "      <th></th>\n",
       "      <th></th>\n",
       "    </tr>\n",
       "  </thead>\n",
       "  <tbody>\n",
       "    <tr>\n",
       "      <th>All</th>\n",
       "      <td>6126</td>\n",
       "      <td>2664</td>\n",
       "      <td>8790</td>\n",
       "      <td>100.000000</td>\n",
       "      <td>100.000000</td>\n",
       "    </tr>\n",
       "    <tr>\n",
       "      <th>TV-MA</th>\n",
       "      <td>2062</td>\n",
       "      <td>1143</td>\n",
       "      <td>3205</td>\n",
       "      <td>33.659811</td>\n",
       "      <td>42.905405</td>\n",
       "    </tr>\n",
       "    <tr>\n",
       "      <th>TV-14</th>\n",
       "      <td>1427</td>\n",
       "      <td>730</td>\n",
       "      <td>2157</td>\n",
       "      <td>23.294156</td>\n",
       "      <td>27.402402</td>\n",
       "    </tr>\n",
       "    <tr>\n",
       "      <th>R</th>\n",
       "      <td>797</td>\n",
       "      <td>2</td>\n",
       "      <td>799</td>\n",
       "      <td>13.010121</td>\n",
       "      <td>0.075075</td>\n",
       "    </tr>\n",
       "    <tr>\n",
       "      <th>TV-PG</th>\n",
       "      <td>540</td>\n",
       "      <td>321</td>\n",
       "      <td>861</td>\n",
       "      <td>8.814887</td>\n",
       "      <td>12.049550</td>\n",
       "    </tr>\n",
       "  </tbody>\n",
       "</table>\n",
       "</div>"
      ],
      "text/plain": [
       "type    Movie  TV Show   All  Movie_perc  TV show_perc\n",
       "rating                                                \n",
       "All      6126     2664  8790  100.000000    100.000000\n",
       "TV-MA    2062     1143  3205   33.659811     42.905405\n",
       "TV-14    1427      730  2157   23.294156     27.402402\n",
       "R         797        2   799   13.010121      0.075075\n",
       "TV-PG     540      321   861    8.814887     12.049550"
      ]
     },
     "execution_count": 251,
     "metadata": {},
     "output_type": "execute_result"
    }
   ],
   "source": [
    "ratings.sort_values('Movie', ascending=False).head(5)"
   ]
  },
  {
   "cell_type": "code",
   "execution_count": 252,
   "id": "83b5ad26",
   "metadata": {},
   "outputs": [
    {
     "data": {
      "text/html": [
       "<div>\n",
       "<style scoped>\n",
       "    .dataframe tbody tr th:only-of-type {\n",
       "        vertical-align: middle;\n",
       "    }\n",
       "\n",
       "    .dataframe tbody tr th {\n",
       "        vertical-align: top;\n",
       "    }\n",
       "\n",
       "    .dataframe thead th {\n",
       "        text-align: right;\n",
       "    }\n",
       "</style>\n",
       "<table border=\"1\" class=\"dataframe\">\n",
       "  <thead>\n",
       "    <tr style=\"text-align: right;\">\n",
       "      <th>type</th>\n",
       "      <th>Movie</th>\n",
       "      <th>TV Show</th>\n",
       "      <th>All</th>\n",
       "      <th>Movie_perc</th>\n",
       "      <th>TV show_perc</th>\n",
       "    </tr>\n",
       "    <tr>\n",
       "      <th>rating</th>\n",
       "      <th></th>\n",
       "      <th></th>\n",
       "      <th></th>\n",
       "      <th></th>\n",
       "      <th></th>\n",
       "    </tr>\n",
       "  </thead>\n",
       "  <tbody>\n",
       "    <tr>\n",
       "      <th>All</th>\n",
       "      <td>6126</td>\n",
       "      <td>2664</td>\n",
       "      <td>8790</td>\n",
       "      <td>100.000000</td>\n",
       "      <td>100.000000</td>\n",
       "    </tr>\n",
       "    <tr>\n",
       "      <th>TV-MA</th>\n",
       "      <td>2062</td>\n",
       "      <td>1143</td>\n",
       "      <td>3205</td>\n",
       "      <td>33.659811</td>\n",
       "      <td>42.905405</td>\n",
       "    </tr>\n",
       "    <tr>\n",
       "      <th>TV-14</th>\n",
       "      <td>1427</td>\n",
       "      <td>730</td>\n",
       "      <td>2157</td>\n",
       "      <td>23.294156</td>\n",
       "      <td>27.402402</td>\n",
       "    </tr>\n",
       "    <tr>\n",
       "      <th>TV-PG</th>\n",
       "      <td>540</td>\n",
       "      <td>321</td>\n",
       "      <td>861</td>\n",
       "      <td>8.814887</td>\n",
       "      <td>12.049550</td>\n",
       "    </tr>\n",
       "    <tr>\n",
       "      <th>TV-Y7</th>\n",
       "      <td>139</td>\n",
       "      <td>194</td>\n",
       "      <td>333</td>\n",
       "      <td>2.269017</td>\n",
       "      <td>7.282282</td>\n",
       "    </tr>\n",
       "  </tbody>\n",
       "</table>\n",
       "</div>"
      ],
      "text/plain": [
       "type    Movie  TV Show   All  Movie_perc  TV show_perc\n",
       "rating                                                \n",
       "All      6126     2664  8790  100.000000    100.000000\n",
       "TV-MA    2062     1143  3205   33.659811     42.905405\n",
       "TV-14    1427      730  2157   23.294156     27.402402\n",
       "TV-PG     540      321   861    8.814887     12.049550\n",
       "TV-Y7     139      194   333    2.269017      7.282282"
      ]
     },
     "execution_count": 252,
     "metadata": {},
     "output_type": "execute_result"
    }
   ],
   "source": [
    "ratings.sort_values('TV show_perc', ascending=False).head(5)"
   ]
  },
  {
   "cell_type": "markdown",
   "id": "bcecdf03",
   "metadata": {},
   "source": [
    "The largest number of movies on the Netflix website among all movies with a rating for adults only is 2062 (33.65%), followed by movies with a recommendation for viewing for ages 14+ only with parents (23.3%). As for TV shows and series, those with a rating for adults only are 1143 (42.9%), and those with a recommendation for viewing for ages 14+ only with parents are 27.4%."
   ]
  },
  {
   "cell_type": "markdown",
   "id": "040d18ce",
   "metadata": {},
   "source": [
    " "
   ]
  },
  {
   "cell_type": "markdown",
   "id": "999136a6",
   "metadata": {},
   "source": [
    "# 2.4 Conclusions"
   ]
  },
  {
   "cell_type": "markdown",
   "id": "74a02bca",
   "metadata": {},
   "source": [
    "The Netflix dataset provides information on ID numbers, types (movie or series/TV shows), titles, director names, country of origin of films, date added to the Netflix website, year of release of video products, and age limit.\n",
    "In total, this dataset contains 8787 films. Because there are 8790 lines in the dataset, several lines contain repetitions, which does not require additional cleaning.\n",
    "\n",
    "In this dataset, films make up 69.7% of all available video products, TV series – 30.3%.\n",
    "\n",
    "The largest number of films in the entire sample of this dataset was released in 2018 - 1146 (13%), in 2017 and 2019 - 1030 (11.7%), in 2020 - 953 (10.8%). The largest number of films hosted on Netflix was released in the US - 3240 films (36.8%), India - 1057 (12%), UK - 638 (7.3%), Pakistan - 421 (4.8%).\n",
    "The 1st place in terms of the number of video products on the Netflix website, by country, type and year, is occupied by the United States (307 films in 2017).\n",
    "\n",
    "\n",
    "The largest number of films were added to the Netflix website in 2019 - 2016 (22.9% of all films), in 2020 - 1879 (21.4%), in 2018 - 1648 films (18.7%), in 2017 - 1498 films (17.1%).\n",
    "\n",
    "The largest number of films in the genre of drama - 1599 (18.2%), comedy - 1210 (13.7%) and adventure - 859 (9.8%).\n",
    "The largest number of series and TV shows in the genre of international TV shows - 773 (8.8%), crime - 399 (4.5%) and for children - 385 (4.4%).\n",
    "\n",
    "The highest number of films on the Netflix site of all films rated only for adults - 2062 (33.65%), in second place - films with a recommendation for viewing 14+ only with parents (23.3%), series and TV shows - with an adult rating only - 1143 (42.9%), films with a recommendation for viewing 14+ only with parents (27.4%)\n"
   ]
  },
  {
   "cell_type": "markdown",
   "id": "f712fddb",
   "metadata": {},
   "source": [
    "# 3.Visualization"
   ]
  },
  {
   "cell_type": "markdown",
   "id": "d7247b21",
   "metadata": {},
   "source": [
    "# 3.1. Visualization by country and genres"
   ]
  },
  {
   "cell_type": "code",
   "execution_count": 253,
   "id": "4de1749c",
   "metadata": {},
   "outputs": [
    {
     "data": {
      "text/html": [
       "<div>\n",
       "<style scoped>\n",
       "    .dataframe tbody tr th:only-of-type {\n",
       "        vertical-align: middle;\n",
       "    }\n",
       "\n",
       "    .dataframe tbody tr th {\n",
       "        vertical-align: top;\n",
       "    }\n",
       "\n",
       "    .dataframe thead th {\n",
       "        text-align: right;\n",
       "    }\n",
       "</style>\n",
       "<table border=\"1\" class=\"dataframe\">\n",
       "  <thead>\n",
       "    <tr style=\"text-align: right;\">\n",
       "      <th></th>\n",
       "      <th>show_id</th>\n",
       "      <th>type</th>\n",
       "      <th>title</th>\n",
       "      <th>director</th>\n",
       "      <th>country</th>\n",
       "      <th>release_year</th>\n",
       "      <th>rating</th>\n",
       "      <th>duration</th>\n",
       "      <th>genres</th>\n",
       "      <th>year_added</th>\n",
       "    </tr>\n",
       "  </thead>\n",
       "  <tbody>\n",
       "    <tr>\n",
       "      <th>0</th>\n",
       "      <td>s1</td>\n",
       "      <td>Movie</td>\n",
       "      <td>Dick Johnson Is Dead</td>\n",
       "      <td>Kirsten Johnson</td>\n",
       "      <td>United States</td>\n",
       "      <td>2020</td>\n",
       "      <td>PG-13</td>\n",
       "      <td>90 min</td>\n",
       "      <td>Documentaries</td>\n",
       "      <td>2021</td>\n",
       "    </tr>\n",
       "    <tr>\n",
       "      <th>1</th>\n",
       "      <td>s3</td>\n",
       "      <td>TV Show</td>\n",
       "      <td>Ganglands</td>\n",
       "      <td>Julien Leclercq</td>\n",
       "      <td>France</td>\n",
       "      <td>2021</td>\n",
       "      <td>TV-MA</td>\n",
       "      <td>1 Season</td>\n",
       "      <td>Crime TV Shows</td>\n",
       "      <td>2021</td>\n",
       "    </tr>\n",
       "    <tr>\n",
       "      <th>2</th>\n",
       "      <td>s6</td>\n",
       "      <td>TV Show</td>\n",
       "      <td>Midnight Mass</td>\n",
       "      <td>Mike Flanagan</td>\n",
       "      <td>United States</td>\n",
       "      <td>2021</td>\n",
       "      <td>TV-MA</td>\n",
       "      <td>1 Season</td>\n",
       "      <td>TV Dramas</td>\n",
       "      <td>2021</td>\n",
       "    </tr>\n",
       "    <tr>\n",
       "      <th>3</th>\n",
       "      <td>s14</td>\n",
       "      <td>Movie</td>\n",
       "      <td>Confessions of an Invisible Girl</td>\n",
       "      <td>Bruno Garotti</td>\n",
       "      <td>Brazil</td>\n",
       "      <td>2021</td>\n",
       "      <td>TV-PG</td>\n",
       "      <td>91 min</td>\n",
       "      <td>Children &amp; Family Movies</td>\n",
       "      <td>2021</td>\n",
       "    </tr>\n",
       "    <tr>\n",
       "      <th>4</th>\n",
       "      <td>s8</td>\n",
       "      <td>Movie</td>\n",
       "      <td>Sankofa</td>\n",
       "      <td>Haile Gerima</td>\n",
       "      <td>United States</td>\n",
       "      <td>1993</td>\n",
       "      <td>TV-MA</td>\n",
       "      <td>125 min</td>\n",
       "      <td>Dramas</td>\n",
       "      <td>2021</td>\n",
       "    </tr>\n",
       "  </tbody>\n",
       "</table>\n",
       "</div>"
      ],
      "text/plain": [
       "  show_id     type                             title         director  \\\n",
       "0      s1    Movie              Dick Johnson Is Dead  Kirsten Johnson   \n",
       "1      s3  TV Show                         Ganglands  Julien Leclercq   \n",
       "2      s6  TV Show                     Midnight Mass    Mike Flanagan   \n",
       "3     s14    Movie  Confessions of an Invisible Girl    Bruno Garotti   \n",
       "4      s8    Movie                           Sankofa     Haile Gerima   \n",
       "\n",
       "         country  release_year rating  duration                    genres  \\\n",
       "0  United States          2020  PG-13    90 min             Documentaries   \n",
       "1         France          2021  TV-MA  1 Season            Crime TV Shows   \n",
       "2  United States          2021  TV-MA  1 Season                 TV Dramas   \n",
       "3         Brazil          2021  TV-PG    91 min  Children & Family Movies   \n",
       "4  United States          1993  TV-MA   125 min                    Dramas   \n",
       "\n",
       "  year_added  \n",
       "0       2021  \n",
       "1       2021  \n",
       "2       2021  \n",
       "3       2021  \n",
       "4       2021  "
      ]
     },
     "execution_count": 253,
     "metadata": {},
     "output_type": "execute_result"
    }
   ],
   "source": [
    "Netflix_TV=Netflix[Netflix['type']=='TV Show']\n",
    "Netflix.head(5)"
   ]
  },
  {
   "cell_type": "code",
   "execution_count": 254,
   "id": "a40ec6a8",
   "metadata": {},
   "outputs": [
    {
     "ename": "AttributeError",
     "evalue": "'DataFrame' object has no attribute 'date_added'",
     "output_type": "error",
     "traceback": [
      "\u001b[1;31m---------------------------------------------------------------------------\u001b[0m",
      "\u001b[1;31mAttributeError\u001b[0m                            Traceback (most recent call last)",
      "Input \u001b[1;32mIn [254]\u001b[0m, in \u001b[0;36m<cell line: 7>\u001b[1;34m()\u001b[0m\n\u001b[0;32m      5\u001b[0m df_tv_f \u001b[38;5;241m=\u001b[39m df_tv_f[df_tv_f[\u001b[38;5;124m'\u001b[39m\u001b[38;5;124mcountry\u001b[39m\u001b[38;5;124m'\u001b[39m]\u001b[38;5;241m.\u001b[39misin(order2)]\n\u001b[0;32m      6\u001b[0m base_color \u001b[38;5;241m=\u001b[39m sns\u001b[38;5;241m.\u001b[39mcolor_palette(\u001b[38;5;124m'\u001b[39m\u001b[38;5;124mcoolwarm\u001b[39m\u001b[38;5;124m'\u001b[39m,n_colors\u001b[38;5;241m=\u001b[39m\u001b[38;5;241m5\u001b[39m)\n\u001b[1;32m----> 7\u001b[0m a\u001b[38;5;241m=\u001b[39m\u001b[43mNetflix_TV\u001b[49m\u001b[38;5;241;43m.\u001b[39;49m\u001b[43mdate_added\u001b[49m\u001b[38;5;241m.\u001b[39mdt\u001b[38;5;241m.\u001b[39myear\n\u001b[0;32m      8\u001b[0m tv_g \u001b[38;5;241m=\u001b[39m sns\u001b[38;5;241m.\u001b[39mcountplot(data\u001b[38;5;241m=\u001b[39mdf_tv_f,x\u001b[38;5;241m=\u001b[39m\u001b[38;5;124m'\u001b[39m\u001b[38;5;124mcountry\u001b[39m\u001b[38;5;124m'\u001b[39m,hue\u001b[38;5;241m=\u001b[39m\u001b[38;5;124m'\u001b[39m\u001b[38;5;124mgenres\u001b[39m\u001b[38;5;124m'\u001b[39m, palette\u001b[38;5;241m=\u001b[39m\u001b[38;5;124m'\u001b[39m\u001b[38;5;124mReds_r\u001b[39m\u001b[38;5;124m'\u001b[39m, order\u001b[38;5;241m=\u001b[39morder2)\n\u001b[0;32m      9\u001b[0m tv_g\u001b[38;5;241m.\u001b[39mset_xlabel(\u001b[38;5;124m'\u001b[39m\u001b[38;5;124mCountry\u001b[39m\u001b[38;5;124m'\u001b[39m,fontsize \u001b[38;5;241m=\u001b[39m \u001b[38;5;241m20\u001b[39m)\n",
      "File \u001b[1;32m~\\anaconda3\\lib\\site-packages\\pandas\\core\\generic.py:5575\u001b[0m, in \u001b[0;36mNDFrame.__getattr__\u001b[1;34m(self, name)\u001b[0m\n\u001b[0;32m   5568\u001b[0m \u001b[38;5;28;01mif\u001b[39;00m (\n\u001b[0;32m   5569\u001b[0m     name \u001b[38;5;129;01mnot\u001b[39;00m \u001b[38;5;129;01min\u001b[39;00m \u001b[38;5;28mself\u001b[39m\u001b[38;5;241m.\u001b[39m_internal_names_set\n\u001b[0;32m   5570\u001b[0m     \u001b[38;5;129;01mand\u001b[39;00m name \u001b[38;5;129;01mnot\u001b[39;00m \u001b[38;5;129;01min\u001b[39;00m \u001b[38;5;28mself\u001b[39m\u001b[38;5;241m.\u001b[39m_metadata\n\u001b[0;32m   5571\u001b[0m     \u001b[38;5;129;01mand\u001b[39;00m name \u001b[38;5;129;01mnot\u001b[39;00m \u001b[38;5;129;01min\u001b[39;00m \u001b[38;5;28mself\u001b[39m\u001b[38;5;241m.\u001b[39m_accessors\n\u001b[0;32m   5572\u001b[0m     \u001b[38;5;129;01mand\u001b[39;00m \u001b[38;5;28mself\u001b[39m\u001b[38;5;241m.\u001b[39m_info_axis\u001b[38;5;241m.\u001b[39m_can_hold_identifiers_and_holds_name(name)\n\u001b[0;32m   5573\u001b[0m ):\n\u001b[0;32m   5574\u001b[0m     \u001b[38;5;28;01mreturn\u001b[39;00m \u001b[38;5;28mself\u001b[39m[name]\n\u001b[1;32m-> 5575\u001b[0m \u001b[38;5;28;01mreturn\u001b[39;00m \u001b[38;5;28;43mobject\u001b[39;49m\u001b[38;5;241;43m.\u001b[39;49m\u001b[38;5;21;43m__getattribute__\u001b[39;49m\u001b[43m(\u001b[49m\u001b[38;5;28;43mself\u001b[39;49m\u001b[43m,\u001b[49m\u001b[43m \u001b[49m\u001b[43mname\u001b[49m\u001b[43m)\u001b[49m\n",
      "\u001b[1;31mAttributeError\u001b[0m: 'DataFrame' object has no attribute 'date_added'"
     ]
    },
    {
     "data": {
      "text/plain": [
       "<Figure size 1440x720 with 0 Axes>"
      ]
     },
     "metadata": {},
     "output_type": "display_data"
    }
   ],
   "source": [
    "plt.figure(figsize=[20,10])\n",
    "order1 = Netflix_TV.groupby('genres').count().sort_values(by = 'show_id',ascending=False)[0:7].index\n",
    "df_tv_f = Netflix_TV[Netflix_TV['genres'].isin(order1)]\n",
    "order2 = df_tv_f.groupby('country').count().sort_values(by = 'show_id',ascending=False)[0:7].index\n",
    "df_tv_f = df_tv_f[df_tv_f['country'].isin(order2)]\n",
    "base_color = sns.color_palette('coolwarm',n_colors=5)\n",
    "a=Netflix_TV.date_added.dt.year\n",
    "tv_g = sns.countplot(data=df_tv_f,x='country',hue='genres', palette='Reds_r', order=order2)\n",
    "tv_g.set_xlabel('Country',fontsize = 20)\n",
    "tv_g.set_ylabel('Number of TV Shows',fontsize = 20)\n",
    "tv_g.set_title(\"Relationship between Netflix TV Show Genres and Countries in which these were produced\",fontsize = 20)\n",
    "plt.legend(title = 'Genre', loc = 'upper right')"
   ]
  },
  {
   "cell_type": "markdown",
   "id": "3901cb61",
   "metadata": {},
   "source": [
    "Thus, it can be concluded that in the USA, the first place in terms of TV shows produced by genre for all years is occupied by children's TV shows and documentary series, in Pakistan (in terms of quantity) - international TV shows, in the UK - reality shows, in Japan - documentary series, and in South Korea, India, and Taiwan - international TV shows."
   ]
  },
  {
   "cell_type": "code",
   "execution_count": null,
   "id": "e8bee2e5",
   "metadata": {},
   "outputs": [],
   "source": [
    "Netflix_Movies=Netflix[Netflix['type']=='Movie']\n",
    "Netflix_Movies"
   ]
  },
  {
   "cell_type": "code",
   "execution_count": 255,
   "id": "04fda08c",
   "metadata": {},
   "outputs": [
    {
     "ename": "AttributeError",
     "evalue": "'DataFrame' object has no attribute 'date_added'",
     "output_type": "error",
     "traceback": [
      "\u001b[1;31m---------------------------------------------------------------------------\u001b[0m",
      "\u001b[1;31mAttributeError\u001b[0m                            Traceback (most recent call last)",
      "Input \u001b[1;32mIn [255]\u001b[0m, in \u001b[0;36m<cell line: 7>\u001b[1;34m()\u001b[0m\n\u001b[0;32m      5\u001b[0m df_tv_f \u001b[38;5;241m=\u001b[39m df_tv_f[df_tv_f[\u001b[38;5;124m'\u001b[39m\u001b[38;5;124mcountry\u001b[39m\u001b[38;5;124m'\u001b[39m]\u001b[38;5;241m.\u001b[39misin(order2)]\n\u001b[0;32m      6\u001b[0m base_color \u001b[38;5;241m=\u001b[39m sns\u001b[38;5;241m.\u001b[39mcolor_palette(\u001b[38;5;124m'\u001b[39m\u001b[38;5;124mcoolwarm\u001b[39m\u001b[38;5;124m'\u001b[39m,n_colors\u001b[38;5;241m=\u001b[39m\u001b[38;5;241m5\u001b[39m)\n\u001b[1;32m----> 7\u001b[0m a\u001b[38;5;241m=\u001b[39m\u001b[43mNetflix_TV\u001b[49m\u001b[38;5;241;43m.\u001b[39;49m\u001b[43mdate_added\u001b[49m\u001b[38;5;241m.\u001b[39mdt\u001b[38;5;241m.\u001b[39myear\n\u001b[0;32m      8\u001b[0m tv_g \u001b[38;5;241m=\u001b[39m sns\u001b[38;5;241m.\u001b[39mcountplot(data\u001b[38;5;241m=\u001b[39mdf_tv_f,x\u001b[38;5;241m=\u001b[39m\u001b[38;5;124m'\u001b[39m\u001b[38;5;124mcountry\u001b[39m\u001b[38;5;124m'\u001b[39m,hue\u001b[38;5;241m=\u001b[39m\u001b[38;5;124m'\u001b[39m\u001b[38;5;124mgenres\u001b[39m\u001b[38;5;124m'\u001b[39m, palette\u001b[38;5;241m=\u001b[39m\u001b[38;5;124m'\u001b[39m\u001b[38;5;124mReds_r\u001b[39m\u001b[38;5;124m'\u001b[39m, order\u001b[38;5;241m=\u001b[39morder2)\n\u001b[0;32m      9\u001b[0m tv_g\u001b[38;5;241m.\u001b[39mset_xlabel(\u001b[38;5;124m'\u001b[39m\u001b[38;5;124mCountry\u001b[39m\u001b[38;5;124m'\u001b[39m,fontsize \u001b[38;5;241m=\u001b[39m \u001b[38;5;241m15\u001b[39m)\n",
      "File \u001b[1;32m~\\anaconda3\\lib\\site-packages\\pandas\\core\\generic.py:5575\u001b[0m, in \u001b[0;36mNDFrame.__getattr__\u001b[1;34m(self, name)\u001b[0m\n\u001b[0;32m   5568\u001b[0m \u001b[38;5;28;01mif\u001b[39;00m (\n\u001b[0;32m   5569\u001b[0m     name \u001b[38;5;129;01mnot\u001b[39;00m \u001b[38;5;129;01min\u001b[39;00m \u001b[38;5;28mself\u001b[39m\u001b[38;5;241m.\u001b[39m_internal_names_set\n\u001b[0;32m   5570\u001b[0m     \u001b[38;5;129;01mand\u001b[39;00m name \u001b[38;5;129;01mnot\u001b[39;00m \u001b[38;5;129;01min\u001b[39;00m \u001b[38;5;28mself\u001b[39m\u001b[38;5;241m.\u001b[39m_metadata\n\u001b[0;32m   5571\u001b[0m     \u001b[38;5;129;01mand\u001b[39;00m name \u001b[38;5;129;01mnot\u001b[39;00m \u001b[38;5;129;01min\u001b[39;00m \u001b[38;5;28mself\u001b[39m\u001b[38;5;241m.\u001b[39m_accessors\n\u001b[0;32m   5572\u001b[0m     \u001b[38;5;129;01mand\u001b[39;00m \u001b[38;5;28mself\u001b[39m\u001b[38;5;241m.\u001b[39m_info_axis\u001b[38;5;241m.\u001b[39m_can_hold_identifiers_and_holds_name(name)\n\u001b[0;32m   5573\u001b[0m ):\n\u001b[0;32m   5574\u001b[0m     \u001b[38;5;28;01mreturn\u001b[39;00m \u001b[38;5;28mself\u001b[39m[name]\n\u001b[1;32m-> 5575\u001b[0m \u001b[38;5;28;01mreturn\u001b[39;00m \u001b[38;5;28;43mobject\u001b[39;49m\u001b[38;5;241;43m.\u001b[39;49m\u001b[38;5;21;43m__getattribute__\u001b[39;49m\u001b[43m(\u001b[49m\u001b[38;5;28;43mself\u001b[39;49m\u001b[43m,\u001b[49m\u001b[43m \u001b[49m\u001b[43mname\u001b[49m\u001b[43m)\u001b[49m\n",
      "\u001b[1;31mAttributeError\u001b[0m: 'DataFrame' object has no attribute 'date_added'"
     ]
    },
    {
     "data": {
      "text/plain": [
       "<Figure size 1440x720 with 0 Axes>"
      ]
     },
     "metadata": {},
     "output_type": "display_data"
    }
   ],
   "source": [
    "plt.figure(figsize=[20,10])\n",
    "order1 = Netflix_Movies.groupby('genres').count().sort_values(by = 'show_id',ascending=False)[0:7].index\n",
    "df_tv_f = Netflix_Movies[Netflix_Movies['genres'].isin(order1)]\n",
    "order2 = df_tv_f.groupby('country').count().sort_values(by = 'show_id',ascending=False)[0:7].index\n",
    "df_tv_f = df_tv_f[df_tv_f['country'].isin(order2)]\n",
    "base_color = sns.color_palette('coolwarm',n_colors=5)\n",
    "a=Netflix_TV.date_added.dt.year\n",
    "tv_g = sns.countplot(data=df_tv_f,x='country',hue='genres', palette='Reds_r', order=order2)\n",
    "tv_g.set_xlabel('Country',fontsize = 15)\n",
    "tv_g.set_ylabel('Number of Movies',fontsize = 15)\n",
    "tv_g.set_title(\"Relationship between Netflix TV Show Genres and Countries in which these were produced\",fontsize = 20)\n",
    "plt.legend(title = 'Genre', loc = 'upper right')"
   ]
  },
  {
   "cell_type": "markdown",
   "id": "a536bc9b",
   "metadata": {},
   "source": [
    "Thus, it can be concluded that in the USA, the first place in terms of movies released by genre for all years is occupied by dramas and documentary films, followed by comedies. In India, dramas take the first place, while in the UK, documentary films are the most prevalent."
   ]
  },
  {
   "cell_type": "markdown",
   "id": "14ae7f3f",
   "metadata": {},
   "source": [
    "Таким образом, наибольшее количество фильмов, загруженных на нетфтликс – фильмы для взрослых, на втором месте – для дтей 14+ с рекомендацией к просмотру только с родителями."
   ]
  },
  {
   "cell_type": "markdown",
   "id": "53543c53",
   "metadata": {},
   "source": [
    "# 3.2. Analysis of the dynamics of downloaded video products"
   ]
  },
  {
   "cell_type": "code",
   "execution_count": 256,
   "id": "a36c325e",
   "metadata": {},
   "outputs": [
    {
     "ename": "AttributeError",
     "evalue": "'DataFrame' object has no attribute 'date_added'",
     "output_type": "error",
     "traceback": [
      "\u001b[1;31m---------------------------------------------------------------------------\u001b[0m",
      "\u001b[1;31mAttributeError\u001b[0m                            Traceback (most recent call last)",
      "Input \u001b[1;32mIn [256]\u001b[0m, in \u001b[0;36m<cell line: 3>\u001b[1;34m()\u001b[0m\n\u001b[0;32m      1\u001b[0m plt\u001b[38;5;241m.\u001b[39mfigure(figsize\u001b[38;5;241m=\u001b[39m[\u001b[38;5;241m20\u001b[39m,\u001b[38;5;241m10\u001b[39m])\n\u001b[0;32m      2\u001b[0m base_color \u001b[38;5;241m=\u001b[39m sns\u001b[38;5;241m.\u001b[39mcolor_palette(\u001b[38;5;124m'\u001b[39m\u001b[38;5;124mcoolwarm\u001b[39m\u001b[38;5;124m'\u001b[39m,n_colors\u001b[38;5;241m=\u001b[39m\u001b[38;5;241m5\u001b[39m)\n\u001b[1;32m----> 3\u001b[0m tv_movie \u001b[38;5;241m=\u001b[39m sns\u001b[38;5;241m.\u001b[39mcountplot(x\u001b[38;5;241m=\u001b[39m\u001b[43mNetflix\u001b[49m\u001b[38;5;241;43m.\u001b[39;49m\u001b[43mdate_added\u001b[49m\u001b[38;5;241m.\u001b[39mdt\u001b[38;5;241m.\u001b[39myear, data\u001b[38;5;241m=\u001b[39mNetflix, hue\u001b[38;5;241m=\u001b[39m\u001b[38;5;124m'\u001b[39m\u001b[38;5;124mtype\u001b[39m\u001b[38;5;124m'\u001b[39m, palette \u001b[38;5;241m=\u001b[39m \u001b[38;5;124m\"\u001b[39m\u001b[38;5;124mReds_r\u001b[39m\u001b[38;5;124m\"\u001b[39m)\n\u001b[0;32m      4\u001b[0m tv_movie\u001b[38;5;241m.\u001b[39mset_title(\u001b[38;5;124m\"\u001b[39m\u001b[38;5;124mNumber of TV Shows and Movies Netflix has released per Year\u001b[39m\u001b[38;5;124m\"\u001b[39m,fontsize \u001b[38;5;241m=\u001b[39m \u001b[38;5;241m20\u001b[39m)\n\u001b[0;32m      5\u001b[0m tv_movie\u001b[38;5;241m.\u001b[39mset_xlabel(\u001b[38;5;124m'\u001b[39m\u001b[38;5;124mYear\u001b[39m\u001b[38;5;124m'\u001b[39m,fontsize \u001b[38;5;241m=\u001b[39m \u001b[38;5;241m15\u001b[39m)\n",
      "File \u001b[1;32m~\\anaconda3\\lib\\site-packages\\pandas\\core\\generic.py:5575\u001b[0m, in \u001b[0;36mNDFrame.__getattr__\u001b[1;34m(self, name)\u001b[0m\n\u001b[0;32m   5568\u001b[0m \u001b[38;5;28;01mif\u001b[39;00m (\n\u001b[0;32m   5569\u001b[0m     name \u001b[38;5;129;01mnot\u001b[39;00m \u001b[38;5;129;01min\u001b[39;00m \u001b[38;5;28mself\u001b[39m\u001b[38;5;241m.\u001b[39m_internal_names_set\n\u001b[0;32m   5570\u001b[0m     \u001b[38;5;129;01mand\u001b[39;00m name \u001b[38;5;129;01mnot\u001b[39;00m \u001b[38;5;129;01min\u001b[39;00m \u001b[38;5;28mself\u001b[39m\u001b[38;5;241m.\u001b[39m_metadata\n\u001b[0;32m   5571\u001b[0m     \u001b[38;5;129;01mand\u001b[39;00m name \u001b[38;5;129;01mnot\u001b[39;00m \u001b[38;5;129;01min\u001b[39;00m \u001b[38;5;28mself\u001b[39m\u001b[38;5;241m.\u001b[39m_accessors\n\u001b[0;32m   5572\u001b[0m     \u001b[38;5;129;01mand\u001b[39;00m \u001b[38;5;28mself\u001b[39m\u001b[38;5;241m.\u001b[39m_info_axis\u001b[38;5;241m.\u001b[39m_can_hold_identifiers_and_holds_name(name)\n\u001b[0;32m   5573\u001b[0m ):\n\u001b[0;32m   5574\u001b[0m     \u001b[38;5;28;01mreturn\u001b[39;00m \u001b[38;5;28mself\u001b[39m[name]\n\u001b[1;32m-> 5575\u001b[0m \u001b[38;5;28;01mreturn\u001b[39;00m \u001b[38;5;28;43mobject\u001b[39;49m\u001b[38;5;241;43m.\u001b[39;49m\u001b[38;5;21;43m__getattribute__\u001b[39;49m\u001b[43m(\u001b[49m\u001b[38;5;28;43mself\u001b[39;49m\u001b[43m,\u001b[49m\u001b[43m \u001b[49m\u001b[43mname\u001b[49m\u001b[43m)\u001b[49m\n",
      "\u001b[1;31mAttributeError\u001b[0m: 'DataFrame' object has no attribute 'date_added'"
     ]
    },
    {
     "data": {
      "text/plain": [
       "<Figure size 1440x720 with 0 Axes>"
      ]
     },
     "metadata": {},
     "output_type": "display_data"
    }
   ],
   "source": [
    "plt.figure(figsize=[20,10])\n",
    "base_color = sns.color_palette('coolwarm',n_colors=5)\n",
    "tv_movie = sns.countplot(x=Netflix.date_added.dt.year, data=Netflix, hue='type', palette = \"Reds_r\")\n",
    "tv_movie.set_title(\"Number of TV Shows and Movies Netflix has released per Year\",fontsize = 20)\n",
    "tv_movie.set_xlabel('Year',fontsize = 15)\n",
    "tv_movie.set_ylabel('Number of Movies/TV Shows',fontsize = 15)\n",
    "for container in tv_movie.containers:\n",
    "    tv_movie.bar_label(container)"
   ]
  },
  {
   "cell_type": "markdown",
   "id": "bd48b6c4",
   "metadata": {},
   "source": [
    "The number of movies added to the Netflix platform in 2018 and 2019 combined exceeded the total number of movies added in previous years from 2008 to 2017. In addition, the number of movies on Netflix in 2018 was almost four times greater than the number of TV shows. The number of movies uploaded to Netflix had a positive trend until 2019, after which it began to decline.\n",
    "\n",
    "The decrease in the volume of uploaded movies was lower in 2019 compared to 2020, 2021 in all countries that are in the top for the number of uploaded movies in the USA, India, and the UK. This may be due to the pandemic or the fact that in the early years of Netflix's active operation, it constantly loaded movies that were not previously available."
   ]
  },
  {
   "cell_type": "markdown",
   "id": "b5b94c78",
   "metadata": {},
   "source": [
    "# 3.3. Analytics TOP-10"
   ]
  },
  {
   "cell_type": "code",
   "execution_count": 257,
   "id": "840ce654",
   "metadata": {},
   "outputs": [
    {
     "data": {
      "image/png": "[encoded data removed]",
      "text/plain": [
       "<Figure size 1080x504 with 1 Axes>"
      ]
     },
     "metadata": {
      "needs_background": "light"
     },
     "output_type": "display_data"
    }
   ],
   "source": [
    "plt.figure(figsize = (15,7))\n",
    "top_10 = Netflix['director'].value_counts().drop('Not Given').head(10)\n",
    "sns.barplot(x = top_10.values, y  = top_10.index , edgecolor = 'k', linewidth = 1, saturation = 11, color = '#b30007', alpha =0.8)\n",
    "\n",
    "plt.title(\"Top 10 Directors\", fontsize = 12, fontweight = 'heavy')\n",
    "plt.show()"
   ]
  },
  {
   "cell_type": "markdown",
   "id": "90ab7065",
   "metadata": {},
   "source": [
    "At the top of the list for the number of released video content are Rajiv Chilaka, Alastair Forthergill, Raul Campos, and Jan Suter.\n",
    "\n",
    "Rajiv Chilaka is an Indian film director and producer. He is the founder and CEO of Green Gold Animation, a company that specializes in producing animated films and TV shows.\n",
    "\n",
    "Alastair Forthergill is a well-known British producer and director of nature documentaries. He is a co-founder of Silverback Films, which produces documentaries such as \"Planet Earth II,\" \"Our Planet,\" and \"Wild Islands.\"\n",
    "\n",
    "Raul Campos and Jan Suter are radio hosts on KCRW radio station in Los Angeles, USA. They are the hosts of the \"Metropolis\" program, which airs every night and is dedicated to contemporary music."
   ]
  },
  {
   "cell_type": "markdown",
   "id": "d578dac6",
   "metadata": {},
   "source": [
    " "
   ]
  },
  {
   "cell_type": "code",
   "execution_count": 258,
   "id": "5bd91116",
   "metadata": {},
   "outputs": [
    {
     "data": {
      "image/png": "[encoded data removed]",
      "text/plain": [
       "<Figure size 1080x504 with 1 Axes>"
      ]
     },
     "metadata": {
      "needs_background": "light"
     },
     "output_type": "display_data"
    }
   ],
   "source": [
    "plt.figure(figsize = (15,7))\n",
    "top_10 = Netflix['country'].value_counts().drop('Not Given').head(10)\n",
    "sns.barplot(x = top_10.values, y  = top_10.index , edgecolor = 'k', linewidth = 1, saturation = 1, color = '#b30007', alpha =0.8)\n",
    "\n",
    "plt.title(\"Top 10 Countries\", fontsize = 14, fontweight = 'heavy')\n",
    "plt.show()"
   ]
  },
  {
   "cell_type": "markdown",
   "id": "56b61765",
   "metadata": {},
   "source": [
    "In terms of the number of video content uploaded to Netflix, the leading positions are occupied by the USA, India, and the UK."
   ]
  },
  {
   "cell_type": "markdown",
   "id": "748c29c6",
   "metadata": {},
   "source": [
    " "
   ]
  },
  {
   "cell_type": "code",
   "execution_count": 259,
   "id": "9b5781c5",
   "metadata": {},
   "outputs": [
    {
     "data": {
      "image/png": "[encoded data removed]",
      "text/plain": [
       "<Figure size 1080x504 with 1 Axes>"
      ]
     },
     "metadata": {
      "needs_background": "light"
     },
     "output_type": "display_data"
    }
   ],
   "source": [
    "plt.figure(figsize = (15,7))\n",
    "top_10 = Netflix['genres'].value_counts().head(10)\n",
    "sns.barplot(x = top_10.values, y  = top_10.index , edgecolor = 'k', linewidth = 1, saturation = 11, color = '#b30007', alpha =0.8)\n",
    "\n",
    "plt.title(\"Top 10 Genres\", fontsize = 12, fontweight = 'heavy')\n",
    "plt.show()"
   ]
  },
  {
   "cell_type": "markdown",
   "id": "aa8b0e64",
   "metadata": {},
   "source": [
    "The largest amount of video content uploaded to Netflix is comprised of dramas, comedies, and adventures.\n",
    "\n"
   ]
  },
  {
   "cell_type": "markdown",
   "id": "c229b508",
   "metadata": {},
   "source": [
    " "
   ]
  },
  {
   "cell_type": "markdown",
   "id": "9be1e535",
   "metadata": {},
   "source": [
    "# 3.4. Age rating detalization"
   ]
  },
  {
   "cell_type": "code",
   "execution_count": 260,
   "id": "cf637703",
   "metadata": {},
   "outputs": [
    {
     "data": {
      "text/plain": [
       "<AxesSubplot:xlabel='rating', ylabel='count'>"
      ]
     },
     "execution_count": 260,
     "metadata": {},
     "output_type": "execute_result"
    },
    {
     "data": {
      "image/png": "[encoded data removed]",
      "text/plain": [
       "<Figure size 864x576 with 1 Axes>"
      ]
     },
     "metadata": {
      "needs_background": "light"
     },
     "output_type": "display_data"
    }
   ],
   "source": [
    "plt.figure(figsize = (12,8))\n",
    "sns.countplot(x='rating',data = Netflix, linewidth = 2, color = \"#b30007\")\n",
    "\n"
   ]
  },
  {
   "cell_type": "markdown",
   "id": "0a3afbe8",
   "metadata": {},
   "source": [
    "The graph contains values by the number of films by ratings, which are used to classify content in cinema, television and other media formats depending on whether it is suitable for children and what age category.\n",
    "\n",
    "According to the age limit, video products that are suitable for viewing only by adults prevail, in second place is content for children 14+ for viewing with parents.\n"
   ]
  },
  {
   "cell_type": "markdown",
   "id": "0bd43348",
   "metadata": {},
   "source": [
    " "
   ]
  },
  {
   "cell_type": "markdown",
   "id": "1d389a65",
   "metadata": {},
   "source": [
    "# 3.5. Map chart"
   ]
  },
  {
   "cell_type": "code",
   "execution_count": 261,
   "id": "e2d40052",
   "metadata": {},
   "outputs": [],
   "source": [
    "data=pd.read_csv('archive.zip', parse_dates=['date_added'])"
   ]
  },
  {
   "cell_type": "code",
   "execution_count": 262,
   "id": "8a3d37d7",
   "metadata": {},
   "outputs": [
    {
     "data": {
      "text/html": [
       "<div>\n",
       "<style scoped>\n",
       "    .dataframe tbody tr th:only-of-type {\n",
       "        vertical-align: middle;\n",
       "    }\n",
       "\n",
       "    .dataframe tbody tr th {\n",
       "        vertical-align: top;\n",
       "    }\n",
       "\n",
       "    .dataframe thead th {\n",
       "        text-align: right;\n",
       "    }\n",
       "</style>\n",
       "<table border=\"1\" class=\"dataframe\">\n",
       "  <thead>\n",
       "    <tr style=\"text-align: right;\">\n",
       "      <th></th>\n",
       "      <th>release_year</th>\n",
       "      <th>country</th>\n",
       "      <th>counts</th>\n",
       "    </tr>\n",
       "  </thead>\n",
       "  <tbody>\n",
       "    <tr>\n",
       "      <th>0</th>\n",
       "      <td>1925</td>\n",
       "      <td>Pakistan</td>\n",
       "      <td>1</td>\n",
       "    </tr>\n",
       "    <tr>\n",
       "      <th>1</th>\n",
       "      <td>1942</td>\n",
       "      <td>United States</td>\n",
       "      <td>2</td>\n",
       "    </tr>\n",
       "    <tr>\n",
       "      <th>2</th>\n",
       "      <td>1943</td>\n",
       "      <td>United States</td>\n",
       "      <td>3</td>\n",
       "    </tr>\n",
       "    <tr>\n",
       "      <th>3</th>\n",
       "      <td>1944</td>\n",
       "      <td>United States</td>\n",
       "      <td>3</td>\n",
       "    </tr>\n",
       "    <tr>\n",
       "      <th>4</th>\n",
       "      <td>1945</td>\n",
       "      <td>United States</td>\n",
       "      <td>4</td>\n",
       "    </tr>\n",
       "    <tr>\n",
       "      <th>...</th>\n",
       "      <td>...</td>\n",
       "      <td>...</td>\n",
       "      <td>...</td>\n",
       "    </tr>\n",
       "    <tr>\n",
       "      <th>885</th>\n",
       "      <td>2021</td>\n",
       "      <td>Philippines</td>\n",
       "      <td>1</td>\n",
       "    </tr>\n",
       "    <tr>\n",
       "      <th>886</th>\n",
       "      <td>2021</td>\n",
       "      <td>Russia</td>\n",
       "      <td>1</td>\n",
       "    </tr>\n",
       "    <tr>\n",
       "      <th>887</th>\n",
       "      <td>2021</td>\n",
       "      <td>Taiwan</td>\n",
       "      <td>1</td>\n",
       "    </tr>\n",
       "    <tr>\n",
       "      <th>888</th>\n",
       "      <td>2021</td>\n",
       "      <td>Uruguay</td>\n",
       "      <td>1</td>\n",
       "    </tr>\n",
       "    <tr>\n",
       "      <th>889</th>\n",
       "      <td>2021</td>\n",
       "      <td>Vietnam</td>\n",
       "      <td>1</td>\n",
       "    </tr>\n",
       "  </tbody>\n",
       "</table>\n",
       "<p>890 rows × 3 columns</p>\n",
       "</div>"
      ],
      "text/plain": [
       "     release_year        country  counts\n",
       "0            1925       Pakistan       1\n",
       "1            1942  United States       2\n",
       "2            1943  United States       3\n",
       "3            1944  United States       3\n",
       "4            1945  United States       4\n",
       "..            ...            ...     ...\n",
       "885          2021    Philippines       1\n",
       "886          2021         Russia       1\n",
       "887          2021         Taiwan       1\n",
       "888          2021        Uruguay       1\n",
       "889          2021        Vietnam       1\n",
       "\n",
       "[890 rows x 3 columns]"
      ]
     },
     "execution_count": 262,
     "metadata": {},
     "output_type": "execute_result"
    }
   ],
   "source": [
    "year_country2 = data.groupby('release_year')['country'].value_counts().reset_index(name='counts')\n",
    "year_country2"
   ]
  },
  {
   "cell_type": "code",
   "execution_count": 263,
   "id": "94d3fa7e",
   "metadata": {},
   "outputs": [
    {
     "data": {
      "application/vnd.plotly.v1+json": {
       "config": {
        "plotlyServerURL": "https://plot.ly"
       },
       "data": [
        {
         "coloraxis": "coloraxis",
         "geo": "geo",
         "hovertemplate": "release_year=1925<br>country=%{location}<br>counts=%{z}<extra></extra>",
         "locationmode": "country names",
         "locations": [
          "Pakistan"
         ],
         "name": "",
         "type": "choropleth",
         "z": [
          1
         ]
        }
       ],
       "frames": [
        {
         "data": [
          {
           "coloraxis": "coloraxis",
           "geo": "geo",
           "hovertemplate": "release_year=1925<br>country=%{location}<br>counts=%{z}<extra></extra>",
           "locationmode": "country names",
           "locations": [
            "Pakistan"
           ],
           "name": "",
           "type": "choropleth",
           "z": [
            1
           ]
          }
         ],
         "name": "1925"
        },
        {
         "data": [
          {
           "coloraxis": "coloraxis",
           "geo": "geo",
           "hovertemplate": "release_year=1942<br>country=%{location}<br>counts=%{z}<extra></extra>",
           "locationmode": "country names",
           "locations": [
            "United States"
           ],
           "name": "",
           "type": "choropleth",
           "z": [
            2
           ]
          }
         ],
         "name": "1942"
        },
        {
         "data": [
          {
           "coloraxis": "coloraxis",
           "geo": "geo",
           "hovertemplate": "release_year=1943<br>country=%{location}<br>counts=%{z}<extra></extra>",
           "locationmode": "country names",
           "locations": [
            "United States"
           ],
           "name": "",
           "type": "choropleth",
           "z": [
            3
           ]
          }
         ],
         "name": "1943"
        },
        {
         "data": [
          {
           "coloraxis": "coloraxis",
           "geo": "geo",
           "hovertemplate": "release_year=1944<br>country=%{location}<br>counts=%{z}<extra></extra>",
           "locationmode": "country names",
           "locations": [
            "United States"
           ],
           "name": "",
           "type": "choropleth",
           "z": [
            3
           ]
          }
         ],
         "name": "1944"
        },
        {
         "data": [
          {
           "coloraxis": "coloraxis",
           "geo": "geo",
           "hovertemplate": "release_year=1945<br>country=%{location}<br>counts=%{z}<extra></extra>",
           "locationmode": "country names",
           "locations": [
            "United States"
           ],
           "name": "",
           "type": "choropleth",
           "z": [
            4
           ]
          }
         ],
         "name": "1945"
        },
        {
         "data": [
          {
           "coloraxis": "coloraxis",
           "geo": "geo",
           "hovertemplate": "release_year=1946<br>country=%{location}<br>counts=%{z}<extra></extra>",
           "locationmode": "country names",
           "locations": [
            "United States"
           ],
           "name": "",
           "type": "choropleth",
           "z": [
            2
           ]
          }
         ],
         "name": "1946"
        },
        {
         "data": [
          {
           "coloraxis": "coloraxis",
           "geo": "geo",
           "hovertemplate": "release_year=1947<br>country=%{location}<br>counts=%{z}<extra></extra>",
           "locationmode": "country names",
           "locations": [
            "United States"
           ],
           "name": "",
           "type": "choropleth",
           "z": [
            1
           ]
          }
         ],
         "name": "1947"
        },
        {
         "data": [
          {
           "coloraxis": "coloraxis",
           "geo": "geo",
           "hovertemplate": "release_year=1954<br>country=%{location}<br>counts=%{z}<extra></extra>",
           "locationmode": "country names",
           "locations": [
            "Egypt",
            "United States"
           ],
           "name": "",
           "type": "choropleth",
           "z": [
            1,
            1
           ]
          }
         ],
         "name": "1954"
        },
        {
         "data": [
          {
           "coloraxis": "coloraxis",
           "geo": "geo",
           "hovertemplate": "release_year=1955<br>country=%{location}<br>counts=%{z}<extra></extra>",
           "locationmode": "country names",
           "locations": [
            "Italy",
            "United States"
           ],
           "name": "",
           "type": "choropleth",
           "z": [
            2,
            1
           ]
          }
         ],
         "name": "1955"
        },
        {
         "data": [
          {
           "coloraxis": "coloraxis",
           "geo": "geo",
           "hovertemplate": "release_year=1956<br>country=%{location}<br>counts=%{z}<extra></extra>",
           "locationmode": "country names",
           "locations": [
            "Egypt",
            "United States"
           ],
           "name": "",
           "type": "choropleth",
           "z": [
            1,
            1
           ]
          }
         ],
         "name": "1956"
        },
        {
         "data": [
          {
           "coloraxis": "coloraxis",
           "geo": "geo",
           "hovertemplate": "release_year=1958<br>country=%{location}<br>counts=%{z}<extra></extra>",
           "locationmode": "country names",
           "locations": [
            "United States",
            "Egypt"
           ],
           "name": "",
           "type": "choropleth",
           "z": [
            2,
            1
           ]
          }
         ],
         "name": "1958"
        },
        {
         "data": [
          {
           "coloraxis": "coloraxis",
           "geo": "geo",
           "hovertemplate": "release_year=1959<br>country=%{location}<br>counts=%{z}<extra></extra>",
           "locationmode": "country names",
           "locations": [
            "India"
           ],
           "name": "",
           "type": "choropleth",
           "z": [
            1
           ]
          }
         ],
         "name": "1959"
        },
        {
         "data": [
          {
           "coloraxis": "coloraxis",
           "geo": "geo",
           "hovertemplate": "release_year=1960<br>country=%{location}<br>counts=%{z}<extra></extra>",
           "locationmode": "country names",
           "locations": [
            "United States",
            "India",
            "Not Given"
           ],
           "name": "",
           "type": "choropleth",
           "z": [
            2,
            1,
            1
           ]
          }
         ],
         "name": "1960"
        },
        {
         "data": [
          {
           "coloraxis": "coloraxis",
           "geo": "geo",
           "hovertemplate": "release_year=1961<br>country=%{location}<br>counts=%{z}<extra></extra>",
           "locationmode": "country names",
           "locations": [
            "United Kingdom"
           ],
           "name": "",
           "type": "choropleth",
           "z": [
            1
           ]
          }
         ],
         "name": "1961"
        },
        {
         "data": [
          {
           "coloraxis": "coloraxis",
           "geo": "geo",
           "hovertemplate": "release_year=1962<br>country=%{location}<br>counts=%{z}<extra></extra>",
           "locationmode": "country names",
           "locations": [
            "India",
            "United Kingdom",
            "United States"
           ],
           "name": "",
           "type": "choropleth",
           "z": [
            1,
            1,
            1
           ]
          }
         ],
         "name": "1962"
        },
        {
         "data": [
          {
           "coloraxis": "coloraxis",
           "geo": "geo",
           "hovertemplate": "release_year=1963<br>country=%{location}<br>counts=%{z}<extra></extra>",
           "locationmode": "country names",
           "locations": [
            "Egypt",
            "United States"
           ],
           "name": "",
           "type": "choropleth",
           "z": [
            1,
            1
           ]
          }
         ],
         "name": "1963"
        },
        {
         "data": [
          {
           "coloraxis": "coloraxis",
           "geo": "geo",
           "hovertemplate": "release_year=1964<br>country=%{location}<br>counts=%{z}<extra></extra>",
           "locationmode": "country names",
           "locations": [
            "India",
            "United States"
           ],
           "name": "",
           "type": "choropleth",
           "z": [
            1,
            1
           ]
          }
         ],
         "name": "1964"
        },
        {
         "data": [
          {
           "coloraxis": "coloraxis",
           "geo": "geo",
           "hovertemplate": "release_year=1965<br>country=%{location}<br>counts=%{z}<extra></extra>",
           "locationmode": "country names",
           "locations": [
            "United States"
           ],
           "name": "",
           "type": "choropleth",
           "z": [
            2
           ]
          }
         ],
         "name": "1965"
        },
        {
         "data": [
          {
           "coloraxis": "coloraxis",
           "geo": "geo",
           "hovertemplate": "release_year=1966<br>country=%{location}<br>counts=%{z}<extra></extra>",
           "locationmode": "country names",
           "locations": [
            "India"
           ],
           "name": "",
           "type": "choropleth",
           "z": [
            1
           ]
          }
         ],
         "name": "1966"
        },
        {
         "data": [
          {
           "coloraxis": "coloraxis",
           "geo": "geo",
           "hovertemplate": "release_year=1967<br>country=%{location}<br>counts=%{z}<extra></extra>",
           "locationmode": "country names",
           "locations": [
            "United States",
            "Poland"
           ],
           "name": "",
           "type": "choropleth",
           "z": [
            4,
            1
           ]
          }
         ],
         "name": "1967"
        },
        {
         "data": [
          {
           "coloraxis": "coloraxis",
           "geo": "geo",
           "hovertemplate": "release_year=1968<br>country=%{location}<br>counts=%{z}<extra></extra>",
           "locationmode": "country names",
           "locations": [
            "Italy",
            "United Kingdom",
            "United States"
           ],
           "name": "",
           "type": "choropleth",
           "z": [
            1,
            1,
            1
           ]
          }
         ],
         "name": "1968"
        },
        {
         "data": [
          {
           "coloraxis": "coloraxis",
           "geo": "geo",
           "hovertemplate": "release_year=1969<br>country=%{location}<br>counts=%{z}<extra></extra>",
           "locationmode": "country names",
           "locations": [
            "India",
            "United States"
           ],
           "name": "",
           "type": "choropleth",
           "z": [
            1,
            1
           ]
          }
         ],
         "name": "1969"
        },
        {
         "data": [
          {
           "coloraxis": "coloraxis",
           "geo": "geo",
           "hovertemplate": "release_year=1970<br>country=%{location}<br>counts=%{z}<extra></extra>",
           "locationmode": "country names",
           "locations": [
            "Egypt",
            "Poland"
           ],
           "name": "",
           "type": "choropleth",
           "z": [
            1,
            1
           ]
          }
         ],
         "name": "1970"
        },
        {
         "data": [
          {
           "coloraxis": "coloraxis",
           "geo": "geo",
           "hovertemplate": "release_year=1971<br>country=%{location}<br>counts=%{z}<extra></extra>",
           "locationmode": "country names",
           "locations": [
            "India",
            "United States",
            "United Kingdom"
           ],
           "name": "",
           "type": "choropleth",
           "z": [
            2,
            2,
            1
           ]
          }
         ],
         "name": "1971"
        },
        {
         "data": [
          {
           "coloraxis": "coloraxis",
           "geo": "geo",
           "hovertemplate": "release_year=1972<br>country=%{location}<br>counts=%{z}<extra></extra>",
           "locationmode": "country names",
           "locations": [
            "India",
            "United States",
            "United Kingdom"
           ],
           "name": "",
           "type": "choropleth",
           "z": [
            2,
            2,
            1
           ]
          }
         ],
         "name": "1972"
        },
        {
         "data": [
          {
           "coloraxis": "coloraxis",
           "geo": "geo",
           "hovertemplate": "release_year=1973<br>country=%{location}<br>counts=%{z}<extra></extra>",
           "locationmode": "country names",
           "locations": [
            "United States",
            "Hong Kong",
            "India",
            "Egypt",
            "Poland"
           ],
           "name": "",
           "type": "choropleth",
           "z": [
            4,
            2,
            2,
            1,
            1
           ]
          }
         ],
         "name": "1973"
        },
        {
         "data": [
          {
           "coloraxis": "coloraxis",
           "geo": "geo",
           "hovertemplate": "release_year=1974<br>country=%{location}<br>counts=%{z}<extra></extra>",
           "locationmode": "country names",
           "locations": [
            "United States",
            "India",
            "France",
            "United Kingdom"
           ],
           "name": "",
           "type": "choropleth",
           "z": [
            3,
            2,
            1,
            1
           ]
          }
         ],
         "name": "1974"
        },
        {
         "data": [
          {
           "coloraxis": "coloraxis",
           "geo": "geo",
           "hovertemplate": "release_year=1975<br>country=%{location}<br>counts=%{z}<extra></extra>",
           "locationmode": "country names",
           "locations": [
            "India",
            "Hong Kong",
            "Lebanon",
            "Poland",
            "United Kingdom",
            "United States"
           ],
           "name": "",
           "type": "choropleth",
           "z": [
            2,
            1,
            1,
            1,
            1,
            1
           ]
          }
         ],
         "name": "1975"
        },
        {
         "data": [
          {
           "coloraxis": "coloraxis",
           "geo": "geo",
           "hovertemplate": "release_year=1976<br>country=%{location}<br>counts=%{z}<extra></extra>",
           "locationmode": "country names",
           "locations": [
            "United States",
            "Egypt",
            "India"
           ],
           "name": "",
           "type": "choropleth",
           "z": [
            5,
            2,
            2
           ]
          }
         ],
         "name": "1976"
        },
        {
         "data": [
          {
           "coloraxis": "coloraxis",
           "geo": "geo",
           "hovertemplate": "release_year=1977<br>country=%{location}<br>counts=%{z}<extra></extra>",
           "locationmode": "country names",
           "locations": [
            "United States",
            "India",
            "United Kingdom",
            "West Germany"
           ],
           "name": "",
           "type": "choropleth",
           "z": [
            3,
            2,
            1,
            1
           ]
          }
         ],
         "name": "1977"
        },
        {
         "data": [
          {
           "coloraxis": "coloraxis",
           "geo": "geo",
           "hovertemplate": "release_year=1978<br>country=%{location}<br>counts=%{z}<extra></extra>",
           "locationmode": "country names",
           "locations": [
            "United States",
            "Hong Kong",
            "India",
            "Poland"
           ],
           "name": "",
           "type": "choropleth",
           "z": [
            3,
            2,
            1,
            1
           ]
          }
         ],
         "name": "1978"
        },
        {
         "data": [
          {
           "coloraxis": "coloraxis",
           "geo": "geo",
           "hovertemplate": "release_year=1979<br>country=%{location}<br>counts=%{z}<extra></extra>",
           "locationmode": "country names",
           "locations": [
            "Egypt",
            "India",
            "United States",
            "Australia",
            "Japan",
            "Lebanon",
            "Mexico",
            "United Kingdom"
           ],
           "name": "",
           "type": "choropleth",
           "z": [
            2,
            2,
            2,
            1,
            1,
            1,
            1,
            1
           ]
          }
         ],
         "name": "1979"
        },
        {
         "data": [
          {
           "coloraxis": "coloraxis",
           "geo": "geo",
           "hovertemplate": "release_year=1980<br>country=%{location}<br>counts=%{z}<extra></extra>",
           "locationmode": "country names",
           "locations": [
            "United States",
            "Hong Kong",
            "India",
            "Lebanon",
            "Soviet Union"
           ],
           "name": "",
           "type": "choropleth",
           "z": [
            5,
            2,
            2,
            1,
            1
           ]
          }
         ],
         "name": "1980"
        },
        {
         "data": [
          {
           "coloraxis": "coloraxis",
           "geo": "geo",
           "hovertemplate": "release_year=1981<br>country=%{location}<br>counts=%{z}<extra></extra>",
           "locationmode": "country names",
           "locations": [
            "United States",
            "Not Given",
            "Australia",
            "Egypt",
            "Hong Kong",
            "India",
            "Japan",
            "Kuwait"
           ],
           "name": "",
           "type": "choropleth",
           "z": [
            5,
            2,
            1,
            1,
            1,
            1,
            1,
            1
           ]
          }
         ],
         "name": "1981"
        },
        {
         "data": [
          {
           "coloraxis": "coloraxis",
           "geo": "geo",
           "hovertemplate": "release_year=1982<br>country=%{location}<br>counts=%{z}<extra></extra>",
           "locationmode": "country names",
           "locations": [
            "India",
            "United States",
            "Hong Kong",
            "Not Given",
            "Egypt",
            "France",
            "Poland",
            "United Kingdom"
           ],
           "name": "",
           "type": "choropleth",
           "z": [
            6,
            3,
            2,
            2,
            1,
            1,
            1,
            1
           ]
          }
         ],
         "name": "1982"
        },
        {
         "data": [
          {
           "coloraxis": "coloraxis",
           "geo": "geo",
           "hovertemplate": "release_year=1983<br>country=%{location}<br>counts=%{z}<extra></extra>",
           "locationmode": "country names",
           "locations": [
            "India",
            "Hong Kong",
            "United States",
            "Not Given",
            "Poland"
           ],
           "name": "",
           "type": "choropleth",
           "z": [
            4,
            3,
            2,
            1,
            1
           ]
          }
         ],
         "name": "1983"
        },
        {
         "data": [
          {
           "coloraxis": "coloraxis",
           "geo": "geo",
           "hovertemplate": "release_year=1984<br>country=%{location}<br>counts=%{z}<extra></extra>",
           "locationmode": "country names",
           "locations": [
            "United States",
            "Hong Kong",
            "India",
            "Italy",
            "Not Given"
           ],
           "name": "",
           "type": "choropleth",
           "z": [
            5,
            3,
            2,
            1,
            1
           ]
          }
         ],
         "name": "1984"
        },
        {
         "data": [
          {
           "coloraxis": "coloraxis",
           "geo": "geo",
           "hovertemplate": "release_year=1985<br>country=%{location}<br>counts=%{z}<extra></extra>",
           "locationmode": "country names",
           "locations": [
            "Argentina",
            "Hong Kong",
            "India",
            "United States",
            "Not Given",
            "Poland"
           ],
           "name": "",
           "type": "choropleth",
           "z": [
            2,
            2,
            2,
            2,
            1,
            1
           ]
          }
         ],
         "name": "1985"
        },
        {
         "data": [
          {
           "coloraxis": "coloraxis",
           "geo": "geo",
           "hovertemplate": "release_year=1986<br>country=%{location}<br>counts=%{z}<extra></extra>",
           "locationmode": "country names",
           "locations": [
            "United States",
            "India",
            "Hong Kong",
            "Italy",
            "Japan",
            "United Kingdom"
           ],
           "name": "",
           "type": "choropleth",
           "z": [
            7,
            2,
            1,
            1,
            1,
            1
           ]
          }
         ],
         "name": "1986"
        },
        {
         "data": [
          {
           "coloraxis": "coloraxis",
           "geo": "geo",
           "hovertemplate": "release_year=1987<br>country=%{location}<br>counts=%{z}<extra></extra>",
           "locationmode": "country names",
           "locations": [
            "United States",
            "India"
           ],
           "name": "",
           "type": "choropleth",
           "z": [
            7,
            1
           ]
          }
         ],
         "name": "1987"
        },
        {
         "data": [
          {
           "coloraxis": "coloraxis",
           "geo": "geo",
           "hovertemplate": "release_year=1988<br>country=%{location}<br>counts=%{z}<extra></extra>",
           "locationmode": "country names",
           "locations": [
            "United States",
            "India",
            "Hong Kong",
            "Not Given"
           ],
           "name": "",
           "type": "choropleth",
           "z": [
            14,
            2,
            1,
            1
           ]
          }
         ],
         "name": "1988"
        },
        {
         "data": [
          {
           "coloraxis": "coloraxis",
           "geo": "geo",
           "hovertemplate": "release_year=1989<br>country=%{location}<br>counts=%{z}<extra></extra>",
           "locationmode": "country names",
           "locations": [
            "United States",
            "India",
            "Denmark",
            "Egypt",
            "Hong Kong",
            "Ireland",
            "United Kingdom"
           ],
           "name": "",
           "type": "choropleth",
           "z": [
            9,
            2,
            1,
            1,
            1,
            1,
            1
           ]
          }
         ],
         "name": "1989"
        },
        {
         "data": [
          {
           "coloraxis": "coloraxis",
           "geo": "geo",
           "hovertemplate": "release_year=1990<br>country=%{location}<br>counts=%{z}<extra></extra>",
           "locationmode": "country names",
           "locations": [
            "United States",
            "India",
            "Not Given",
            "Australia",
            "Hong Kong",
            "Poland"
           ],
           "name": "",
           "type": "choropleth",
           "z": [
            13,
            4,
            2,
            1,
            1,
            1
           ]
          }
         ],
         "name": "1990"
        },
        {
         "data": [
          {
           "coloraxis": "coloraxis",
           "geo": "geo",
           "hovertemplate": "release_year=1991<br>country=%{location}<br>counts=%{z}<extra></extra>",
           "locationmode": "country names",
           "locations": [
            "United States",
            "United Kingdom",
            "France",
            "India",
            "Mexico",
            "Pakistan"
           ],
           "name": "",
           "type": "choropleth",
           "z": [
            11,
            2,
            1,
            1,
            1,
            1
           ]
          }
         ],
         "name": "1991"
        },
        {
         "data": [
          {
           "coloraxis": "coloraxis",
           "geo": "geo",
           "hovertemplate": "release_year=1992<br>country=%{location}<br>counts=%{z}<extra></extra>",
           "locationmode": "country names",
           "locations": [
            "United States",
            "United Kingdom",
            "Hong Kong",
            "Australia",
            "France",
            "India",
            "Mexico",
            "Not Given"
           ],
           "name": "",
           "type": "choropleth",
           "z": [
            10,
            4,
            3,
            2,
            1,
            1,
            1,
            1
           ]
          }
         ],
         "name": "1992"
        },
        {
         "data": [
          {
           "coloraxis": "coloraxis",
           "geo": "geo",
           "hovertemplate": "release_year=1993<br>country=%{location}<br>counts=%{z}<extra></extra>",
           "locationmode": "country names",
           "locations": [
            "United States",
            "India",
            "Hong Kong",
            "United Kingdom",
            "Argentina",
            "France",
            "New Zealand",
            "Not Given"
           ],
           "name": "",
           "type": "choropleth",
           "z": [
            17,
            3,
            2,
            2,
            1,
            1,
            1,
            1
           ]
          }
         ],
         "name": "1993"
        },
        {
         "data": [
          {
           "coloraxis": "coloraxis",
           "geo": "geo",
           "hovertemplate": "release_year=1994<br>country=%{location}<br>counts=%{z}<extra></extra>",
           "locationmode": "country names",
           "locations": [
            "United States",
            "India",
            "United Kingdom",
            "Egypt",
            "Hong Kong",
            "Pakistan"
           ],
           "name": "",
           "type": "choropleth",
           "z": [
            11,
            5,
            3,
            1,
            1,
            1
           ]
          }
         ],
         "name": "1994"
        },
        {
         "data": [
          {
           "coloraxis": "coloraxis",
           "geo": "geo",
           "hovertemplate": "release_year=1995<br>country=%{location}<br>counts=%{z}<extra></extra>",
           "locationmode": "country names",
           "locations": [
            "United States",
            "India",
            "Hong Kong",
            "Japan",
            "United Kingdom"
           ],
           "name": "",
           "type": "choropleth",
           "z": [
            16,
            5,
            2,
            1,
            1
           ]
          }
         ],
         "name": "1995"
        },
        {
         "data": [
          {
           "coloraxis": "coloraxis",
           "geo": "geo",
           "hovertemplate": "release_year=1996<br>country=%{location}<br>counts=%{z}<extra></extra>",
           "locationmode": "country names",
           "locations": [
            "United States",
            "India",
            "Not Given",
            "Pakistan",
            "United Kingdom"
           ],
           "name": "",
           "type": "choropleth",
           "z": [
            17,
            3,
            2,
            1,
            1
           ]
          }
         ],
         "name": "1996"
        },
        {
         "data": [
          {
           "coloraxis": "coloraxis",
           "geo": "geo",
           "hovertemplate": "release_year=1997<br>country=%{location}<br>counts=%{z}<extra></extra>",
           "locationmode": "country names",
           "locations": [
            "United States",
            "India",
            "Canada",
            "United Kingdom",
            "Hong Kong",
            "Egypt",
            "Japan"
           ],
           "name": "",
           "type": "choropleth",
           "z": [
            24,
            4,
            3,
            3,
            2,
            1,
            1
           ]
          }
         ],
         "name": "1997"
        },
        {
         "data": [
          {
           "coloraxis": "coloraxis",
           "geo": "geo",
           "hovertemplate": "release_year=1998<br>country=%{location}<br>counts=%{z}<extra></extra>",
           "locationmode": "country names",
           "locations": [
            "United States",
            "India",
            "Canada",
            "Japan",
            "United Kingdom",
            "Argentina",
            "Australia",
            "Ireland"
           ],
           "name": "",
           "type": "choropleth",
           "z": [
            21,
            6,
            2,
            2,
            2,
            1,
            1,
            1
           ]
          }
         ],
         "name": "1998"
        },
        {
         "data": [
          {
           "coloraxis": "coloraxis",
           "geo": "geo",
           "hovertemplate": "release_year=1999<br>country=%{location}<br>counts=%{z}<extra></extra>",
           "locationmode": "country names",
           "locations": [
            "United States",
            "India",
            "United Kingdom",
            "Germany",
            "Mexico",
            "Australia",
            "Egypt",
            "France",
            "Japan",
            "Thailand",
            "Turkey"
           ],
           "name": "",
           "type": "choropleth",
           "z": [
            20,
            6,
            3,
            2,
            2,
            1,
            1,
            1,
            1,
            1,
            1
           ]
          }
         ],
         "name": "1999"
        },
        {
         "data": [
          {
           "coloraxis": "coloraxis",
           "geo": "geo",
           "hovertemplate": "release_year=2000<br>country=%{location}<br>counts=%{z}<extra></extra>",
           "locationmode": "country names",
           "locations": [
            "United States",
            "India",
            "Germany",
            "United Kingdom",
            "France",
            "Japan",
            "Taiwan"
           ],
           "name": "",
           "type": "choropleth",
           "z": [
            23,
            7,
            2,
            2,
            1,
            1,
            1
           ]
          }
         ],
         "name": "2000"
        },
        {
         "data": [
          {
           "coloraxis": "coloraxis",
           "geo": "geo",
           "hovertemplate": "release_year=2001<br>country=%{location}<br>counts=%{z}<extra></extra>",
           "locationmode": "country names",
           "locations": [
            "United States",
            "India",
            "Japan",
            "United Kingdom",
            "Australia",
            "Germany",
            "Hong Kong",
            "Mexico",
            "Not Given",
            "Turkey"
           ],
           "name": "",
           "type": "choropleth",
           "z": [
            27,
            8,
            2,
            2,
            1,
            1,
            1,
            1,
            1,
            1
           ]
          }
         ],
         "name": "2001"
        },
        {
         "data": [
          {
           "coloraxis": "coloraxis",
           "geo": "geo",
           "hovertemplate": "release_year=2002<br>country=%{location}<br>counts=%{z}<extra></extra>",
           "locationmode": "country names",
           "locations": [
            "United States",
            "India",
            "United Kingdom",
            "Japan",
            "France",
            "Taiwan",
            "Brazil",
            "Hong Kong",
            "Indonesia",
            "New Zealand",
            "Pakistan",
            "South Africa",
            "Thailand"
           ],
           "name": "",
           "type": "choropleth",
           "z": [
            22,
            10,
            5,
            3,
            2,
            2,
            1,
            1,
            1,
            1,
            1,
            1,
            1
           ]
          }
         ],
         "name": "2002"
        },
        {
         "data": [
          {
           "coloraxis": "coloraxis",
           "geo": "geo",
           "hovertemplate": "release_year=2003<br>country=%{location}<br>counts=%{z}<extra></extra>",
           "locationmode": "country names",
           "locations": [
            "United States",
            "India",
            "Japan",
            "United Kingdom",
            "Colombia",
            "Indonesia",
            "Lebanon",
            "Malaysia",
            "New Zealand",
            "Nigeria",
            "Pakistan",
            "Taiwan"
           ],
           "name": "",
           "type": "choropleth",
           "z": [
            31,
            14,
            4,
            2,
            1,
            1,
            1,
            1,
            1,
            1,
            1,
            1
           ]
          }
         ],
         "name": "2003"
        },
        {
         "data": [
          {
           "coloraxis": "coloraxis",
           "geo": "geo",
           "hovertemplate": "release_year=2004<br>country=%{location}<br>counts=%{z}<extra></extra>",
           "locationmode": "country names",
           "locations": [
            "United States",
            "India",
            "Japan",
            "United Kingdom",
            "Canada",
            "Egypt",
            "Hong Kong",
            "Mexico",
            "Taiwan",
            "Turkey",
            "Argentina",
            "France",
            "Malaysia",
            "Nigeria",
            "Pakistan",
            "South Korea",
            "Spain",
            "Thailand",
            "Uruguay"
           ],
           "name": "",
           "type": "choropleth",
           "z": [
            22,
            15,
            3,
            3,
            2,
            2,
            2,
            2,
            2,
            2,
            1,
            1,
            1,
            1,
            1,
            1,
            1,
            1,
            1
           ]
          }
         ],
         "name": "2004"
        },
        {
         "data": [
          {
           "coloraxis": "coloraxis",
           "geo": "geo",
           "hovertemplate": "release_year=2005<br>country=%{location}<br>counts=%{z}<extra></extra>",
           "locationmode": "country names",
           "locations": [
            "United States",
            "India",
            "United Kingdom",
            "Turkey",
            "Germany",
            "Japan",
            "Taiwan",
            "Australia",
            "China",
            "Egypt",
            "France",
            "Indonesia",
            "Lebanon",
            "Pakistan",
            "Romania",
            "Sweden",
            "Thailand"
           ],
           "name": "",
           "type": "choropleth",
           "z": [
            37,
            20,
            4,
            3,
            2,
            2,
            2,
            1,
            1,
            1,
            1,
            1,
            1,
            1,
            1,
            1,
            1
           ]
          }
         ],
         "name": "2005"
        },
        {
         "data": [
          {
           "coloraxis": "coloraxis",
           "geo": "geo",
           "hovertemplate": "release_year=2006<br>country=%{location}<br>counts=%{z}<extra></extra>",
           "locationmode": "country names",
           "locations": [
            "United States",
            "India",
            "United Kingdom",
            "Egypt",
            "Japan",
            "Argentina",
            "Canada",
            "Turkey",
            "Australia",
            "France",
            "Germany",
            "Hong Kong",
            "Malaysia",
            "Mexico",
            "Netherlands",
            "Philippines",
            "Saudi Arabia"
           ],
           "name": "",
           "type": "choropleth",
           "z": [
            41,
            21,
            7,
            5,
            5,
            3,
            3,
            2,
            1,
            1,
            1,
            1,
            1,
            1,
            1,
            1,
            1
           ]
          }
         ],
         "name": "2006"
        },
        {
         "data": [
          {
           "coloraxis": "coloraxis",
           "geo": "geo",
           "hovertemplate": "release_year=2007<br>country=%{location}<br>counts=%{z}<extra></extra>",
           "locationmode": "country names",
           "locations": [
            "United States",
            "India",
            "Hong Kong",
            "United Kingdom",
            "Canada",
            "Egypt",
            "France",
            "Germany",
            "Japan",
            "Thailand",
            "Argentina",
            "Australia",
            "Colombia",
            "Denmark",
            "Mexico",
            "New Zealand",
            "Norway",
            "Pakistan",
            "Philippines",
            "Venezuela"
           ],
           "name": "",
           "type": "choropleth",
           "z": [
            44,
            16,
            3,
            3,
            2,
            2,
            2,
            2,
            2,
            2,
            1,
            1,
            1,
            1,
            1,
            1,
            1,
            1,
            1,
            1
           ]
          }
         ],
         "name": "2007"
        },
        {
         "data": [
          {
           "coloraxis": "coloraxis",
           "geo": "geo",
           "hovertemplate": "release_year=2008<br>country=%{location}<br>counts=%{z}<extra></extra>",
           "locationmode": "country names",
           "locations": [
            "United States",
            "India",
            "United Kingdom",
            "Japan",
            "Egypt",
            "Germany",
            "Indonesia",
            "Philippines",
            "Canada",
            "China",
            "Colombia",
            "Hong Kong",
            "Pakistan",
            "Chile",
            "France",
            "Not Given",
            "Saudi Arabia",
            "Spain",
            "Taiwan",
            "Thailand"
           ],
           "name": "",
           "type": "choropleth",
           "z": [
            57,
            26,
            11,
            9,
            5,
            4,
            3,
            3,
            2,
            2,
            2,
            2,
            2,
            1,
            1,
            1,
            1,
            1,
            1,
            1
           ]
          }
         ],
         "name": "2008"
        },
        {
         "data": [
          {
           "coloraxis": "coloraxis",
           "geo": "geo",
           "hovertemplate": "release_year=2009<br>country=%{location}<br>counts=%{z}<extra></extra>",
           "locationmode": "country names",
           "locations": [
            "United States",
            "India",
            "United Kingdom",
            "Egypt",
            "Taiwan",
            "Pakistan",
            "Japan",
            "South Korea",
            "Canada",
            "France",
            "Germany",
            "Hong Kong",
            "Indonesia",
            "Singapore",
            "Thailand",
            "Turkey",
            "Australia",
            "Czech Republic",
            "Malaysia",
            "Nigeria",
            "Not Given",
            "Philippines",
            "South Africa",
            "Spain"
           ],
           "name": "",
           "type": "choropleth",
           "z": [
            58,
            29,
            10,
            6,
            6,
            5,
            4,
            4,
            3,
            3,
            3,
            3,
            3,
            3,
            2,
            2,
            1,
            1,
            1,
            1,
            1,
            1,
            1,
            1
           ]
          }
         ],
         "name": "2009"
        },
        {
         "data": [
          {
           "coloraxis": "coloraxis",
           "geo": "geo",
           "hovertemplate": "release_year=2010<br>country=%{location}<br>counts=%{z}<extra></extra>",
           "locationmode": "country names",
           "locations": [
            "United States",
            "India",
            "Pakistan",
            "United Kingdom",
            "Japan",
            "Canada",
            "Egypt",
            "Turkey",
            "Hong Kong",
            "Thailand",
            "France",
            "Mexico",
            "China",
            "Germany",
            "Lebanon",
            "Not Given",
            "South Korea",
            "Australia",
            "Colombia",
            "Ireland",
            "Nigeria",
            "Philippines",
            "Romania",
            "South Africa",
            "Spain",
            "Taiwan"
           ],
           "name": "",
           "type": "choropleth",
           "z": [
            71,
            42,
            10,
            9,
            8,
            6,
            6,
            6,
            5,
            4,
            3,
            3,
            2,
            2,
            2,
            2,
            2,
            1,
            1,
            1,
            1,
            1,
            1,
            1,
            1,
            1
           ]
          }
         ],
         "name": "2010"
        },
        {
         "data": [
          {
           "coloraxis": "coloraxis",
           "geo": "geo",
           "hovertemplate": "release_year=2011<br>country=%{location}<br>counts=%{z}<extra></extra>",
           "locationmode": "country names",
           "locations": [
            "United States",
            "India",
            "United Kingdom",
            "Egypt",
            "Japan",
            "Canada",
            "France",
            "Indonesia",
            "Singapore",
            "Taiwan",
            "Thailand",
            "Turkey",
            "China",
            "Hong Kong",
            "Pakistan",
            "Australia",
            "Iran",
            "Ireland",
            "Italy",
            "Malaysia",
            "Not Given",
            "Philippines",
            "South Korea"
           ],
           "name": "",
           "type": "choropleth",
           "z": [
            77,
            34,
            17,
            8,
            8,
            4,
            4,
            4,
            4,
            4,
            4,
            3,
            2,
            2,
            2,
            1,
            1,
            1,
            1,
            1,
            1,
            1,
            1
           ]
          }
         ],
         "name": "2011"
        },
        {
         "data": [
          {
           "coloraxis": "coloraxis",
           "geo": "geo",
           "hovertemplate": "release_year=2012<br>country=%{location}<br>counts=%{z}<extra></extra>",
           "locationmode": "country names",
           "locations": [
            "United States",
            "India",
            "United Kingdom",
            "Egypt",
            "South Korea",
            "Pakistan",
            "Japan",
            "Canada",
            "Taiwan",
            "Philippines",
            "Australia",
            "France",
            "Singapore",
            "South Africa",
            "Thailand",
            "Turkey",
            "Brazil",
            "China",
            "Colombia",
            "Indonesia",
            "Lebanon",
            "Mexico",
            "Nigeria",
            "Denmark",
            "Germany",
            "Israel",
            "Not Given",
            "Saudi Arabia",
            "Spain",
            "Sweden"
           ],
           "name": "",
           "type": "choropleth",
           "z": [
            87,
            41,
            17,
            11,
            11,
            10,
            6,
            5,
            5,
            4,
            3,
            3,
            3,
            3,
            3,
            3,
            2,
            2,
            2,
            2,
            2,
            2,
            2,
            1,
            1,
            1,
            1,
            1,
            1,
            1
           ]
          }
         ],
         "name": "2012"
        },
        {
         "data": [
          {
           "coloraxis": "coloraxis",
           "geo": "geo",
           "hovertemplate": "release_year=2013<br>country=%{location}<br>counts=%{z}<extra></extra>",
           "locationmode": "country names",
           "locations": [
            "United States",
            "India",
            "United Kingdom",
            "Turkey",
            "Japan",
            "Pakistan",
            "Philippines",
            "Egypt",
            "South Korea",
            "Taiwan",
            "Hong Kong",
            "Brazil",
            "Canada",
            "Denmark",
            "France",
            "Indonesia",
            "Nigeria",
            "Not Given",
            "Australia",
            "Chile",
            "Germany",
            "Italy",
            "Mexico",
            "South Africa",
            "Spain",
            "Switzerland",
            "Argentina",
            "Israel",
            "Lebanon",
            "Malaysia",
            "Norway",
            "Russia",
            "Saudi Arabia",
            "Singapore",
            "Thailand"
           ],
           "name": "",
           "type": "choropleth",
           "z": [
            101,
            62,
            22,
            10,
            9,
            7,
            7,
            6,
            6,
            6,
            4,
            3,
            3,
            3,
            3,
            3,
            3,
            3,
            2,
            2,
            2,
            2,
            2,
            2,
            2,
            2,
            1,
            1,
            1,
            1,
            1,
            1,
            1,
            1,
            1
           ]
          }
         ],
         "name": "2013"
        },
        {
         "data": [
          {
           "coloraxis": "coloraxis",
           "geo": "geo",
           "hovertemplate": "release_year=2014<br>country=%{location}<br>counts=%{z}<extra></extra>",
           "locationmode": "country names",
           "locations": [
            "United States",
            "India",
            "United Kingdom",
            "Canada",
            "Turkey",
            "Japan",
            "Pakistan",
            "France",
            "Germany",
            "South Korea",
            "Not Given",
            "Singapore",
            "Australia",
            "Denmark",
            "Egypt",
            "Hong Kong",
            "Mexico",
            "Nigeria",
            "Philippines",
            "Norway",
            "Taiwan",
            "Thailand",
            "United Arab Emirates",
            "Argentina",
            "Austria",
            "Brazil",
            "Bulgaria",
            "China",
            "Indonesia",
            "Israel",
            "Kenya",
            "Lebanon",
            "Malaysia",
            "Poland",
            "Romania",
            "Russia",
            "Saudi Arabia",
            "Spain",
            "Vietnam"
           ],
           "name": "",
           "type": "choropleth",
           "z": [
            114,
            55,
            32,
            19,
            15,
            14,
            11,
            10,
            7,
            7,
            6,
            6,
            4,
            4,
            4,
            4,
            4,
            4,
            4,
            3,
            3,
            3,
            3,
            1,
            1,
            1,
            1,
            1,
            1,
            1,
            1,
            1,
            1,
            1,
            1,
            1,
            1,
            1,
            1
           ]
          }
         ],
         "name": "2014"
        },
        {
         "data": [
          {
           "coloraxis": "coloraxis",
           "geo": "geo",
           "hovertemplate": "release_year=2015<br>country=%{location}<br>counts=%{z}<extra></extra>",
           "locationmode": "country names",
           "locations": [
            "United States",
            "India",
            "United Kingdom",
            "Pakistan",
            "Canada",
            "France",
            "Japan",
            "Not Given",
            "South Korea",
            "Turkey",
            "Spain",
            "Australia",
            "Philippines",
            "Taiwan",
            "Mexico",
            "Germany",
            "Nigeria",
            "Russia",
            "Argentina",
            "China",
            "Indonesia",
            "Netherlands",
            "Thailand",
            "Egypt",
            "Malaysia",
            "South Africa",
            "Brazil",
            "Chile",
            "Ireland",
            "Israel",
            "Italy",
            "Denmark",
            "Hong Kong",
            "New Zealand",
            "Romania",
            "Singapore",
            "United Arab Emirates",
            "Belgium",
            "Colombia",
            "Croatia",
            "Iceland",
            "Lebanon",
            "Peru",
            "Poland",
            "Switzerland",
            "Syria",
            "Ukraine",
            "Vietnam"
           ],
           "name": "",
           "type": "choropleth",
           "z": [
            173,
            67,
            53,
            27,
            23,
            19,
            14,
            13,
            13,
            13,
            12,
            10,
            10,
            8,
            7,
            6,
            6,
            6,
            5,
            5,
            5,
            5,
            5,
            4,
            4,
            4,
            3,
            3,
            3,
            3,
            3,
            2,
            2,
            2,
            2,
            2,
            2,
            1,
            1,
            1,
            1,
            1,
            1,
            1,
            1,
            1,
            1,
            1
           ]
          }
         ],
         "name": "2015"
        },
        {
         "data": [
          {
           "coloraxis": "coloraxis",
           "geo": "geo",
           "hovertemplate": "release_year=2016<br>country=%{location}<br>counts=%{z}<extra></extra>",
           "locationmode": "country names",
           "locations": [
            "United States",
            "United Kingdom",
            "India",
            "Pakistan",
            "Canada",
            "South Korea",
            "France",
            "Japan",
            "Spain",
            "Mexico",
            "Australia",
            "China",
            "Nigeria",
            "Turkey",
            "Germany",
            "Not Given",
            "Philippines",
            "Ireland",
            "Argentina",
            "Brazil",
            "Indonesia",
            "Italy",
            "Taiwan",
            "Egypt",
            "Hong Kong",
            "Chile",
            "Denmark",
            "Sweden",
            "Belgium",
            "Netherlands",
            "New Zealand",
            "Norway",
            "South Africa",
            "Thailand",
            "Colombia",
            "Israel",
            "Singapore",
            "United Arab Emirates",
            "Czech Republic",
            "Portugal",
            "Austria",
            "Belarus",
            "Bulgaria",
            "Finland",
            "Hungary",
            "Malaysia",
            "Peru",
            "Romania",
            "Russia",
            "Saudi Arabia",
            "Serbia",
            "Slovenia",
            "Switzerland",
            "Vietnam"
           ],
           "name": "",
           "type": "choropleth",
           "z": [
            293,
            89,
            75,
            55,
            41,
            32,
            27,
            22,
            21,
            20,
            17,
            14,
            14,
            14,
            12,
            11,
            10,
            9,
            8,
            8,
            8,
            8,
            8,
            7,
            7,
            6,
            6,
            5,
            4,
            4,
            4,
            4,
            4,
            4,
            3,
            3,
            3,
            3,
            2,
            2,
            1,
            1,
            1,
            1,
            1,
            1,
            1,
            1,
            1,
            1,
            1,
            1,
            1,
            1
           ]
          }
         ],
         "name": "2016"
        },
        {
         "data": [
          {
           "coloraxis": "coloraxis",
           "geo": "geo",
           "hovertemplate": "release_year=2017<br>country=%{location}<br>counts=%{z}<extra></extra>",
           "locationmode": "country names",
           "locations": [
            "United States",
            "India",
            "United Kingdom",
            "Canada",
            "Pakistan",
            "South Korea",
            "Japan",
            "Spain",
            "Not Given",
            "France",
            "China",
            "Australia",
            "Nigeria",
            "Mexico",
            "Egypt",
            "Argentina",
            "Brazil",
            "Germany",
            "Italy",
            "Philippines",
            "Turkey",
            "Indonesia",
            "South Africa",
            "Taiwan",
            "Thailand",
            "Ireland",
            "Netherlands",
            "Lebanon",
            "Belgium",
            "Israel",
            "Malaysia",
            "Peru",
            "Russia",
            "Sweden",
            "Austria",
            "Bulgaria",
            "Cambodia",
            "Chile",
            "Colombia",
            "Czech Republic",
            "Denmark",
            "Hong Kong",
            "Poland",
            "Switzerland",
            "Bangladesh",
            "Cyprus",
            "Georgia",
            "Ghana",
            "Greece",
            "Guatemala",
            "Hungary",
            "Iceland",
            "Kuwait",
            "New Zealand",
            "Norway",
            "Saudi Arabia",
            "Serbia",
            "Singapore",
            "Somalia",
            "Ukraine",
            "United Arab Emirates",
            "Uruguay",
            "Venezuela",
            "Zimbabwe"
           ],
           "name": "",
           "type": "choropleth",
           "z": [
            383,
            108,
            85,
            39,
            33,
            32,
            30,
            30,
            29,
            26,
            17,
            15,
            15,
            14,
            13,
            12,
            11,
            11,
            9,
            9,
            9,
            8,
            7,
            7,
            6,
            5,
            5,
            4,
            3,
            3,
            3,
            3,
            3,
            3,
            2,
            2,
            2,
            2,
            2,
            2,
            2,
            2,
            2,
            2,
            1,
            1,
            1,
            1,
            1,
            1,
            1,
            1,
            1,
            1,
            1,
            1,
            1,
            1,
            1,
            1,
            1,
            1,
            1,
            1
           ]
          }
         ],
         "name": "2017"
        },
        {
         "data": [
          {
           "coloraxis": "coloraxis",
           "geo": "geo",
           "hovertemplate": "release_year=2018<br>country=%{location}<br>counts=%{z}<extra></extra>",
           "locationmode": "country names",
           "locations": [
            "United States",
            "India",
            "United Kingdom",
            "Pakistan",
            "Canada",
            "Japan",
            "Spain",
            "France",
            "Not Given",
            "South Korea",
            "Nigeria",
            "Mexico",
            "China",
            "Australia",
            "Indonesia",
            "Egypt",
            "Argentina",
            "Brazil",
            "Colombia",
            "Turkey",
            "Philippines",
            "Taiwan",
            "Germany",
            "Ireland",
            "Malaysia",
            "Thailand",
            "Denmark",
            "Italy",
            "Netherlands",
            "United Arab Emirates",
            "Chile",
            "Hong Kong",
            "Israel",
            "New Zealand",
            "Norway",
            "Lebanon",
            "Poland",
            "Russia",
            "South Africa",
            "Bangladesh",
            "Belgium",
            "Ghana",
            "Singapore",
            "Switzerland",
            "Uruguay",
            "Austria",
            "Bulgaria",
            "Croatia",
            "Czech Republic",
            "Finland",
            "Georgia",
            "Hungary",
            "Iceland",
            "Jamaica",
            "Kenya",
            "Kuwait",
            "Paraguay",
            "Peru",
            "Puerto Rico",
            "Romania",
            "Syria"
           ],
           "name": "",
           "type": "choropleth",
           "z": [
            394,
            107,
            85,
            57,
            48,
            42,
            40,
            33,
            33,
            31,
            22,
            20,
            18,
            17,
            16,
            15,
            13,
            13,
            11,
            10,
            9,
            8,
            6,
            6,
            6,
            6,
            5,
            5,
            5,
            5,
            4,
            4,
            4,
            4,
            4,
            3,
            3,
            3,
            3,
            2,
            2,
            2,
            2,
            2,
            2,
            1,
            1,
            1,
            1,
            1,
            1,
            1,
            1,
            1,
            1,
            1,
            1,
            1,
            1,
            1,
            1
           ]
          }
         ],
         "name": "2018"
        },
        {
         "data": [
          {
           "coloraxis": "coloraxis",
           "geo": "geo",
           "hovertemplate": "release_year=2019<br>country=%{location}<br>counts=%{z}<extra></extra>",
           "locationmode": "country names",
           "locations": [
            "United States",
            "India",
            "Pakistan",
            "United Kingdom",
            "Not Given",
            "France",
            "Spain",
            "Japan",
            "Canada",
            "South Korea",
            "Mexico",
            "China",
            "Brazil",
            "Nigeria",
            "Philippines",
            "Australia",
            "Argentina",
            "Thailand",
            "Colombia",
            "Indonesia",
            "Italy",
            "Germany",
            "Egypt",
            "Taiwan",
            "Turkey",
            "United Arab Emirates",
            "Hong Kong",
            "Kuwait",
            "Lebanon",
            "South Africa",
            "Finland",
            "Poland",
            "Romania",
            "Sweden",
            "Uruguay",
            "Belgium",
            "Chile",
            "Denmark",
            "Netherlands",
            "Russia",
            "Singapore",
            "Vietnam",
            "Austria",
            "Ghana",
            "Hungary",
            "Ireland",
            "Israel",
            "Jordan",
            "Kenya",
            "Luxembourg",
            "Malaysia",
            "Mauritius",
            "Mozambique",
            "Namibia",
            "New Zealand",
            "Norway",
            "Senegal",
            "Serbia"
           ],
           "name": "",
           "type": "choropleth",
           "z": [
            385,
            102,
            58,
            58,
            37,
            36,
            31,
            29,
            25,
            23,
            20,
            19,
            18,
            16,
            14,
            13,
            12,
            12,
            9,
            9,
            9,
            8,
            7,
            7,
            7,
            5,
            4,
            4,
            4,
            4,
            3,
            3,
            3,
            3,
            3,
            2,
            2,
            2,
            2,
            2,
            2,
            2,
            1,
            1,
            1,
            1,
            1,
            1,
            1,
            1,
            1,
            1,
            1,
            1,
            1,
            1,
            1,
            1
           ]
          }
         ],
         "name": "2019"
        },
        {
         "data": [
          {
           "coloraxis": "coloraxis",
           "geo": "geo",
           "hovertemplate": "release_year=2020<br>country=%{location}<br>counts=%{z}<extra></extra>",
           "locationmode": "country names",
           "locations": [
            "United States",
            "India",
            "United Kingdom",
            "Not Given",
            "Pakistan",
            "Canada",
            "South Korea",
            "Germany",
            "Spain",
            "Brazil",
            "Japan",
            "Mexico",
            "France",
            "Indonesia",
            "Italy",
            "Nigeria",
            "Argentina",
            "Taiwan",
            "Australia",
            "China",
            "Philippines",
            "Poland",
            "South Africa",
            "Colombia",
            "Turkey",
            "Norway",
            "Thailand",
            "Netherlands",
            "Austria",
            "Denmark",
            "Egypt",
            "Saudi Arabia",
            "Sweden",
            "Chile",
            "Iceland",
            "Israel",
            "Portugal",
            "Belgium",
            "Cameroon",
            "Finland",
            "Kenya",
            "Lebanon",
            "Malaysia",
            "Russia",
            "Singapore",
            "Uruguay",
            "Vietnam"
           ],
           "name": "",
           "type": "choropleth",
           "z": [
            355,
            78,
            60,
            48,
            42,
            34,
            29,
            24,
            24,
            22,
            22,
            22,
            20,
            16,
            16,
            14,
            13,
            13,
            11,
            10,
            7,
            7,
            7,
            6,
            6,
            5,
            5,
            4,
            3,
            3,
            3,
            3,
            3,
            2,
            2,
            2,
            2,
            1,
            1,
            1,
            1,
            1,
            1,
            1,
            1,
            1,
            1
           ]
          }
         ],
         "name": "2020"
        },
        {
         "data": [
          {
           "coloraxis": "coloraxis",
           "geo": "geo",
           "hovertemplate": "release_year=2021<br>country=%{location}<br>counts=%{z}<extra></extra>",
           "locationmode": "country names",
           "locations": [
            "United States",
            "Pakistan",
            "Not Given",
            "India",
            "United Kingdom",
            "South Korea",
            "Spain",
            "Mexico",
            "Japan",
            "France",
            "Australia",
            "Germany",
            "Italy",
            "Canada",
            "China",
            "Brazil",
            "Belgium",
            "Indonesia",
            "Nigeria",
            "South Africa",
            "Turkey",
            "Poland",
            "Thailand",
            "Colombia",
            "Israel",
            "Sweden",
            "Argentina",
            "Egypt",
            "Netherlands",
            "Saudi Arabia",
            "United Arab Emirates",
            "Hungary",
            "Iceland",
            "Jordan",
            "Mauritius",
            "New Zealand",
            "Norway",
            "Philippines",
            "Russia",
            "Taiwan",
            "Uruguay",
            "Vietnam"
           ],
           "name": "",
           "type": "choropleth",
           "z": [
            168,
            93,
            85,
            35,
            29,
            22,
            16,
            14,
            12,
            11,
            8,
            8,
            8,
            7,
            7,
            6,
            5,
            5,
            5,
            5,
            5,
            4,
            4,
            3,
            3,
            3,
            2,
            2,
            2,
            2,
            2,
            1,
            1,
            1,
            1,
            1,
            1,
            1,
            1,
            1,
            1,
            1
           ]
          }
         ],
         "name": "2021"
        }
       ],
       "layout": {
        "coloraxis": {
         "cmax": 200,
         "cmin": 0,
         "colorbar": {
          "title": {
           "text": "counts"
          }
         },
         "colorscale": [
          [
           0,
           "rgb(255,247,236)"
          ],
          [
           0.125,
           "rgb(254,232,200)"
          ],
          [
           0.25,
           "rgb(253,212,158)"
          ],
          [
           0.375,
           "rgb(253,187,132)"
          ],
          [
           0.5,
           "rgb(252,141,89)"
          ],
          [
           0.625,
           "rgb(239,101,72)"
          ],
          [
           0.75,
           "rgb(215,48,31)"
          ],
          [
           0.875,
           "rgb(179,0,0)"
          ],
          [
           1,
           "rgb(127,0,0)"
          ]
         ]
        },
        "geo": {
         "center": {},
         "domain": {
          "x": [
           0,
           1
          ],
          "y": [
           0,
           1
          ]
         }
        },
        "legend": {
         "tracegroupgap": 0
        },
        "margin": {
         "t": 60
        },
        "sliders": [
         {
          "active": 0,
          "currentvalue": {
           "prefix": "release_year="
          },
          "len": 0.9,
          "pad": {
           "b": 10,
           "t": 60
          },
          "steps": [
           {
            "args": [
             [
              "1925"
             ],
             {
              "frame": {
               "duration": 0,
               "redraw": true
              },
              "fromcurrent": true,
              "mode": "immediate",
              "transition": {
               "duration": 0,
               "easing": "linear"
              }
             }
            ],
            "label": "1925",
            "method": "animate"
           },
           {
            "args": [
             [
              "1942"
             ],
             {
              "frame": {
               "duration": 0,
               "redraw": true
              },
              "fromcurrent": true,
              "mode": "immediate",
              "transition": {
               "duration": 0,
               "easing": "linear"
              }
             }
            ],
            "label": "1942",
            "method": "animate"
           },
           {
            "args": [
             [
              "1943"
             ],
             {
              "frame": {
               "duration": 0,
               "redraw": true
              },
              "fromcurrent": true,
              "mode": "immediate",
              "transition": {
               "duration": 0,
               "easing": "linear"
              }
             }
            ],
            "label": "1943",
            "method": "animate"
           },
           {
            "args": [
             [
              "1944"
             ],
             {
              "frame": {
               "duration": 0,
               "redraw": true
              },
              "fromcurrent": true,
              "mode": "immediate",
              "transition": {
               "duration": 0,
               "easing": "linear"
              }
             }
            ],
            "label": "1944",
            "method": "animate"
           },
           {
            "args": [
             [
              "1945"
             ],
             {
              "frame": {
               "duration": 0,
               "redraw": true
              },
              "fromcurrent": true,
              "mode": "immediate",
              "transition": {
               "duration": 0,
               "easing": "linear"
              }
             }
            ],
            "label": "1945",
            "method": "animate"
           },
           {
            "args": [
             [
              "1946"
             ],
             {
              "frame": {
               "duration": 0,
               "redraw": true
              },
              "fromcurrent": true,
              "mode": "immediate",
              "transition": {
               "duration": 0,
               "easing": "linear"
              }
             }
            ],
            "label": "1946",
            "method": "animate"
           },
           {
            "args": [
             [
              "1947"
             ],
             {
              "frame": {
               "duration": 0,
               "redraw": true
              },
              "fromcurrent": true,
              "mode": "immediate",
              "transition": {
               "duration": 0,
               "easing": "linear"
              }
             }
            ],
            "label": "1947",
            "method": "animate"
           },
           {
            "args": [
             [
              "1954"
             ],
             {
              "frame": {
               "duration": 0,
               "redraw": true
              },
              "fromcurrent": true,
              "mode": "immediate",
              "transition": {
               "duration": 0,
               "easing": "linear"
              }
             }
            ],
            "label": "1954",
            "method": "animate"
           },
           {
            "args": [
             [
              "1955"
             ],
             {
              "frame": {
               "duration": 0,
               "redraw": true
              },
              "fromcurrent": true,
              "mode": "immediate",
              "transition": {
               "duration": 0,
               "easing": "linear"
              }
             }
            ],
            "label": "1955",
            "method": "animate"
           },
           {
            "args": [
             [
              "1956"
             ],
             {
              "frame": {
               "duration": 0,
               "redraw": true
              },
              "fromcurrent": true,
              "mode": "immediate",
              "transition": {
               "duration": 0,
               "easing": "linear"
              }
             }
            ],
            "label": "1956",
            "method": "animate"
           },
           {
            "args": [
             [
              "1958"
             ],
             {
              "frame": {
               "duration": 0,
               "redraw": true
              },
              "fromcurrent": true,
              "mode": "immediate",
              "transition": {
               "duration": 0,
               "easing": "linear"
              }
             }
            ],
            "label": "1958",
            "method": "animate"
           },
           {
            "args": [
             [
              "1959"
             ],
             {
              "frame": {
               "duration": 0,
               "redraw": true
              },
              "fromcurrent": true,
              "mode": "immediate",
              "transition": {
               "duration": 0,
               "easing": "linear"
              }
             }
            ],
            "label": "1959",
            "method": "animate"
           },
           {
            "args": [
             [
              "1960"
             ],
             {
              "frame": {
               "duration": 0,
               "redraw": true
              },
              "fromcurrent": true,
              "mode": "immediate",
              "transition": {
               "duration": 0,
               "easing": "linear"
              }
             }
            ],
            "label": "1960",
            "method": "animate"
           },
           {
            "args": [
             [
              "1961"
             ],
             {
              "frame": {
               "duration": 0,
               "redraw": true
              },
              "fromcurrent": true,
              "mode": "immediate",
              "transition": {
               "duration": 0,
               "easing": "linear"
              }
             }
            ],
            "label": "1961",
            "method": "animate"
           },
           {
            "args": [
             [
              "1962"
             ],
             {
              "frame": {
               "duration": 0,
               "redraw": true
              },
              "fromcurrent": true,
              "mode": "immediate",
              "transition": {
               "duration": 0,
               "easing": "linear"
              }
             }
            ],
            "label": "1962",
            "method": "animate"
           },
           {
            "args": [
             [
              "1963"
             ],
             {
              "frame": {
               "duration": 0,
               "redraw": true
              },
              "fromcurrent": true,
              "mode": "immediate",
              "transition": {
               "duration": 0,
               "easing": "linear"
              }
             }
            ],
            "label": "1963",
            "method": "animate"
           },
           {
            "args": [
             [
              "1964"
             ],
             {
              "frame": {
               "duration": 0,
               "redraw": true
              },
              "fromcurrent": true,
              "mode": "immediate",
              "transition": {
               "duration": 0,
               "easing": "linear"
              }
             }
            ],
            "label": "1964",
            "method": "animate"
           },
           {
            "args": [
             [
              "1965"
             ],
             {
              "frame": {
               "duration": 0,
               "redraw": true
              },
              "fromcurrent": true,
              "mode": "immediate",
              "transition": {
               "duration": 0,
               "easing": "linear"
              }
             }
            ],
            "label": "1965",
            "method": "animate"
           },
           {
            "args": [
             [
              "1966"
             ],
             {
              "frame": {
               "duration": 0,
               "redraw": true
              },
              "fromcurrent": true,
              "mode": "immediate",
              "transition": {
               "duration": 0,
               "easing": "linear"
              }
             }
            ],
            "label": "1966",
            "method": "animate"
           },
           {
            "args": [
             [
              "1967"
             ],
             {
              "frame": {
               "duration": 0,
               "redraw": true
              },
              "fromcurrent": true,
              "mode": "immediate",
              "transition": {
               "duration": 0,
               "easing": "linear"
              }
             }
            ],
            "label": "1967",
            "method": "animate"
           },
           {
            "args": [
             [
              "1968"
             ],
             {
              "frame": {
               "duration": 0,
               "redraw": true
              },
              "fromcurrent": true,
              "mode": "immediate",
              "transition": {
               "duration": 0,
               "easing": "linear"
              }
             }
            ],
            "label": "1968",
            "method": "animate"
           },
           {
            "args": [
             [
              "1969"
             ],
             {
              "frame": {
               "duration": 0,
               "redraw": true
              },
              "fromcurrent": true,
              "mode": "immediate",
              "transition": {
               "duration": 0,
               "easing": "linear"
              }
             }
            ],
            "label": "1969",
            "method": "animate"
           },
           {
            "args": [
             [
              "1970"
             ],
             {
              "frame": {
               "duration": 0,
               "redraw": true
              },
              "fromcurrent": true,
              "mode": "immediate",
              "transition": {
               "duration": 0,
               "easing": "linear"
              }
             }
            ],
            "label": "1970",
            "method": "animate"
           },
           {
            "args": [
             [
              "1971"
             ],
             {
              "frame": {
               "duration": 0,
               "redraw": true
              },
              "fromcurrent": true,
              "mode": "immediate",
              "transition": {
               "duration": 0,
               "easing": "linear"
              }
             }
            ],
            "label": "1971",
            "method": "animate"
           },
           {
            "args": [
             [
              "1972"
             ],
             {
              "frame": {
               "duration": 0,
               "redraw": true
              },
              "fromcurrent": true,
              "mode": "immediate",
              "transition": {
               "duration": 0,
               "easing": "linear"
              }
             }
            ],
            "label": "1972",
            "method": "animate"
           },
           {
            "args": [
             [
              "1973"
             ],
             {
              "frame": {
               "duration": 0,
               "redraw": true
              },
              "fromcurrent": true,
              "mode": "immediate",
              "transition": {
               "duration": 0,
               "easing": "linear"
              }
             }
            ],
            "label": "1973",
            "method": "animate"
           },
           {
            "args": [
             [
              "1974"
             ],
             {
              "frame": {
               "duration": 0,
               "redraw": true
              },
              "fromcurrent": true,
              "mode": "immediate",
              "transition": {
               "duration": 0,
               "easing": "linear"
              }
             }
            ],
            "label": "1974",
            "method": "animate"
           },
           {
            "args": [
             [
              "1975"
             ],
             {
              "frame": {
               "duration": 0,
               "redraw": true
              },
              "fromcurrent": true,
              "mode": "immediate",
              "transition": {
               "duration": 0,
               "easing": "linear"
              }
             }
            ],
            "label": "1975",
            "method": "animate"
           },
           {
            "args": [
             [
              "1976"
             ],
             {
              "frame": {
               "duration": 0,
               "redraw": true
              },
              "fromcurrent": true,
              "mode": "immediate",
              "transition": {
               "duration": 0,
               "easing": "linear"
              }
             }
            ],
            "label": "1976",
            "method": "animate"
           },
           {
            "args": [
             [
              "1977"
             ],
             {
              "frame": {
               "duration": 0,
               "redraw": true
              },
              "fromcurrent": true,
              "mode": "immediate",
              "transition": {
               "duration": 0,
               "easing": "linear"
              }
             }
            ],
            "label": "1977",
            "method": "animate"
           },
           {
            "args": [
             [
              "1978"
             ],
             {
              "frame": {
               "duration": 0,
               "redraw": true
              },
              "fromcurrent": true,
              "mode": "immediate",
              "transition": {
               "duration": 0,
               "easing": "linear"
              }
             }
            ],
            "label": "1978",
            "method": "animate"
           },
           {
            "args": [
             [
              "1979"
             ],
             {
              "frame": {
               "duration": 0,
               "redraw": true
              },
              "fromcurrent": true,
              "mode": "immediate",
              "transition": {
               "duration": 0,
               "easing": "linear"
              }
             }
            ],
            "label": "1979",
            "method": "animate"
           },
           {
            "args": [
             [
              "1980"
             ],
             {
              "frame": {
               "duration": 0,
               "redraw": true
              },
              "fromcurrent": true,
              "mode": "immediate",
              "transition": {
               "duration": 0,
               "easing": "linear"
              }
             }
            ],
            "label": "1980",
            "method": "animate"
           },
           {
            "args": [
             [
              "1981"
             ],
             {
              "frame": {
               "duration": 0,
               "redraw": true
              },
              "fromcurrent": true,
              "mode": "immediate",
              "transition": {
               "duration": 0,
               "easing": "linear"
              }
             }
            ],
            "label": "1981",
            "method": "animate"
           },
           {
            "args": [
             [
              "1982"
             ],
             {
              "frame": {
               "duration": 0,
               "redraw": true
              },
              "fromcurrent": true,
              "mode": "immediate",
              "transition": {
               "duration": 0,
               "easing": "linear"
              }
             }
            ],
            "label": "1982",
            "method": "animate"
           },
           {
            "args": [
             [
              "1983"
             ],
             {
              "frame": {
               "duration": 0,
               "redraw": true
              },
              "fromcurrent": true,
              "mode": "immediate",
              "transition": {
               "duration": 0,
               "easing": "linear"
              }
             }
            ],
            "label": "1983",
            "method": "animate"
           },
           {
            "args": [
             [
              "1984"
             ],
             {
              "frame": {
               "duration": 0,
               "redraw": true
              },
              "fromcurrent": true,
              "mode": "immediate",
              "transition": {
               "duration": 0,
               "easing": "linear"
              }
             }
            ],
            "label": "1984",
            "method": "animate"
           },
           {
            "args": [
             [
              "1985"
             ],
             {
              "frame": {
               "duration": 0,
               "redraw": true
              },
              "fromcurrent": true,
              "mode": "immediate",
              "transition": {
               "duration": 0,
               "easing": "linear"
              }
             }
            ],
            "label": "1985",
            "method": "animate"
           },
           {
            "args": [
             [
              "1986"
             ],
             {
              "frame": {
               "duration": 0,
               "redraw": true
              },
              "fromcurrent": true,
              "mode": "immediate",
              "transition": {
               "duration": 0,
               "easing": "linear"
              }
             }
            ],
            "label": "1986",
            "method": "animate"
           },
           {
            "args": [
             [
              "1987"
             ],
             {
              "frame": {
               "duration": 0,
               "redraw": true
              },
              "fromcurrent": true,
              "mode": "immediate",
              "transition": {
               "duration": 0,
               "easing": "linear"
              }
             }
            ],
            "label": "1987",
            "method": "animate"
           },
           {
            "args": [
             [
              "1988"
             ],
             {
              "frame": {
               "duration": 0,
               "redraw": true
              },
              "fromcurrent": true,
              "mode": "immediate",
              "transition": {
               "duration": 0,
               "easing": "linear"
              }
             }
            ],
            "label": "1988",
            "method": "animate"
           },
           {
            "args": [
             [
              "1989"
             ],
             {
              "frame": {
               "duration": 0,
               "redraw": true
              },
              "fromcurrent": true,
              "mode": "immediate",
              "transition": {
               "duration": 0,
               "easing": "linear"
              }
             }
            ],
            "label": "1989",
            "method": "animate"
           },
           {
            "args": [
             [
              "1990"
             ],
             {
              "frame": {
               "duration": 0,
               "redraw": true
              },
              "fromcurrent": true,
              "mode": "immediate",
              "transition": {
               "duration": 0,
               "easing": "linear"
              }
             }
            ],
            "label": "1990",
            "method": "animate"
           },
           {
            "args": [
             [
              "1991"
             ],
             {
              "frame": {
               "duration": 0,
               "redraw": true
              },
              "fromcurrent": true,
              "mode": "immediate",
              "transition": {
               "duration": 0,
               "easing": "linear"
              }
             }
            ],
            "label": "1991",
            "method": "animate"
           },
           {
            "args": [
             [
              "1992"
             ],
             {
              "frame": {
               "duration": 0,
               "redraw": true
              },
              "fromcurrent": true,
              "mode": "immediate",
              "transition": {
               "duration": 0,
               "easing": "linear"
              }
             }
            ],
            "label": "1992",
            "method": "animate"
           },
           {
            "args": [
             [
              "1993"
             ],
             {
              "frame": {
               "duration": 0,
               "redraw": true
              },
              "fromcurrent": true,
              "mode": "immediate",
              "transition": {
               "duration": 0,
               "easing": "linear"
              }
             }
            ],
            "label": "1993",
            "method": "animate"
           },
           {
            "args": [
             [
              "1994"
             ],
             {
              "frame": {
               "duration": 0,
               "redraw": true
              },
              "fromcurrent": true,
              "mode": "immediate",
              "transition": {
               "duration": 0,
               "easing": "linear"
              }
             }
            ],
            "label": "1994",
            "method": "animate"
           },
           {
            "args": [
             [
              "1995"
             ],
             {
              "frame": {
               "duration": 0,
               "redraw": true
              },
              "fromcurrent": true,
              "mode": "immediate",
              "transition": {
               "duration": 0,
               "easing": "linear"
              }
             }
            ],
            "label": "1995",
            "method": "animate"
           },
           {
            "args": [
             [
              "1996"
             ],
             {
              "frame": {
               "duration": 0,
               "redraw": true
              },
              "fromcurrent": true,
              "mode": "immediate",
              "transition": {
               "duration": 0,
               "easing": "linear"
              }
             }
            ],
            "label": "1996",
            "method": "animate"
           },
           {
            "args": [
             [
              "1997"
             ],
             {
              "frame": {
               "duration": 0,
               "redraw": true
              },
              "fromcurrent": true,
              "mode": "immediate",
              "transition": {
               "duration": 0,
               "easing": "linear"
              }
             }
            ],
            "label": "1997",
            "method": "animate"
           },
           {
            "args": [
             [
              "1998"
             ],
             {
              "frame": {
               "duration": 0,
               "redraw": true
              },
              "fromcurrent": true,
              "mode": "immediate",
              "transition": {
               "duration": 0,
               "easing": "linear"
              }
             }
            ],
            "label": "1998",
            "method": "animate"
           },
           {
            "args": [
             [
              "1999"
             ],
             {
              "frame": {
               "duration": 0,
               "redraw": true
              },
              "fromcurrent": true,
              "mode": "immediate",
              "transition": {
               "duration": 0,
               "easing": "linear"
              }
             }
            ],
            "label": "1999",
            "method": "animate"
           },
           {
            "args": [
             [
              "2000"
             ],
             {
              "frame": {
               "duration": 0,
               "redraw": true
              },
              "fromcurrent": true,
              "mode": "immediate",
              "transition": {
               "duration": 0,
               "easing": "linear"
              }
             }
            ],
            "label": "2000",
            "method": "animate"
           },
           {
            "args": [
             [
              "2001"
             ],
             {
              "frame": {
               "duration": 0,
               "redraw": true
              },
              "fromcurrent": true,
              "mode": "immediate",
              "transition": {
               "duration": 0,
               "easing": "linear"
              }
             }
            ],
            "label": "2001",
            "method": "animate"
           },
           {
            "args": [
             [
              "2002"
             ],
             {
              "frame": {
               "duration": 0,
               "redraw": true
              },
              "fromcurrent": true,
              "mode": "immediate",
              "transition": {
               "duration": 0,
               "easing": "linear"
              }
             }
            ],
            "label": "2002",
            "method": "animate"
           },
           {
            "args": [
             [
              "2003"
             ],
             {
              "frame": {
               "duration": 0,
               "redraw": true
              },
              "fromcurrent": true,
              "mode": "immediate",
              "transition": {
               "duration": 0,
               "easing": "linear"
              }
             }
            ],
            "label": "2003",
            "method": "animate"
           },
           {
            "args": [
             [
              "2004"
             ],
             {
              "frame": {
               "duration": 0,
               "redraw": true
              },
              "fromcurrent": true,
              "mode": "immediate",
              "transition": {
               "duration": 0,
               "easing": "linear"
              }
             }
            ],
            "label": "2004",
            "method": "animate"
           },
           {
            "args": [
             [
              "2005"
             ],
             {
              "frame": {
               "duration": 0,
               "redraw": true
              },
              "fromcurrent": true,
              "mode": "immediate",
              "transition": {
               "duration": 0,
               "easing": "linear"
              }
             }
            ],
            "label": "2005",
            "method": "animate"
           },
           {
            "args": [
             [
              "2006"
             ],
             {
              "frame": {
               "duration": 0,
               "redraw": true
              },
              "fromcurrent": true,
              "mode": "immediate",
              "transition": {
               "duration": 0,
               "easing": "linear"
              }
             }
            ],
            "label": "2006",
            "method": "animate"
           },
           {
            "args": [
             [
              "2007"
             ],
             {
              "frame": {
               "duration": 0,
               "redraw": true
              },
              "fromcurrent": true,
              "mode": "immediate",
              "transition": {
               "duration": 0,
               "easing": "linear"
              }
             }
            ],
            "label": "2007",
            "method": "animate"
           },
           {
            "args": [
             [
              "2008"
             ],
             {
              "frame": {
               "duration": 0,
               "redraw": true
              },
              "fromcurrent": true,
              "mode": "immediate",
              "transition": {
               "duration": 0,
               "easing": "linear"
              }
             }
            ],
            "label": "2008",
            "method": "animate"
           },
           {
            "args": [
             [
              "2009"
             ],
             {
              "frame": {
               "duration": 0,
               "redraw": true
              },
              "fromcurrent": true,
              "mode": "immediate",
              "transition": {
               "duration": 0,
               "easing": "linear"
              }
             }
            ],
            "label": "2009",
            "method": "animate"
           },
           {
            "args": [
             [
              "2010"
             ],
             {
              "frame": {
               "duration": 0,
               "redraw": true
              },
              "fromcurrent": true,
              "mode": "immediate",
              "transition": {
               "duration": 0,
               "easing": "linear"
              }
             }
            ],
            "label": "2010",
            "method": "animate"
           },
           {
            "args": [
             [
              "2011"
             ],
             {
              "frame": {
               "duration": 0,
               "redraw": true
              },
              "fromcurrent": true,
              "mode": "immediate",
              "transition": {
               "duration": 0,
               "easing": "linear"
              }
             }
            ],
            "label": "2011",
            "method": "animate"
           },
           {
            "args": [
             [
              "2012"
             ],
             {
              "frame": {
               "duration": 0,
               "redraw": true
              },
              "fromcurrent": true,
              "mode": "immediate",
              "transition": {
               "duration": 0,
               "easing": "linear"
              }
             }
            ],
            "label": "2012",
            "method": "animate"
           },
           {
            "args": [
             [
              "2013"
             ],
             {
              "frame": {
               "duration": 0,
               "redraw": true
              },
              "fromcurrent": true,
              "mode": "immediate",
              "transition": {
               "duration": 0,
               "easing": "linear"
              }
             }
            ],
            "label": "2013",
            "method": "animate"
           },
           {
            "args": [
             [
              "2014"
             ],
             {
              "frame": {
               "duration": 0,
               "redraw": true
              },
              "fromcurrent": true,
              "mode": "immediate",
              "transition": {
               "duration": 0,
               "easing": "linear"
              }
             }
            ],
            "label": "2014",
            "method": "animate"
           },
           {
            "args": [
             [
              "2015"
             ],
             {
              "frame": {
               "duration": 0,
               "redraw": true
              },
              "fromcurrent": true,
              "mode": "immediate",
              "transition": {
               "duration": 0,
               "easing": "linear"
              }
             }
            ],
            "label": "2015",
            "method": "animate"
           },
           {
            "args": [
             [
              "2016"
             ],
             {
              "frame": {
               "duration": 0,
               "redraw": true
              },
              "fromcurrent": true,
              "mode": "immediate",
              "transition": {
               "duration": 0,
               "easing": "linear"
              }
             }
            ],
            "label": "2016",
            "method": "animate"
           },
           {
            "args": [
             [
              "2017"
             ],
             {
              "frame": {
               "duration": 0,
               "redraw": true
              },
              "fromcurrent": true,
              "mode": "immediate",
              "transition": {
               "duration": 0,
               "easing": "linear"
              }
             }
            ],
            "label": "2017",
            "method": "animate"
           },
           {
            "args": [
             [
              "2018"
             ],
             {
              "frame": {
               "duration": 0,
               "redraw": true
              },
              "fromcurrent": true,
              "mode": "immediate",
              "transition": {
               "duration": 0,
               "easing": "linear"
              }
             }
            ],
            "label": "2018",
            "method": "animate"
           },
           {
            "args": [
             [
              "2019"
             ],
             {
              "frame": {
               "duration": 0,
               "redraw": true
              },
              "fromcurrent": true,
              "mode": "immediate",
              "transition": {
               "duration": 0,
               "easing": "linear"
              }
             }
            ],
            "label": "2019",
            "method": "animate"
           },
           {
            "args": [
             [
              "2020"
             ],
             {
              "frame": {
               "duration": 0,
               "redraw": true
              },
              "fromcurrent": true,
              "mode": "immediate",
              "transition": {
               "duration": 0,
               "easing": "linear"
              }
             }
            ],
            "label": "2020",
            "method": "animate"
           },
           {
            "args": [
             [
              "2021"
             ],
             {
              "frame": {
               "duration": 0,
               "redraw": true
              },
              "fromcurrent": true,
              "mode": "immediate",
              "transition": {
               "duration": 0,
               "easing": "linear"
              }
             }
            ],
            "label": "2021",
            "method": "animate"
           }
          ],
          "x": 0.1,
          "xanchor": "left",
          "y": 0,
          "yanchor": "top"
         }
        ],
        "template": {
         "data": {
          "bar": [
           {
            "error_x": {
             "color": "#2a3f5f"
            },
            "error_y": {
             "color": "#2a3f5f"
            },
            "marker": {
             "line": {
              "color": "#E5ECF6",
              "width": 0.5
             },
             "pattern": {
              "fillmode": "overlay",
              "size": 10,
              "solidity": 0.2
             }
            },
            "type": "bar"
           }
          ],
          "barpolar": [
           {
            "marker": {
             "line": {
              "color": "#E5ECF6",
              "width": 0.5
             },
             "pattern": {
              "fillmode": "overlay",
              "size": 10,
              "solidity": 0.2
             }
            },
            "type": "barpolar"
           }
          ],
          "carpet": [
           {
            "aaxis": {
             "endlinecolor": "#2a3f5f",
             "gridcolor": "white",
             "linecolor": "white",
             "minorgridcolor": "white",
             "startlinecolor": "#2a3f5f"
            },
            "baxis": {
             "endlinecolor": "#2a3f5f",
             "gridcolor": "white",
             "linecolor": "white",
             "minorgridcolor": "white",
             "startlinecolor": "#2a3f5f"
            },
            "type": "carpet"
           }
          ],
          "choropleth": [
           {
            "colorbar": {
             "outlinewidth": 0,
             "ticks": ""
            },
            "type": "choropleth"
           }
          ],
          "contour": [
           {
            "colorbar": {
             "outlinewidth": 0,
             "ticks": ""
            },
            "colorscale": [
             [
              0,
              "#0d0887"
             ],
             [
              0.1111111111111111,
              "#46039f"
             ],
             [
              0.2222222222222222,
              "#7201a8"
             ],
             [
              0.3333333333333333,
              "#9c179e"
             ],
             [
              0.4444444444444444,
              "#bd3786"
             ],
             [
              0.5555555555555556,
              "#d8576b"
             ],
             [
              0.6666666666666666,
              "#ed7953"
             ],
             [
              0.7777777777777778,
              "#fb9f3a"
             ],
             [
              0.8888888888888888,
              "#fdca26"
             ],
             [
              1,
              "#f0f921"
             ]
            ],
            "type": "contour"
           }
          ],
          "contourcarpet": [
           {
            "colorbar": {
             "outlinewidth": 0,
             "ticks": ""
            },
            "type": "contourcarpet"
           }
          ],
          "heatmap": [
           {
            "colorbar": {
             "outlinewidth": 0,
             "ticks": ""
            },
            "colorscale": [
             [
              0,
              "#0d0887"
             ],
             [
              0.1111111111111111,
              "#46039f"
             ],
             [
              0.2222222222222222,
              "#7201a8"
             ],
             [
              0.3333333333333333,
              "#9c179e"
             ],
             [
              0.4444444444444444,
              "#bd3786"
             ],
             [
              0.5555555555555556,
              "#d8576b"
             ],
             [
              0.6666666666666666,
              "#ed7953"
             ],
             [
              0.7777777777777778,
              "#fb9f3a"
             ],
             [
              0.8888888888888888,
              "#fdca26"
             ],
             [
              1,
              "#f0f921"
             ]
            ],
            "type": "heatmap"
           }
          ],
          "heatmapgl": [
           {
            "colorbar": {
             "outlinewidth": 0,
             "ticks": ""
            },
            "colorscale": [
             [
              0,
              "#0d0887"
             ],
             [
              0.1111111111111111,
              "#46039f"
             ],
             [
              0.2222222222222222,
              "#7201a8"
             ],
             [
              0.3333333333333333,
              "#9c179e"
             ],
             [
              0.4444444444444444,
              "#bd3786"
             ],
             [
              0.5555555555555556,
              "#d8576b"
             ],
             [
              0.6666666666666666,
              "#ed7953"
             ],
             [
              0.7777777777777778,
              "#fb9f3a"
             ],
             [
              0.8888888888888888,
              "#fdca26"
             ],
             [
              1,
              "#f0f921"
             ]
            ],
            "type": "heatmapgl"
           }
          ],
          "histogram": [
           {
            "marker": {
             "pattern": {
              "fillmode": "overlay",
              "size": 10,
              "solidity": 0.2
             }
            },
            "type": "histogram"
           }
          ],
          "histogram2d": [
           {
            "colorbar": {
             "outlinewidth": 0,
             "ticks": ""
            },
            "colorscale": [
             [
              0,
              "#0d0887"
             ],
             [
              0.1111111111111111,
              "#46039f"
             ],
             [
              0.2222222222222222,
              "#7201a8"
             ],
             [
              0.3333333333333333,
              "#9c179e"
             ],
             [
              0.4444444444444444,
              "#bd3786"
             ],
             [
              0.5555555555555556,
              "#d8576b"
             ],
             [
              0.6666666666666666,
              "#ed7953"
             ],
             [
              0.7777777777777778,
              "#fb9f3a"
             ],
             [
              0.8888888888888888,
              "#fdca26"
             ],
             [
              1,
              "#f0f921"
             ]
            ],
            "type": "histogram2d"
           }
          ],
          "histogram2dcontour": [
           {
            "colorbar": {
             "outlinewidth": 0,
             "ticks": ""
            },
            "colorscale": [
             [
              0,
              "#0d0887"
             ],
             [
              0.1111111111111111,
              "#46039f"
             ],
             [
              0.2222222222222222,
              "#7201a8"
             ],
             [
              0.3333333333333333,
              "#9c179e"
             ],
             [
              0.4444444444444444,
              "#bd3786"
             ],
             [
              0.5555555555555556,
              "#d8576b"
             ],
             [
              0.6666666666666666,
              "#ed7953"
             ],
             [
              0.7777777777777778,
              "#fb9f3a"
             ],
             [
              0.8888888888888888,
              "#fdca26"
             ],
             [
              1,
              "#f0f921"
             ]
            ],
            "type": "histogram2dcontour"
           }
          ],
          "mesh3d": [
           {
            "colorbar": {
             "outlinewidth": 0,
             "ticks": ""
            },
            "type": "mesh3d"
           }
          ],
          "parcoords": [
           {
            "line": {
             "colorbar": {
              "outlinewidth": 0,
              "ticks": ""
             }
            },
            "type": "parcoords"
           }
          ],
          "pie": [
           {
            "automargin": true,
            "type": "pie"
           }
          ],
          "scatter": [
           {
            "marker": {
             "colorbar": {
              "outlinewidth": 0,
              "ticks": ""
             }
            },
            "type": "scatter"
           }
          ],
          "scatter3d": [
           {
            "line": {
             "colorbar": {
              "outlinewidth": 0,
              "ticks": ""
             }
            },
            "marker": {
             "colorbar": {
              "outlinewidth": 0,
              "ticks": ""
             }
            },
            "type": "scatter3d"
           }
          ],
          "scattercarpet": [
           {
            "marker": {
             "colorbar": {
              "outlinewidth": 0,
              "ticks": ""
             }
            },
            "type": "scattercarpet"
           }
          ],
          "scattergeo": [
           {
            "marker": {
             "colorbar": {
              "outlinewidth": 0,
              "ticks": ""
             }
            },
            "type": "scattergeo"
           }
          ],
          "scattergl": [
           {
            "marker": {
             "colorbar": {
              "outlinewidth": 0,
              "ticks": ""
             }
            },
            "type": "scattergl"
           }
          ],
          "scattermapbox": [
           {
            "marker": {
             "colorbar": {
              "outlinewidth": 0,
              "ticks": ""
             }
            },
            "type": "scattermapbox"
           }
          ],
          "scatterpolar": [
           {
            "marker": {
             "colorbar": {
              "outlinewidth": 0,
              "ticks": ""
             }
            },
            "type": "scatterpolar"
           }
          ],
          "scatterpolargl": [
           {
            "marker": {
             "colorbar": {
              "outlinewidth": 0,
              "ticks": ""
             }
            },
            "type": "scatterpolargl"
           }
          ],
          "scatterternary": [
           {
            "marker": {
             "colorbar": {
              "outlinewidth": 0,
              "ticks": ""
             }
            },
            "type": "scatterternary"
           }
          ],
          "surface": [
           {
            "colorbar": {
             "outlinewidth": 0,
             "ticks": ""
            },
            "colorscale": [
             [
              0,
              "#0d0887"
             ],
             [
              0.1111111111111111,
              "#46039f"
             ],
             [
              0.2222222222222222,
              "#7201a8"
             ],
             [
              0.3333333333333333,
              "#9c179e"
             ],
             [
              0.4444444444444444,
              "#bd3786"
             ],
             [
              0.5555555555555556,
              "#d8576b"
             ],
             [
              0.6666666666666666,
              "#ed7953"
             ],
             [
              0.7777777777777778,
              "#fb9f3a"
             ],
             [
              0.8888888888888888,
              "#fdca26"
             ],
             [
              1,
              "#f0f921"
             ]
            ],
            "type": "surface"
           }
          ],
          "table": [
           {
            "cells": {
             "fill": {
              "color": "#EBF0F8"
             },
             "line": {
              "color": "white"
             }
            },
            "header": {
             "fill": {
              "color": "#C8D4E3"
             },
             "line": {
              "color": "white"
             }
            },
            "type": "table"
           }
          ]
         },
         "layout": {
          "annotationdefaults": {
           "arrowcolor": "#2a3f5f",
           "arrowhead": 0,
           "arrowwidth": 1
          },
          "autotypenumbers": "strict",
          "coloraxis": {
           "colorbar": {
            "outlinewidth": 0,
            "ticks": ""
           }
          },
          "colorscale": {
           "diverging": [
            [
             0,
             "#8e0152"
            ],
            [
             0.1,
             "#c51b7d"
            ],
            [
             0.2,
             "#de77ae"
            ],
            [
             0.3,
             "#f1b6da"
            ],
            [
             0.4,
             "#fde0ef"
            ],
            [
             0.5,
             "#f7f7f7"
            ],
            [
             0.6,
             "#e6f5d0"
            ],
            [
             0.7,
             "#b8e186"
            ],
            [
             0.8,
             "#7fbc41"
            ],
            [
             0.9,
             "#4d9221"
            ],
            [
             1,
             "#276419"
            ]
           ],
           "sequential": [
            [
             0,
             "#0d0887"
            ],
            [
             0.1111111111111111,
             "#46039f"
            ],
            [
             0.2222222222222222,
             "#7201a8"
            ],
            [
             0.3333333333333333,
             "#9c179e"
            ],
            [
             0.4444444444444444,
             "#bd3786"
            ],
            [
             0.5555555555555556,
             "#d8576b"
            ],
            [
             0.6666666666666666,
             "#ed7953"
            ],
            [
             0.7777777777777778,
             "#fb9f3a"
            ],
            [
             0.8888888888888888,
             "#fdca26"
            ],
            [
             1,
             "#f0f921"
            ]
           ],
           "sequentialminus": [
            [
             0,
             "#0d0887"
            ],
            [
             0.1111111111111111,
             "#46039f"
            ],
            [
             0.2222222222222222,
             "#7201a8"
            ],
            [
             0.3333333333333333,
             "#9c179e"
            ],
            [
             0.4444444444444444,
             "#bd3786"
            ],
            [
             0.5555555555555556,
             "#d8576b"
            ],
            [
             0.6666666666666666,
             "#ed7953"
            ],
            [
             0.7777777777777778,
             "#fb9f3a"
            ],
            [
             0.8888888888888888,
             "#fdca26"
            ],
            [
             1,
             "#f0f921"
            ]
           ]
          },
          "colorway": [
           "#636efa",
           "#EF553B",
           "#00cc96",
           "#ab63fa",
           "#FFA15A",
           "#19d3f3",
           "#FF6692",
           "#B6E880",
           "#FF97FF",
           "#FECB52"
          ],
          "font": {
           "color": "#2a3f5f"
          },
          "geo": {
           "bgcolor": "white",
           "lakecolor": "white",
           "landcolor": "#E5ECF6",
           "showlakes": true,
           "showland": true,
           "subunitcolor": "white"
          },
          "hoverlabel": {
           "align": "left"
          },
          "hovermode": "closest",
          "mapbox": {
           "style": "light"
          },
          "paper_bgcolor": "white",
          "plot_bgcolor": "#E5ECF6",
          "polar": {
           "angularaxis": {
            "gridcolor": "white",
            "linecolor": "white",
            "ticks": ""
           },
           "bgcolor": "#E5ECF6",
           "radialaxis": {
            "gridcolor": "white",
            "linecolor": "white",
            "ticks": ""
           }
          },
          "scene": {
           "xaxis": {
            "backgroundcolor": "#E5ECF6",
            "gridcolor": "white",
            "gridwidth": 2,
            "linecolor": "white",
            "showbackground": true,
            "ticks": "",
            "zerolinecolor": "white"
           },
           "yaxis": {
            "backgroundcolor": "#E5ECF6",
            "gridcolor": "white",
            "gridwidth": 2,
            "linecolor": "white",
            "showbackground": true,
            "ticks": "",
            "zerolinecolor": "white"
           },
           "zaxis": {
            "backgroundcolor": "#E5ECF6",
            "gridcolor": "white",
            "gridwidth": 2,
            "linecolor": "white",
            "showbackground": true,
            "ticks": "",
            "zerolinecolor": "white"
           }
          },
          "shapedefaults": {
           "line": {
            "color": "#2a3f5f"
           }
          },
          "ternary": {
           "aaxis": {
            "gridcolor": "white",
            "linecolor": "white",
            "ticks": ""
           },
           "baxis": {
            "gridcolor": "white",
            "linecolor": "white",
            "ticks": ""
           },
           "bgcolor": "#E5ECF6",
           "caxis": {
            "gridcolor": "white",
            "linecolor": "white",
            "ticks": ""
           }
          },
          "title": {
           "x": 0.05
          },
          "xaxis": {
           "automargin": true,
           "gridcolor": "white",
           "linecolor": "white",
           "ticks": "",
           "title": {
            "standoff": 15
           },
           "zerolinecolor": "white",
           "zerolinewidth": 2
          },
          "yaxis": {
           "automargin": true,
           "gridcolor": "white",
           "linecolor": "white",
           "ticks": "",
           "title": {
            "standoff": 15
           },
           "zerolinecolor": "white",
           "zerolinewidth": 2
          }
         }
        },
        "title": {
         "text": "Comparison by country"
        },
        "updatemenus": [
         {
          "buttons": [
           {
            "args": [
             null,
             {
              "frame": {
               "duration": 500,
               "redraw": true
              },
              "fromcurrent": true,
              "mode": "immediate",
              "transition": {
               "duration": 500,
               "easing": "linear"
              }
             }
            ],
            "label": "&#9654;",
            "method": "animate"
           },
           {
            "args": [
             [
              null
             ],
             {
              "frame": {
               "duration": 0,
               "redraw": true
              },
              "fromcurrent": true,
              "mode": "immediate",
              "transition": {
               "duration": 0,
               "easing": "linear"
              }
             }
            ],
            "label": "&#9724;",
            "method": "animate"
           }
          ],
          "direction": "left",
          "pad": {
           "r": 10,
           "t": 70
          },
          "showactive": false,
          "type": "buttons",
          "x": 0.1,
          "xanchor": "right",
          "y": 0,
          "yanchor": "top"
         }
        ]
       }
      },
      "text/html": [
       "<div>                            <div id=\"9359da28-ab2f-4687-8df8-1c73f92ad982\" class=\"plotly-graph-div\" style=\"height:525px; width:100%;\"></div>            <script type=\"text/javascript\">                require([\"plotly\"], function(Plotly) {                    window.PLOTLYENV=window.PLOTLYENV || {};                                    if (document.getElementById(\"9359da28-ab2f-4687-8df8-1c73f92ad982\")) {                    Plotly.newPlot(                        \"9359da28-ab2f-4687-8df8-1c73f92ad982\",                        [{\"coloraxis\":\"coloraxis\",\"geo\":\"geo\",\"hovertemplate\":\"release_year=1925<br>country=%{location}<br>counts=%{z}<extra></extra>\",\"locationmode\":\"country names\",\"locations\":[\"Pakistan\"],\"name\":\"\",\"z\":[1],\"type\":\"choropleth\"}],                        {\"template\":{\"data\":{\"bar\":[{\"error_x\":{\"color\":\"#2a3f5f\"},\"error_y\":{\"color\":\"#2a3f5f\"},\"marker\":{\"line\":{\"color\":\"#E5ECF6\",\"width\":0.5},\"pattern\":{\"fillmode\":\"overlay\",\"size\":10,\"solidity\":0.2}},\"type\":\"bar\"}],\"barpolar\":[{\"marker\":{\"line\":{\"color\":\"#E5ECF6\",\"width\":0.5},\"pattern\":{\"fillmode\":\"overlay\",\"size\":10,\"solidity\":0.2}},\"type\":\"barpolar\"}],\"carpet\":[{\"aaxis\":{\"endlinecolor\":\"#2a3f5f\",\"gridcolor\":\"white\",\"linecolor\":\"white\",\"minorgridcolor\":\"white\",\"startlinecolor\":\"#2a3f5f\"},\"baxis\":{\"endlinecolor\":\"#2a3f5f\",\"gridcolor\":\"white\",\"linecolor\":\"white\",\"minorgridcolor\":\"white\",\"startlinecolor\":\"#2a3f5f\"},\"type\":\"carpet\"}],\"choropleth\":[{\"colorbar\":{\"outlinewidth\":0,\"ticks\":\"\"},\"type\":\"choropleth\"}],\"contour\":[{\"colorbar\":{\"outlinewidth\":0,\"ticks\":\"\"},\"colorscale\":[[0.0,\"#0d0887\"],[0.1111111111111111,\"#46039f\"],[0.2222222222222222,\"#7201a8\"],[0.3333333333333333,\"#9c179e\"],[0.4444444444444444,\"#bd3786\"],[0.5555555555555556,\"#d8576b\"],[0.6666666666666666,\"#ed7953\"],[0.7777777777777778,\"#fb9f3a\"],[0.8888888888888888,\"#fdca26\"],[1.0,\"#f0f921\"]],\"type\":\"contour\"}],\"contourcarpet\":[{\"colorbar\":{\"outlinewidth\":0,\"ticks\":\"\"},\"type\":\"contourcarpet\"}],\"heatmap\":[{\"colorbar\":{\"outlinewidth\":0,\"ticks\":\"\"},\"colorscale\":[[0.0,\"#0d0887\"],[0.1111111111111111,\"#46039f\"],[0.2222222222222222,\"#7201a8\"],[0.3333333333333333,\"#9c179e\"],[0.4444444444444444,\"#bd3786\"],[0.5555555555555556,\"#d8576b\"],[0.6666666666666666,\"#ed7953\"],[0.7777777777777778,\"#fb9f3a\"],[0.8888888888888888,\"#fdca26\"],[1.0,\"#f0f921\"]],\"type\":\"heatmap\"}],\"heatmapgl\":[{\"colorbar\":{\"outlinewidth\":0,\"ticks\":\"\"},\"colorscale\":[[0.0,\"#0d0887\"],[0.1111111111111111,\"#46039f\"],[0.2222222222222222,\"#7201a8\"],[0.3333333333333333,\"#9c179e\"],[0.4444444444444444,\"#bd3786\"],[0.5555555555555556,\"#d8576b\"],[0.6666666666666666,\"#ed7953\"],[0.7777777777777778,\"#fb9f3a\"],[0.8888888888888888,\"#fdca26\"],[1.0,\"#f0f921\"]],\"type\":\"heatmapgl\"}],\"histogram\":[{\"marker\":{\"pattern\":{\"fillmode\":\"overlay\",\"size\":10,\"solidity\":0.2}},\"type\":\"histogram\"}],\"histogram2d\":[{\"colorbar\":{\"outlinewidth\":0,\"ticks\":\"\"},\"colorscale\":[[0.0,\"#0d0887\"],[0.1111111111111111,\"#46039f\"],[0.2222222222222222,\"#7201a8\"],[0.3333333333333333,\"#9c179e\"],[0.4444444444444444,\"#bd3786\"],[0.5555555555555556,\"#d8576b\"],[0.6666666666666666,\"#ed7953\"],[0.7777777777777778,\"#fb9f3a\"],[0.8888888888888888,\"#fdca26\"],[1.0,\"#f0f921\"]],\"type\":\"histogram2d\"}],\"histogram2dcontour\":[{\"colorbar\":{\"outlinewidth\":0,\"ticks\":\"\"},\"colorscale\":[[0.0,\"#0d0887\"],[0.1111111111111111,\"#46039f\"],[0.2222222222222222,\"#7201a8\"],[0.3333333333333333,\"#9c179e\"],[0.4444444444444444,\"#bd3786\"],[0.5555555555555556,\"#d8576b\"],[0.6666666666666666,\"#ed7953\"],[0.7777777777777778,\"#fb9f3a\"],[0.8888888888888888,\"#fdca26\"],[1.0,\"#f0f921\"]],\"type\":\"histogram2dcontour\"}],\"mesh3d\":[{\"colorbar\":{\"outlinewidth\":0,\"ticks\":\"\"},\"type\":\"mesh3d\"}],\"parcoords\":[{\"line\":{\"colorbar\":{\"outlinewidth\":0,\"ticks\":\"\"}},\"type\":\"parcoords\"}],\"pie\":[{\"automargin\":true,\"type\":\"pie\"}],\"scatter\":[{\"marker\":{\"colorbar\":{\"outlinewidth\":0,\"ticks\":\"\"}},\"type\":\"scatter\"}],\"scatter3d\":[{\"line\":{\"colorbar\":{\"outlinewidth\":0,\"ticks\":\"\"}},\"marker\":{\"colorbar\":{\"outlinewidth\":0,\"ticks\":\"\"}},\"type\":\"scatter3d\"}],\"scattercarpet\":[{\"marker\":{\"colorbar\":{\"outlinewidth\":0,\"ticks\":\"\"}},\"type\":\"scattercarpet\"}],\"scattergeo\":[{\"marker\":{\"colorbar\":{\"outlinewidth\":0,\"ticks\":\"\"}},\"type\":\"scattergeo\"}],\"scattergl\":[{\"marker\":{\"colorbar\":{\"outlinewidth\":0,\"ticks\":\"\"}},\"type\":\"scattergl\"}],\"scattermapbox\":[{\"marker\":{\"colorbar\":{\"outlinewidth\":0,\"ticks\":\"\"}},\"type\":\"scattermapbox\"}],\"scatterpolar\":[{\"marker\":{\"colorbar\":{\"outlinewidth\":0,\"ticks\":\"\"}},\"type\":\"scatterpolar\"}],\"scatterpolargl\":[{\"marker\":{\"colorbar\":{\"outlinewidth\":0,\"ticks\":\"\"}},\"type\":\"scatterpolargl\"}],\"scatterternary\":[{\"marker\":{\"colorbar\":{\"outlinewidth\":0,\"ticks\":\"\"}},\"type\":\"scatterternary\"}],\"surface\":[{\"colorbar\":{\"outlinewidth\":0,\"ticks\":\"\"},\"colorscale\":[[0.0,\"#0d0887\"],[0.1111111111111111,\"#46039f\"],[0.2222222222222222,\"#7201a8\"],[0.3333333333333333,\"#9c179e\"],[0.4444444444444444,\"#bd3786\"],[0.5555555555555556,\"#d8576b\"],[0.6666666666666666,\"#ed7953\"],[0.7777777777777778,\"#fb9f3a\"],[0.8888888888888888,\"#fdca26\"],[1.0,\"#f0f921\"]],\"type\":\"surface\"}],\"table\":[{\"cells\":{\"fill\":{\"color\":\"#EBF0F8\"},\"line\":{\"color\":\"white\"}},\"header\":{\"fill\":{\"color\":\"#C8D4E3\"},\"line\":{\"color\":\"white\"}},\"type\":\"table\"}]},\"layout\":{\"annotationdefaults\":{\"arrowcolor\":\"#2a3f5f\",\"arrowhead\":0,\"arrowwidth\":1},\"autotypenumbers\":\"strict\",\"coloraxis\":{\"colorbar\":{\"outlinewidth\":0,\"ticks\":\"\"}},\"colorscale\":{\"diverging\":[[0,\"#8e0152\"],[0.1,\"#c51b7d\"],[0.2,\"#de77ae\"],[0.3,\"#f1b6da\"],[0.4,\"#fde0ef\"],[0.5,\"#f7f7f7\"],[0.6,\"#e6f5d0\"],[0.7,\"#b8e186\"],[0.8,\"#7fbc41\"],[0.9,\"#4d9221\"],[1,\"#276419\"]],\"sequential\":[[0.0,\"#0d0887\"],[0.1111111111111111,\"#46039f\"],[0.2222222222222222,\"#7201a8\"],[0.3333333333333333,\"#9c179e\"],[0.4444444444444444,\"#bd3786\"],[0.5555555555555556,\"#d8576b\"],[0.6666666666666666,\"#ed7953\"],[0.7777777777777778,\"#fb9f3a\"],[0.8888888888888888,\"#fdca26\"],[1.0,\"#f0f921\"]],\"sequentialminus\":[[0.0,\"#0d0887\"],[0.1111111111111111,\"#46039f\"],[0.2222222222222222,\"#7201a8\"],[0.3333333333333333,\"#9c179e\"],[0.4444444444444444,\"#bd3786\"],[0.5555555555555556,\"#d8576b\"],[0.6666666666666666,\"#ed7953\"],[0.7777777777777778,\"#fb9f3a\"],[0.8888888888888888,\"#fdca26\"],[1.0,\"#f0f921\"]]},\"colorway\":[\"#636efa\",\"#EF553B\",\"#00cc96\",\"#ab63fa\",\"#FFA15A\",\"#19d3f3\",\"#FF6692\",\"#B6E880\",\"#FF97FF\",\"#FECB52\"],\"font\":{\"color\":\"#2a3f5f\"},\"geo\":{\"bgcolor\":\"white\",\"lakecolor\":\"white\",\"landcolor\":\"#E5ECF6\",\"showlakes\":true,\"showland\":true,\"subunitcolor\":\"white\"},\"hoverlabel\":{\"align\":\"left\"},\"hovermode\":\"closest\",\"mapbox\":{\"style\":\"light\"},\"paper_bgcolor\":\"white\",\"plot_bgcolor\":\"#E5ECF6\",\"polar\":{\"angularaxis\":{\"gridcolor\":\"white\",\"linecolor\":\"white\",\"ticks\":\"\"},\"bgcolor\":\"#E5ECF6\",\"radialaxis\":{\"gridcolor\":\"white\",\"linecolor\":\"white\",\"ticks\":\"\"}},\"scene\":{\"xaxis\":{\"backgroundcolor\":\"#E5ECF6\",\"gridcolor\":\"white\",\"gridwidth\":2,\"linecolor\":\"white\",\"showbackground\":true,\"ticks\":\"\",\"zerolinecolor\":\"white\"},\"yaxis\":{\"backgroundcolor\":\"#E5ECF6\",\"gridcolor\":\"white\",\"gridwidth\":2,\"linecolor\":\"white\",\"showbackground\":true,\"ticks\":\"\",\"zerolinecolor\":\"white\"},\"zaxis\":{\"backgroundcolor\":\"#E5ECF6\",\"gridcolor\":\"white\",\"gridwidth\":2,\"linecolor\":\"white\",\"showbackground\":true,\"ticks\":\"\",\"zerolinecolor\":\"white\"}},\"shapedefaults\":{\"line\":{\"color\":\"#2a3f5f\"}},\"ternary\":{\"aaxis\":{\"gridcolor\":\"white\",\"linecolor\":\"white\",\"ticks\":\"\"},\"baxis\":{\"gridcolor\":\"white\",\"linecolor\":\"white\",\"ticks\":\"\"},\"bgcolor\":\"#E5ECF6\",\"caxis\":{\"gridcolor\":\"white\",\"linecolor\":\"white\",\"ticks\":\"\"}},\"title\":{\"x\":0.05},\"xaxis\":{\"automargin\":true,\"gridcolor\":\"white\",\"linecolor\":\"white\",\"ticks\":\"\",\"title\":{\"standoff\":15},\"zerolinecolor\":\"white\",\"zerolinewidth\":2},\"yaxis\":{\"automargin\":true,\"gridcolor\":\"white\",\"linecolor\":\"white\",\"ticks\":\"\",\"title\":{\"standoff\":15},\"zerolinecolor\":\"white\",\"zerolinewidth\":2}}},\"geo\":{\"domain\":{\"x\":[0.0,1.0],\"y\":[0.0,1.0]},\"center\":{}},\"coloraxis\":{\"colorbar\":{\"title\":{\"text\":\"counts\"}},\"colorscale\":[[0.0,\"rgb(255,247,236)\"],[0.125,\"rgb(254,232,200)\"],[0.25,\"rgb(253,212,158)\"],[0.375,\"rgb(253,187,132)\"],[0.5,\"rgb(252,141,89)\"],[0.625,\"rgb(239,101,72)\"],[0.75,\"rgb(215,48,31)\"],[0.875,\"rgb(179,0,0)\"],[1.0,\"rgb(127,0,0)\"]],\"cmin\":0,\"cmax\":200},\"legend\":{\"tracegroupgap\":0},\"margin\":{\"t\":60},\"updatemenus\":[{\"buttons\":[{\"args\":[null,{\"frame\":{\"duration\":500,\"redraw\":true},\"mode\":\"immediate\",\"fromcurrent\":true,\"transition\":{\"duration\":500,\"easing\":\"linear\"}}],\"label\":\"&#9654;\",\"method\":\"animate\"},{\"args\":[[null],{\"frame\":{\"duration\":0,\"redraw\":true},\"mode\":\"immediate\",\"fromcurrent\":true,\"transition\":{\"duration\":0,\"easing\":\"linear\"}}],\"label\":\"&#9724;\",\"method\":\"animate\"}],\"direction\":\"left\",\"pad\":{\"r\":10,\"t\":70},\"showactive\":false,\"type\":\"buttons\",\"x\":0.1,\"xanchor\":\"right\",\"y\":0,\"yanchor\":\"top\"}],\"sliders\":[{\"active\":0,\"currentvalue\":{\"prefix\":\"release_year=\"},\"len\":0.9,\"pad\":{\"b\":10,\"t\":60},\"steps\":[{\"args\":[[\"1925\"],{\"frame\":{\"duration\":0,\"redraw\":true},\"mode\":\"immediate\",\"fromcurrent\":true,\"transition\":{\"duration\":0,\"easing\":\"linear\"}}],\"label\":\"1925\",\"method\":\"animate\"},{\"args\":[[\"1942\"],{\"frame\":{\"duration\":0,\"redraw\":true},\"mode\":\"immediate\",\"fromcurrent\":true,\"transition\":{\"duration\":0,\"easing\":\"linear\"}}],\"label\":\"1942\",\"method\":\"animate\"},{\"args\":[[\"1943\"],{\"frame\":{\"duration\":0,\"redraw\":true},\"mode\":\"immediate\",\"fromcurrent\":true,\"transition\":{\"duration\":0,\"easing\":\"linear\"}}],\"label\":\"1943\",\"method\":\"animate\"},{\"args\":[[\"1944\"],{\"frame\":{\"duration\":0,\"redraw\":true},\"mode\":\"immediate\",\"fromcurrent\":true,\"transition\":{\"duration\":0,\"easing\":\"linear\"}}],\"label\":\"1944\",\"method\":\"animate\"},{\"args\":[[\"1945\"],{\"frame\":{\"duration\":0,\"redraw\":true},\"mode\":\"immediate\",\"fromcurrent\":true,\"transition\":{\"duration\":0,\"easing\":\"linear\"}}],\"label\":\"1945\",\"method\":\"animate\"},{\"args\":[[\"1946\"],{\"frame\":{\"duration\":0,\"redraw\":true},\"mode\":\"immediate\",\"fromcurrent\":true,\"transition\":{\"duration\":0,\"easing\":\"linear\"}}],\"label\":\"1946\",\"method\":\"animate\"},{\"args\":[[\"1947\"],{\"frame\":{\"duration\":0,\"redraw\":true},\"mode\":\"immediate\",\"fromcurrent\":true,\"transition\":{\"duration\":0,\"easing\":\"linear\"}}],\"label\":\"1947\",\"method\":\"animate\"},{\"args\":[[\"1954\"],{\"frame\":{\"duration\":0,\"redraw\":true},\"mode\":\"immediate\",\"fromcurrent\":true,\"transition\":{\"duration\":0,\"easing\":\"linear\"}}],\"label\":\"1954\",\"method\":\"animate\"},{\"args\":[[\"1955\"],{\"frame\":{\"duration\":0,\"redraw\":true},\"mode\":\"immediate\",\"fromcurrent\":true,\"transition\":{\"duration\":0,\"easing\":\"linear\"}}],\"label\":\"1955\",\"method\":\"animate\"},{\"args\":[[\"1956\"],{\"frame\":{\"duration\":0,\"redraw\":true},\"mode\":\"immediate\",\"fromcurrent\":true,\"transition\":{\"duration\":0,\"easing\":\"linear\"}}],\"label\":\"1956\",\"method\":\"animate\"},{\"args\":[[\"1958\"],{\"frame\":{\"duration\":0,\"redraw\":true},\"mode\":\"immediate\",\"fromcurrent\":true,\"transition\":{\"duration\":0,\"easing\":\"linear\"}}],\"label\":\"1958\",\"method\":\"animate\"},{\"args\":[[\"1959\"],{\"frame\":{\"duration\":0,\"redraw\":true},\"mode\":\"immediate\",\"fromcurrent\":true,\"transition\":{\"duration\":0,\"easing\":\"linear\"}}],\"label\":\"1959\",\"method\":\"animate\"},{\"args\":[[\"1960\"],{\"frame\":{\"duration\":0,\"redraw\":true},\"mode\":\"immediate\",\"fromcurrent\":true,\"transition\":{\"duration\":0,\"easing\":\"linear\"}}],\"label\":\"1960\",\"method\":\"animate\"},{\"args\":[[\"1961\"],{\"frame\":{\"duration\":0,\"redraw\":true},\"mode\":\"immediate\",\"fromcurrent\":true,\"transition\":{\"duration\":0,\"easing\":\"linear\"}}],\"label\":\"1961\",\"method\":\"animate\"},{\"args\":[[\"1962\"],{\"frame\":{\"duration\":0,\"redraw\":true},\"mode\":\"immediate\",\"fromcurrent\":true,\"transition\":{\"duration\":0,\"easing\":\"linear\"}}],\"label\":\"1962\",\"method\":\"animate\"},{\"args\":[[\"1963\"],{\"frame\":{\"duration\":0,\"redraw\":true},\"mode\":\"immediate\",\"fromcurrent\":true,\"transition\":{\"duration\":0,\"easing\":\"linear\"}}],\"label\":\"1963\",\"method\":\"animate\"},{\"args\":[[\"1964\"],{\"frame\":{\"duration\":0,\"redraw\":true},\"mode\":\"immediate\",\"fromcurrent\":true,\"transition\":{\"duration\":0,\"easing\":\"linear\"}}],\"label\":\"1964\",\"method\":\"animate\"},{\"args\":[[\"1965\"],{\"frame\":{\"duration\":0,\"redraw\":true},\"mode\":\"immediate\",\"fromcurrent\":true,\"transition\":{\"duration\":0,\"easing\":\"linear\"}}],\"label\":\"1965\",\"method\":\"animate\"},{\"args\":[[\"1966\"],{\"frame\":{\"duration\":0,\"redraw\":true},\"mode\":\"immediate\",\"fromcurrent\":true,\"transition\":{\"duration\":0,\"easing\":\"linear\"}}],\"label\":\"1966\",\"method\":\"animate\"},{\"args\":[[\"1967\"],{\"frame\":{\"duration\":0,\"redraw\":true},\"mode\":\"immediate\",\"fromcurrent\":true,\"transition\":{\"duration\":0,\"easing\":\"linear\"}}],\"label\":\"1967\",\"method\":\"animate\"},{\"args\":[[\"1968\"],{\"frame\":{\"duration\":0,\"redraw\":true},\"mode\":\"immediate\",\"fromcurrent\":true,\"transition\":{\"duration\":0,\"easing\":\"linear\"}}],\"label\":\"1968\",\"method\":\"animate\"},{\"args\":[[\"1969\"],{\"frame\":{\"duration\":0,\"redraw\":true},\"mode\":\"immediate\",\"fromcurrent\":true,\"transition\":{\"duration\":0,\"easing\":\"linear\"}}],\"label\":\"1969\",\"method\":\"animate\"},{\"args\":[[\"1970\"],{\"frame\":{\"duration\":0,\"redraw\":true},\"mode\":\"immediate\",\"fromcurrent\":true,\"transition\":{\"duration\":0,\"easing\":\"linear\"}}],\"label\":\"1970\",\"method\":\"animate\"},{\"args\":[[\"1971\"],{\"frame\":{\"duration\":0,\"redraw\":true},\"mode\":\"immediate\",\"fromcurrent\":true,\"transition\":{\"duration\":0,\"easing\":\"linear\"}}],\"label\":\"1971\",\"method\":\"animate\"},{\"args\":[[\"1972\"],{\"frame\":{\"duration\":0,\"redraw\":true},\"mode\":\"immediate\",\"fromcurrent\":true,\"transition\":{\"duration\":0,\"easing\":\"linear\"}}],\"label\":\"1972\",\"method\":\"animate\"},{\"args\":[[\"1973\"],{\"frame\":{\"duration\":0,\"redraw\":true},\"mode\":\"immediate\",\"fromcurrent\":true,\"transition\":{\"duration\":0,\"easing\":\"linear\"}}],\"label\":\"1973\",\"method\":\"animate\"},{\"args\":[[\"1974\"],{\"frame\":{\"duration\":0,\"redraw\":true},\"mode\":\"immediate\",\"fromcurrent\":true,\"transition\":{\"duration\":0,\"easing\":\"linear\"}}],\"label\":\"1974\",\"method\":\"animate\"},{\"args\":[[\"1975\"],{\"frame\":{\"duration\":0,\"redraw\":true},\"mode\":\"immediate\",\"fromcurrent\":true,\"transition\":{\"duration\":0,\"easing\":\"linear\"}}],\"label\":\"1975\",\"method\":\"animate\"},{\"args\":[[\"1976\"],{\"frame\":{\"duration\":0,\"redraw\":true},\"mode\":\"immediate\",\"fromcurrent\":true,\"transition\":{\"duration\":0,\"easing\":\"linear\"}}],\"label\":\"1976\",\"method\":\"animate\"},{\"args\":[[\"1977\"],{\"frame\":{\"duration\":0,\"redraw\":true},\"mode\":\"immediate\",\"fromcurrent\":true,\"transition\":{\"duration\":0,\"easing\":\"linear\"}}],\"label\":\"1977\",\"method\":\"animate\"},{\"args\":[[\"1978\"],{\"frame\":{\"duration\":0,\"redraw\":true},\"mode\":\"immediate\",\"fromcurrent\":true,\"transition\":{\"duration\":0,\"easing\":\"linear\"}}],\"label\":\"1978\",\"method\":\"animate\"},{\"args\":[[\"1979\"],{\"frame\":{\"duration\":0,\"redraw\":true},\"mode\":\"immediate\",\"fromcurrent\":true,\"transition\":{\"duration\":0,\"easing\":\"linear\"}}],\"label\":\"1979\",\"method\":\"animate\"},{\"args\":[[\"1980\"],{\"frame\":{\"duration\":0,\"redraw\":true},\"mode\":\"immediate\",\"fromcurrent\":true,\"transition\":{\"duration\":0,\"easing\":\"linear\"}}],\"label\":\"1980\",\"method\":\"animate\"},{\"args\":[[\"1981\"],{\"frame\":{\"duration\":0,\"redraw\":true},\"mode\":\"immediate\",\"fromcurrent\":true,\"transition\":{\"duration\":0,\"easing\":\"linear\"}}],\"label\":\"1981\",\"method\":\"animate\"},{\"args\":[[\"1982\"],{\"frame\":{\"duration\":0,\"redraw\":true},\"mode\":\"immediate\",\"fromcurrent\":true,\"transition\":{\"duration\":0,\"easing\":\"linear\"}}],\"label\":\"1982\",\"method\":\"animate\"},{\"args\":[[\"1983\"],{\"frame\":{\"duration\":0,\"redraw\":true},\"mode\":\"immediate\",\"fromcurrent\":true,\"transition\":{\"duration\":0,\"easing\":\"linear\"}}],\"label\":\"1983\",\"method\":\"animate\"},{\"args\":[[\"1984\"],{\"frame\":{\"duration\":0,\"redraw\":true},\"mode\":\"immediate\",\"fromcurrent\":true,\"transition\":{\"duration\":0,\"easing\":\"linear\"}}],\"label\":\"1984\",\"method\":\"animate\"},{\"args\":[[\"1985\"],{\"frame\":{\"duration\":0,\"redraw\":true},\"mode\":\"immediate\",\"fromcurrent\":true,\"transition\":{\"duration\":0,\"easing\":\"linear\"}}],\"label\":\"1985\",\"method\":\"animate\"},{\"args\":[[\"1986\"],{\"frame\":{\"duration\":0,\"redraw\":true},\"mode\":\"immediate\",\"fromcurrent\":true,\"transition\":{\"duration\":0,\"easing\":\"linear\"}}],\"label\":\"1986\",\"method\":\"animate\"},{\"args\":[[\"1987\"],{\"frame\":{\"duration\":0,\"redraw\":true},\"mode\":\"immediate\",\"fromcurrent\":true,\"transition\":{\"duration\":0,\"easing\":\"linear\"}}],\"label\":\"1987\",\"method\":\"animate\"},{\"args\":[[\"1988\"],{\"frame\":{\"duration\":0,\"redraw\":true},\"mode\":\"immediate\",\"fromcurrent\":true,\"transition\":{\"duration\":0,\"easing\":\"linear\"}}],\"label\":\"1988\",\"method\":\"animate\"},{\"args\":[[\"1989\"],{\"frame\":{\"duration\":0,\"redraw\":true},\"mode\":\"immediate\",\"fromcurrent\":true,\"transition\":{\"duration\":0,\"easing\":\"linear\"}}],\"label\":\"1989\",\"method\":\"animate\"},{\"args\":[[\"1990\"],{\"frame\":{\"duration\":0,\"redraw\":true},\"mode\":\"immediate\",\"fromcurrent\":true,\"transition\":{\"duration\":0,\"easing\":\"linear\"}}],\"label\":\"1990\",\"method\":\"animate\"},{\"args\":[[\"1991\"],{\"frame\":{\"duration\":0,\"redraw\":true},\"mode\":\"immediate\",\"fromcurrent\":true,\"transition\":{\"duration\":0,\"easing\":\"linear\"}}],\"label\":\"1991\",\"method\":\"animate\"},{\"args\":[[\"1992\"],{\"frame\":{\"duration\":0,\"redraw\":true},\"mode\":\"immediate\",\"fromcurrent\":true,\"transition\":{\"duration\":0,\"easing\":\"linear\"}}],\"label\":\"1992\",\"method\":\"animate\"},{\"args\":[[\"1993\"],{\"frame\":{\"duration\":0,\"redraw\":true},\"mode\":\"immediate\",\"fromcurrent\":true,\"transition\":{\"duration\":0,\"easing\":\"linear\"}}],\"label\":\"1993\",\"method\":\"animate\"},{\"args\":[[\"1994\"],{\"frame\":{\"duration\":0,\"redraw\":true},\"mode\":\"immediate\",\"fromcurrent\":true,\"transition\":{\"duration\":0,\"easing\":\"linear\"}}],\"label\":\"1994\",\"method\":\"animate\"},{\"args\":[[\"1995\"],{\"frame\":{\"duration\":0,\"redraw\":true},\"mode\":\"immediate\",\"fromcurrent\":true,\"transition\":{\"duration\":0,\"easing\":\"linear\"}}],\"label\":\"1995\",\"method\":\"animate\"},{\"args\":[[\"1996\"],{\"frame\":{\"duration\":0,\"redraw\":true},\"mode\":\"immediate\",\"fromcurrent\":true,\"transition\":{\"duration\":0,\"easing\":\"linear\"}}],\"label\":\"1996\",\"method\":\"animate\"},{\"args\":[[\"1997\"],{\"frame\":{\"duration\":0,\"redraw\":true},\"mode\":\"immediate\",\"fromcurrent\":true,\"transition\":{\"duration\":0,\"easing\":\"linear\"}}],\"label\":\"1997\",\"method\":\"animate\"},{\"args\":[[\"1998\"],{\"frame\":{\"duration\":0,\"redraw\":true},\"mode\":\"immediate\",\"fromcurrent\":true,\"transition\":{\"duration\":0,\"easing\":\"linear\"}}],\"label\":\"1998\",\"method\":\"animate\"},{\"args\":[[\"1999\"],{\"frame\":{\"duration\":0,\"redraw\":true},\"mode\":\"immediate\",\"fromcurrent\":true,\"transition\":{\"duration\":0,\"easing\":\"linear\"}}],\"label\":\"1999\",\"method\":\"animate\"},{\"args\":[[\"2000\"],{\"frame\":{\"duration\":0,\"redraw\":true},\"mode\":\"immediate\",\"fromcurrent\":true,\"transition\":{\"duration\":0,\"easing\":\"linear\"}}],\"label\":\"2000\",\"method\":\"animate\"},{\"args\":[[\"2001\"],{\"frame\":{\"duration\":0,\"redraw\":true},\"mode\":\"immediate\",\"fromcurrent\":true,\"transition\":{\"duration\":0,\"easing\":\"linear\"}}],\"label\":\"2001\",\"method\":\"animate\"},{\"args\":[[\"2002\"],{\"frame\":{\"duration\":0,\"redraw\":true},\"mode\":\"immediate\",\"fromcurrent\":true,\"transition\":{\"duration\":0,\"easing\":\"linear\"}}],\"label\":\"2002\",\"method\":\"animate\"},{\"args\":[[\"2003\"],{\"frame\":{\"duration\":0,\"redraw\":true},\"mode\":\"immediate\",\"fromcurrent\":true,\"transition\":{\"duration\":0,\"easing\":\"linear\"}}],\"label\":\"2003\",\"method\":\"animate\"},{\"args\":[[\"2004\"],{\"frame\":{\"duration\":0,\"redraw\":true},\"mode\":\"immediate\",\"fromcurrent\":true,\"transition\":{\"duration\":0,\"easing\":\"linear\"}}],\"label\":\"2004\",\"method\":\"animate\"},{\"args\":[[\"2005\"],{\"frame\":{\"duration\":0,\"redraw\":true},\"mode\":\"immediate\",\"fromcurrent\":true,\"transition\":{\"duration\":0,\"easing\":\"linear\"}}],\"label\":\"2005\",\"method\":\"animate\"},{\"args\":[[\"2006\"],{\"frame\":{\"duration\":0,\"redraw\":true},\"mode\":\"immediate\",\"fromcurrent\":true,\"transition\":{\"duration\":0,\"easing\":\"linear\"}}],\"label\":\"2006\",\"method\":\"animate\"},{\"args\":[[\"2007\"],{\"frame\":{\"duration\":0,\"redraw\":true},\"mode\":\"immediate\",\"fromcurrent\":true,\"transition\":{\"duration\":0,\"easing\":\"linear\"}}],\"label\":\"2007\",\"method\":\"animate\"},{\"args\":[[\"2008\"],{\"frame\":{\"duration\":0,\"redraw\":true},\"mode\":\"immediate\",\"fromcurrent\":true,\"transition\":{\"duration\":0,\"easing\":\"linear\"}}],\"label\":\"2008\",\"method\":\"animate\"},{\"args\":[[\"2009\"],{\"frame\":{\"duration\":0,\"redraw\":true},\"mode\":\"immediate\",\"fromcurrent\":true,\"transition\":{\"duration\":0,\"easing\":\"linear\"}}],\"label\":\"2009\",\"method\":\"animate\"},{\"args\":[[\"2010\"],{\"frame\":{\"duration\":0,\"redraw\":true},\"mode\":\"immediate\",\"fromcurrent\":true,\"transition\":{\"duration\":0,\"easing\":\"linear\"}}],\"label\":\"2010\",\"method\":\"animate\"},{\"args\":[[\"2011\"],{\"frame\":{\"duration\":0,\"redraw\":true},\"mode\":\"immediate\",\"fromcurrent\":true,\"transition\":{\"duration\":0,\"easing\":\"linear\"}}],\"label\":\"2011\",\"method\":\"animate\"},{\"args\":[[\"2012\"],{\"frame\":{\"duration\":0,\"redraw\":true},\"mode\":\"immediate\",\"fromcurrent\":true,\"transition\":{\"duration\":0,\"easing\":\"linear\"}}],\"label\":\"2012\",\"method\":\"animate\"},{\"args\":[[\"2013\"],{\"frame\":{\"duration\":0,\"redraw\":true},\"mode\":\"immediate\",\"fromcurrent\":true,\"transition\":{\"duration\":0,\"easing\":\"linear\"}}],\"label\":\"2013\",\"method\":\"animate\"},{\"args\":[[\"2014\"],{\"frame\":{\"duration\":0,\"redraw\":true},\"mode\":\"immediate\",\"fromcurrent\":true,\"transition\":{\"duration\":0,\"easing\":\"linear\"}}],\"label\":\"2014\",\"method\":\"animate\"},{\"args\":[[\"2015\"],{\"frame\":{\"duration\":0,\"redraw\":true},\"mode\":\"immediate\",\"fromcurrent\":true,\"transition\":{\"duration\":0,\"easing\":\"linear\"}}],\"label\":\"2015\",\"method\":\"animate\"},{\"args\":[[\"2016\"],{\"frame\":{\"duration\":0,\"redraw\":true},\"mode\":\"immediate\",\"fromcurrent\":true,\"transition\":{\"duration\":0,\"easing\":\"linear\"}}],\"label\":\"2016\",\"method\":\"animate\"},{\"args\":[[\"2017\"],{\"frame\":{\"duration\":0,\"redraw\":true},\"mode\":\"immediate\",\"fromcurrent\":true,\"transition\":{\"duration\":0,\"easing\":\"linear\"}}],\"label\":\"2017\",\"method\":\"animate\"},{\"args\":[[\"2018\"],{\"frame\":{\"duration\":0,\"redraw\":true},\"mode\":\"immediate\",\"fromcurrent\":true,\"transition\":{\"duration\":0,\"easing\":\"linear\"}}],\"label\":\"2018\",\"method\":\"animate\"},{\"args\":[[\"2019\"],{\"frame\":{\"duration\":0,\"redraw\":true},\"mode\":\"immediate\",\"fromcurrent\":true,\"transition\":{\"duration\":0,\"easing\":\"linear\"}}],\"label\":\"2019\",\"method\":\"animate\"},{\"args\":[[\"2020\"],{\"frame\":{\"duration\":0,\"redraw\":true},\"mode\":\"immediate\",\"fromcurrent\":true,\"transition\":{\"duration\":0,\"easing\":\"linear\"}}],\"label\":\"2020\",\"method\":\"animate\"},{\"args\":[[\"2021\"],{\"frame\":{\"duration\":0,\"redraw\":true},\"mode\":\"immediate\",\"fromcurrent\":true,\"transition\":{\"duration\":0,\"easing\":\"linear\"}}],\"label\":\"2021\",\"method\":\"animate\"}],\"x\":0.1,\"xanchor\":\"left\",\"y\":0,\"yanchor\":\"top\"}],\"title\":{\"text\":\"Comparison by country\"}},                        {\"responsive\": true}                    ).then(function(){\n",
       "                            Plotly.addFrames('9359da28-ab2f-4687-8df8-1c73f92ad982', [{\"data\":[{\"coloraxis\":\"coloraxis\",\"geo\":\"geo\",\"hovertemplate\":\"release_year=1925<br>country=%{location}<br>counts=%{z}<extra></extra>\",\"locationmode\":\"country names\",\"locations\":[\"Pakistan\"],\"name\":\"\",\"z\":[1],\"type\":\"choropleth\"}],\"name\":\"1925\"},{\"data\":[{\"coloraxis\":\"coloraxis\",\"geo\":\"geo\",\"hovertemplate\":\"release_year=1942<br>country=%{location}<br>counts=%{z}<extra></extra>\",\"locationmode\":\"country names\",\"locations\":[\"United States\"],\"name\":\"\",\"z\":[2],\"type\":\"choropleth\"}],\"name\":\"1942\"},{\"data\":[{\"coloraxis\":\"coloraxis\",\"geo\":\"geo\",\"hovertemplate\":\"release_year=1943<br>country=%{location}<br>counts=%{z}<extra></extra>\",\"locationmode\":\"country names\",\"locations\":[\"United States\"],\"name\":\"\",\"z\":[3],\"type\":\"choropleth\"}],\"name\":\"1943\"},{\"data\":[{\"coloraxis\":\"coloraxis\",\"geo\":\"geo\",\"hovertemplate\":\"release_year=1944<br>country=%{location}<br>counts=%{z}<extra></extra>\",\"locationmode\":\"country names\",\"locations\":[\"United States\"],\"name\":\"\",\"z\":[3],\"type\":\"choropleth\"}],\"name\":\"1944\"},{\"data\":[{\"coloraxis\":\"coloraxis\",\"geo\":\"geo\",\"hovertemplate\":\"release_year=1945<br>country=%{location}<br>counts=%{z}<extra></extra>\",\"locationmode\":\"country names\",\"locations\":[\"United States\"],\"name\":\"\",\"z\":[4],\"type\":\"choropleth\"}],\"name\":\"1945\"},{\"data\":[{\"coloraxis\":\"coloraxis\",\"geo\":\"geo\",\"hovertemplate\":\"release_year=1946<br>country=%{location}<br>counts=%{z}<extra></extra>\",\"locationmode\":\"country names\",\"locations\":[\"United States\"],\"name\":\"\",\"z\":[2],\"type\":\"choropleth\"}],\"name\":\"1946\"},{\"data\":[{\"coloraxis\":\"coloraxis\",\"geo\":\"geo\",\"hovertemplate\":\"release_year=1947<br>country=%{location}<br>counts=%{z}<extra></extra>\",\"locationmode\":\"country names\",\"locations\":[\"United States\"],\"name\":\"\",\"z\":[1],\"type\":\"choropleth\"}],\"name\":\"1947\"},{\"data\":[{\"coloraxis\":\"coloraxis\",\"geo\":\"geo\",\"hovertemplate\":\"release_year=1954<br>country=%{location}<br>counts=%{z}<extra></extra>\",\"locationmode\":\"country names\",\"locations\":[\"Egypt\",\"United States\"],\"name\":\"\",\"z\":[1,1],\"type\":\"choropleth\"}],\"name\":\"1954\"},{\"data\":[{\"coloraxis\":\"coloraxis\",\"geo\":\"geo\",\"hovertemplate\":\"release_year=1955<br>country=%{location}<br>counts=%{z}<extra></extra>\",\"locationmode\":\"country names\",\"locations\":[\"Italy\",\"United States\"],\"name\":\"\",\"z\":[2,1],\"type\":\"choropleth\"}],\"name\":\"1955\"},{\"data\":[{\"coloraxis\":\"coloraxis\",\"geo\":\"geo\",\"hovertemplate\":\"release_year=1956<br>country=%{location}<br>counts=%{z}<extra></extra>\",\"locationmode\":\"country names\",\"locations\":[\"Egypt\",\"United States\"],\"name\":\"\",\"z\":[1,1],\"type\":\"choropleth\"}],\"name\":\"1956\"},{\"data\":[{\"coloraxis\":\"coloraxis\",\"geo\":\"geo\",\"hovertemplate\":\"release_year=1958<br>country=%{location}<br>counts=%{z}<extra></extra>\",\"locationmode\":\"country names\",\"locations\":[\"United States\",\"Egypt\"],\"name\":\"\",\"z\":[2,1],\"type\":\"choropleth\"}],\"name\":\"1958\"},{\"data\":[{\"coloraxis\":\"coloraxis\",\"geo\":\"geo\",\"hovertemplate\":\"release_year=1959<br>country=%{location}<br>counts=%{z}<extra></extra>\",\"locationmode\":\"country names\",\"locations\":[\"India\"],\"name\":\"\",\"z\":[1],\"type\":\"choropleth\"}],\"name\":\"1959\"},{\"data\":[{\"coloraxis\":\"coloraxis\",\"geo\":\"geo\",\"hovertemplate\":\"release_year=1960<br>country=%{location}<br>counts=%{z}<extra></extra>\",\"locationmode\":\"country names\",\"locations\":[\"United States\",\"India\",\"Not Given\"],\"name\":\"\",\"z\":[2,1,1],\"type\":\"choropleth\"}],\"name\":\"1960\"},{\"data\":[{\"coloraxis\":\"coloraxis\",\"geo\":\"geo\",\"hovertemplate\":\"release_year=1961<br>country=%{location}<br>counts=%{z}<extra></extra>\",\"locationmode\":\"country names\",\"locations\":[\"United Kingdom\"],\"name\":\"\",\"z\":[1],\"type\":\"choropleth\"}],\"name\":\"1961\"},{\"data\":[{\"coloraxis\":\"coloraxis\",\"geo\":\"geo\",\"hovertemplate\":\"release_year=1962<br>country=%{location}<br>counts=%{z}<extra></extra>\",\"locationmode\":\"country names\",\"locations\":[\"India\",\"United Kingdom\",\"United States\"],\"name\":\"\",\"z\":[1,1,1],\"type\":\"choropleth\"}],\"name\":\"1962\"},{\"data\":[{\"coloraxis\":\"coloraxis\",\"geo\":\"geo\",\"hovertemplate\":\"release_year=1963<br>country=%{location}<br>counts=%{z}<extra></extra>\",\"locationmode\":\"country names\",\"locations\":[\"Egypt\",\"United States\"],\"name\":\"\",\"z\":[1,1],\"type\":\"choropleth\"}],\"name\":\"1963\"},{\"data\":[{\"coloraxis\":\"coloraxis\",\"geo\":\"geo\",\"hovertemplate\":\"release_year=1964<br>country=%{location}<br>counts=%{z}<extra></extra>\",\"locationmode\":\"country names\",\"locations\":[\"India\",\"United States\"],\"name\":\"\",\"z\":[1,1],\"type\":\"choropleth\"}],\"name\":\"1964\"},{\"data\":[{\"coloraxis\":\"coloraxis\",\"geo\":\"geo\",\"hovertemplate\":\"release_year=1965<br>country=%{location}<br>counts=%{z}<extra></extra>\",\"locationmode\":\"country names\",\"locations\":[\"United States\"],\"name\":\"\",\"z\":[2],\"type\":\"choropleth\"}],\"name\":\"1965\"},{\"data\":[{\"coloraxis\":\"coloraxis\",\"geo\":\"geo\",\"hovertemplate\":\"release_year=1966<br>country=%{location}<br>counts=%{z}<extra></extra>\",\"locationmode\":\"country names\",\"locations\":[\"India\"],\"name\":\"\",\"z\":[1],\"type\":\"choropleth\"}],\"name\":\"1966\"},{\"data\":[{\"coloraxis\":\"coloraxis\",\"geo\":\"geo\",\"hovertemplate\":\"release_year=1967<br>country=%{location}<br>counts=%{z}<extra></extra>\",\"locationmode\":\"country names\",\"locations\":[\"United States\",\"Poland\"],\"name\":\"\",\"z\":[4,1],\"type\":\"choropleth\"}],\"name\":\"1967\"},{\"data\":[{\"coloraxis\":\"coloraxis\",\"geo\":\"geo\",\"hovertemplate\":\"release_year=1968<br>country=%{location}<br>counts=%{z}<extra></extra>\",\"locationmode\":\"country names\",\"locations\":[\"Italy\",\"United Kingdom\",\"United States\"],\"name\":\"\",\"z\":[1,1,1],\"type\":\"choropleth\"}],\"name\":\"1968\"},{\"data\":[{\"coloraxis\":\"coloraxis\",\"geo\":\"geo\",\"hovertemplate\":\"release_year=1969<br>country=%{location}<br>counts=%{z}<extra></extra>\",\"locationmode\":\"country names\",\"locations\":[\"India\",\"United States\"],\"name\":\"\",\"z\":[1,1],\"type\":\"choropleth\"}],\"name\":\"1969\"},{\"data\":[{\"coloraxis\":\"coloraxis\",\"geo\":\"geo\",\"hovertemplate\":\"release_year=1970<br>country=%{location}<br>counts=%{z}<extra></extra>\",\"locationmode\":\"country names\",\"locations\":[\"Egypt\",\"Poland\"],\"name\":\"\",\"z\":[1,1],\"type\":\"choropleth\"}],\"name\":\"1970\"},{\"data\":[{\"coloraxis\":\"coloraxis\",\"geo\":\"geo\",\"hovertemplate\":\"release_year=1971<br>country=%{location}<br>counts=%{z}<extra></extra>\",\"locationmode\":\"country names\",\"locations\":[\"India\",\"United States\",\"United Kingdom\"],\"name\":\"\",\"z\":[2,2,1],\"type\":\"choropleth\"}],\"name\":\"1971\"},{\"data\":[{\"coloraxis\":\"coloraxis\",\"geo\":\"geo\",\"hovertemplate\":\"release_year=1972<br>country=%{location}<br>counts=%{z}<extra></extra>\",\"locationmode\":\"country names\",\"locations\":[\"India\",\"United States\",\"United Kingdom\"],\"name\":\"\",\"z\":[2,2,1],\"type\":\"choropleth\"}],\"name\":\"1972\"},{\"data\":[{\"coloraxis\":\"coloraxis\",\"geo\":\"geo\",\"hovertemplate\":\"release_year=1973<br>country=%{location}<br>counts=%{z}<extra></extra>\",\"locationmode\":\"country names\",\"locations\":[\"United States\",\"Hong Kong\",\"India\",\"Egypt\",\"Poland\"],\"name\":\"\",\"z\":[4,2,2,1,1],\"type\":\"choropleth\"}],\"name\":\"1973\"},{\"data\":[{\"coloraxis\":\"coloraxis\",\"geo\":\"geo\",\"hovertemplate\":\"release_year=1974<br>country=%{location}<br>counts=%{z}<extra></extra>\",\"locationmode\":\"country names\",\"locations\":[\"United States\",\"India\",\"France\",\"United Kingdom\"],\"name\":\"\",\"z\":[3,2,1,1],\"type\":\"choropleth\"}],\"name\":\"1974\"},{\"data\":[{\"coloraxis\":\"coloraxis\",\"geo\":\"geo\",\"hovertemplate\":\"release_year=1975<br>country=%{location}<br>counts=%{z}<extra></extra>\",\"locationmode\":\"country names\",\"locations\":[\"India\",\"Hong Kong\",\"Lebanon\",\"Poland\",\"United Kingdom\",\"United States\"],\"name\":\"\",\"z\":[2,1,1,1,1,1],\"type\":\"choropleth\"}],\"name\":\"1975\"},{\"data\":[{\"coloraxis\":\"coloraxis\",\"geo\":\"geo\",\"hovertemplate\":\"release_year=1976<br>country=%{location}<br>counts=%{z}<extra></extra>\",\"locationmode\":\"country names\",\"locations\":[\"United States\",\"Egypt\",\"India\"],\"name\":\"\",\"z\":[5,2,2],\"type\":\"choropleth\"}],\"name\":\"1976\"},{\"data\":[{\"coloraxis\":\"coloraxis\",\"geo\":\"geo\",\"hovertemplate\":\"release_year=1977<br>country=%{location}<br>counts=%{z}<extra></extra>\",\"locationmode\":\"country names\",\"locations\":[\"United States\",\"India\",\"United Kingdom\",\"West Germany\"],\"name\":\"\",\"z\":[3,2,1,1],\"type\":\"choropleth\"}],\"name\":\"1977\"},{\"data\":[{\"coloraxis\":\"coloraxis\",\"geo\":\"geo\",\"hovertemplate\":\"release_year=1978<br>country=%{location}<br>counts=%{z}<extra></extra>\",\"locationmode\":\"country names\",\"locations\":[\"United States\",\"Hong Kong\",\"India\",\"Poland\"],\"name\":\"\",\"z\":[3,2,1,1],\"type\":\"choropleth\"}],\"name\":\"1978\"},{\"data\":[{\"coloraxis\":\"coloraxis\",\"geo\":\"geo\",\"hovertemplate\":\"release_year=1979<br>country=%{location}<br>counts=%{z}<extra></extra>\",\"locationmode\":\"country names\",\"locations\":[\"Egypt\",\"India\",\"United States\",\"Australia\",\"Japan\",\"Lebanon\",\"Mexico\",\"United Kingdom\"],\"name\":\"\",\"z\":[2,2,2,1,1,1,1,1],\"type\":\"choropleth\"}],\"name\":\"1979\"},{\"data\":[{\"coloraxis\":\"coloraxis\",\"geo\":\"geo\",\"hovertemplate\":\"release_year=1980<br>country=%{location}<br>counts=%{z}<extra></extra>\",\"locationmode\":\"country names\",\"locations\":[\"United States\",\"Hong Kong\",\"India\",\"Lebanon\",\"Soviet Union\"],\"name\":\"\",\"z\":[5,2,2,1,1],\"type\":\"choropleth\"}],\"name\":\"1980\"},{\"data\":[{\"coloraxis\":\"coloraxis\",\"geo\":\"geo\",\"hovertemplate\":\"release_year=1981<br>country=%{location}<br>counts=%{z}<extra></extra>\",\"locationmode\":\"country names\",\"locations\":[\"United States\",\"Not Given\",\"Australia\",\"Egypt\",\"Hong Kong\",\"India\",\"Japan\",\"Kuwait\"],\"name\":\"\",\"z\":[5,2,1,1,1,1,1,1],\"type\":\"choropleth\"}],\"name\":\"1981\"},{\"data\":[{\"coloraxis\":\"coloraxis\",\"geo\":\"geo\",\"hovertemplate\":\"release_year=1982<br>country=%{location}<br>counts=%{z}<extra></extra>\",\"locationmode\":\"country names\",\"locations\":[\"India\",\"United States\",\"Hong Kong\",\"Not Given\",\"Egypt\",\"France\",\"Poland\",\"United Kingdom\"],\"name\":\"\",\"z\":[6,3,2,2,1,1,1,1],\"type\":\"choropleth\"}],\"name\":\"1982\"},{\"data\":[{\"coloraxis\":\"coloraxis\",\"geo\":\"geo\",\"hovertemplate\":\"release_year=1983<br>country=%{location}<br>counts=%{z}<extra></extra>\",\"locationmode\":\"country names\",\"locations\":[\"India\",\"Hong Kong\",\"United States\",\"Not Given\",\"Poland\"],\"name\":\"\",\"z\":[4,3,2,1,1],\"type\":\"choropleth\"}],\"name\":\"1983\"},{\"data\":[{\"coloraxis\":\"coloraxis\",\"geo\":\"geo\",\"hovertemplate\":\"release_year=1984<br>country=%{location}<br>counts=%{z}<extra></extra>\",\"locationmode\":\"country names\",\"locations\":[\"United States\",\"Hong Kong\",\"India\",\"Italy\",\"Not Given\"],\"name\":\"\",\"z\":[5,3,2,1,1],\"type\":\"choropleth\"}],\"name\":\"1984\"},{\"data\":[{\"coloraxis\":\"coloraxis\",\"geo\":\"geo\",\"hovertemplate\":\"release_year=1985<br>country=%{location}<br>counts=%{z}<extra></extra>\",\"locationmode\":\"country names\",\"locations\":[\"Argentina\",\"Hong Kong\",\"India\",\"United States\",\"Not Given\",\"Poland\"],\"name\":\"\",\"z\":[2,2,2,2,1,1],\"type\":\"choropleth\"}],\"name\":\"1985\"},{\"data\":[{\"coloraxis\":\"coloraxis\",\"geo\":\"geo\",\"hovertemplate\":\"release_year=1986<br>country=%{location}<br>counts=%{z}<extra></extra>\",\"locationmode\":\"country names\",\"locations\":[\"United States\",\"India\",\"Hong Kong\",\"Italy\",\"Japan\",\"United Kingdom\"],\"name\":\"\",\"z\":[7,2,1,1,1,1],\"type\":\"choropleth\"}],\"name\":\"1986\"},{\"data\":[{\"coloraxis\":\"coloraxis\",\"geo\":\"geo\",\"hovertemplate\":\"release_year=1987<br>country=%{location}<br>counts=%{z}<extra></extra>\",\"locationmode\":\"country names\",\"locations\":[\"United States\",\"India\"],\"name\":\"\",\"z\":[7,1],\"type\":\"choropleth\"}],\"name\":\"1987\"},{\"data\":[{\"coloraxis\":\"coloraxis\",\"geo\":\"geo\",\"hovertemplate\":\"release_year=1988<br>country=%{location}<br>counts=%{z}<extra></extra>\",\"locationmode\":\"country names\",\"locations\":[\"United States\",\"India\",\"Hong Kong\",\"Not Given\"],\"name\":\"\",\"z\":[14,2,1,1],\"type\":\"choropleth\"}],\"name\":\"1988\"},{\"data\":[{\"coloraxis\":\"coloraxis\",\"geo\":\"geo\",\"hovertemplate\":\"release_year=1989<br>country=%{location}<br>counts=%{z}<extra></extra>\",\"locationmode\":\"country names\",\"locations\":[\"United States\",\"India\",\"Denmark\",\"Egypt\",\"Hong Kong\",\"Ireland\",\"United Kingdom\"],\"name\":\"\",\"z\":[9,2,1,1,1,1,1],\"type\":\"choropleth\"}],\"name\":\"1989\"},{\"data\":[{\"coloraxis\":\"coloraxis\",\"geo\":\"geo\",\"hovertemplate\":\"release_year=1990<br>country=%{location}<br>counts=%{z}<extra></extra>\",\"locationmode\":\"country names\",\"locations\":[\"United States\",\"India\",\"Not Given\",\"Australia\",\"Hong Kong\",\"Poland\"],\"name\":\"\",\"z\":[13,4,2,1,1,1],\"type\":\"choropleth\"}],\"name\":\"1990\"},{\"data\":[{\"coloraxis\":\"coloraxis\",\"geo\":\"geo\",\"hovertemplate\":\"release_year=1991<br>country=%{location}<br>counts=%{z}<extra></extra>\",\"locationmode\":\"country names\",\"locations\":[\"United States\",\"United Kingdom\",\"France\",\"India\",\"Mexico\",\"Pakistan\"],\"name\":\"\",\"z\":[11,2,1,1,1,1],\"type\":\"choropleth\"}],\"name\":\"1991\"},{\"data\":[{\"coloraxis\":\"coloraxis\",\"geo\":\"geo\",\"hovertemplate\":\"release_year=1992<br>country=%{location}<br>counts=%{z}<extra></extra>\",\"locationmode\":\"country names\",\"locations\":[\"United States\",\"United Kingdom\",\"Hong Kong\",\"Australia\",\"France\",\"India\",\"Mexico\",\"Not Given\"],\"name\":\"\",\"z\":[10,4,3,2,1,1,1,1],\"type\":\"choropleth\"}],\"name\":\"1992\"},{\"data\":[{\"coloraxis\":\"coloraxis\",\"geo\":\"geo\",\"hovertemplate\":\"release_year=1993<br>country=%{location}<br>counts=%{z}<extra></extra>\",\"locationmode\":\"country names\",\"locations\":[\"United States\",\"India\",\"Hong Kong\",\"United Kingdom\",\"Argentina\",\"France\",\"New Zealand\",\"Not Given\"],\"name\":\"\",\"z\":[17,3,2,2,1,1,1,1],\"type\":\"choropleth\"}],\"name\":\"1993\"},{\"data\":[{\"coloraxis\":\"coloraxis\",\"geo\":\"geo\",\"hovertemplate\":\"release_year=1994<br>country=%{location}<br>counts=%{z}<extra></extra>\",\"locationmode\":\"country names\",\"locations\":[\"United States\",\"India\",\"United Kingdom\",\"Egypt\",\"Hong Kong\",\"Pakistan\"],\"name\":\"\",\"z\":[11,5,3,1,1,1],\"type\":\"choropleth\"}],\"name\":\"1994\"},{\"data\":[{\"coloraxis\":\"coloraxis\",\"geo\":\"geo\",\"hovertemplate\":\"release_year=1995<br>country=%{location}<br>counts=%{z}<extra></extra>\",\"locationmode\":\"country names\",\"locations\":[\"United States\",\"India\",\"Hong Kong\",\"Japan\",\"United Kingdom\"],\"name\":\"\",\"z\":[16,5,2,1,1],\"type\":\"choropleth\"}],\"name\":\"1995\"},{\"data\":[{\"coloraxis\":\"coloraxis\",\"geo\":\"geo\",\"hovertemplate\":\"release_year=1996<br>country=%{location}<br>counts=%{z}<extra></extra>\",\"locationmode\":\"country names\",\"locations\":[\"United States\",\"India\",\"Not Given\",\"Pakistan\",\"United Kingdom\"],\"name\":\"\",\"z\":[17,3,2,1,1],\"type\":\"choropleth\"}],\"name\":\"1996\"},{\"data\":[{\"coloraxis\":\"coloraxis\",\"geo\":\"geo\",\"hovertemplate\":\"release_year=1997<br>country=%{location}<br>counts=%{z}<extra></extra>\",\"locationmode\":\"country names\",\"locations\":[\"United States\",\"India\",\"Canada\",\"United Kingdom\",\"Hong Kong\",\"Egypt\",\"Japan\"],\"name\":\"\",\"z\":[24,4,3,3,2,1,1],\"type\":\"choropleth\"}],\"name\":\"1997\"},{\"data\":[{\"coloraxis\":\"coloraxis\",\"geo\":\"geo\",\"hovertemplate\":\"release_year=1998<br>country=%{location}<br>counts=%{z}<extra></extra>\",\"locationmode\":\"country names\",\"locations\":[\"United States\",\"India\",\"Canada\",\"Japan\",\"United Kingdom\",\"Argentina\",\"Australia\",\"Ireland\"],\"name\":\"\",\"z\":[21,6,2,2,2,1,1,1],\"type\":\"choropleth\"}],\"name\":\"1998\"},{\"data\":[{\"coloraxis\":\"coloraxis\",\"geo\":\"geo\",\"hovertemplate\":\"release_year=1999<br>country=%{location}<br>counts=%{z}<extra></extra>\",\"locationmode\":\"country names\",\"locations\":[\"United States\",\"India\",\"United Kingdom\",\"Germany\",\"Mexico\",\"Australia\",\"Egypt\",\"France\",\"Japan\",\"Thailand\",\"Turkey\"],\"name\":\"\",\"z\":[20,6,3,2,2,1,1,1,1,1,1],\"type\":\"choropleth\"}],\"name\":\"1999\"},{\"data\":[{\"coloraxis\":\"coloraxis\",\"geo\":\"geo\",\"hovertemplate\":\"release_year=2000<br>country=%{location}<br>counts=%{z}<extra></extra>\",\"locationmode\":\"country names\",\"locations\":[\"United States\",\"India\",\"Germany\",\"United Kingdom\",\"France\",\"Japan\",\"Taiwan\"],\"name\":\"\",\"z\":[23,7,2,2,1,1,1],\"type\":\"choropleth\"}],\"name\":\"2000\"},{\"data\":[{\"coloraxis\":\"coloraxis\",\"geo\":\"geo\",\"hovertemplate\":\"release_year=2001<br>country=%{location}<br>counts=%{z}<extra></extra>\",\"locationmode\":\"country names\",\"locations\":[\"United States\",\"India\",\"Japan\",\"United Kingdom\",\"Australia\",\"Germany\",\"Hong Kong\",\"Mexico\",\"Not Given\",\"Turkey\"],\"name\":\"\",\"z\":[27,8,2,2,1,1,1,1,1,1],\"type\":\"choropleth\"}],\"name\":\"2001\"},{\"data\":[{\"coloraxis\":\"coloraxis\",\"geo\":\"geo\",\"hovertemplate\":\"release_year=2002<br>country=%{location}<br>counts=%{z}<extra></extra>\",\"locationmode\":\"country names\",\"locations\":[\"United States\",\"India\",\"United Kingdom\",\"Japan\",\"France\",\"Taiwan\",\"Brazil\",\"Hong Kong\",\"Indonesia\",\"New Zealand\",\"Pakistan\",\"South Africa\",\"Thailand\"],\"name\":\"\",\"z\":[22,10,5,3,2,2,1,1,1,1,1,1,1],\"type\":\"choropleth\"}],\"name\":\"2002\"},{\"data\":[{\"coloraxis\":\"coloraxis\",\"geo\":\"geo\",\"hovertemplate\":\"release_year=2003<br>country=%{location}<br>counts=%{z}<extra></extra>\",\"locationmode\":\"country names\",\"locations\":[\"United States\",\"India\",\"Japan\",\"United Kingdom\",\"Colombia\",\"Indonesia\",\"Lebanon\",\"Malaysia\",\"New Zealand\",\"Nigeria\",\"Pakistan\",\"Taiwan\"],\"name\":\"\",\"z\":[31,14,4,2,1,1,1,1,1,1,1,1],\"type\":\"choropleth\"}],\"name\":\"2003\"},{\"data\":[{\"coloraxis\":\"coloraxis\",\"geo\":\"geo\",\"hovertemplate\":\"release_year=2004<br>country=%{location}<br>counts=%{z}<extra></extra>\",\"locationmode\":\"country names\",\"locations\":[\"United States\",\"India\",\"Japan\",\"United Kingdom\",\"Canada\",\"Egypt\",\"Hong Kong\",\"Mexico\",\"Taiwan\",\"Turkey\",\"Argentina\",\"France\",\"Malaysia\",\"Nigeria\",\"Pakistan\",\"South Korea\",\"Spain\",\"Thailand\",\"Uruguay\"],\"name\":\"\",\"z\":[22,15,3,3,2,2,2,2,2,2,1,1,1,1,1,1,1,1,1],\"type\":\"choropleth\"}],\"name\":\"2004\"},{\"data\":[{\"coloraxis\":\"coloraxis\",\"geo\":\"geo\",\"hovertemplate\":\"release_year=2005<br>country=%{location}<br>counts=%{z}<extra></extra>\",\"locationmode\":\"country names\",\"locations\":[\"United States\",\"India\",\"United Kingdom\",\"Turkey\",\"Germany\",\"Japan\",\"Taiwan\",\"Australia\",\"China\",\"Egypt\",\"France\",\"Indonesia\",\"Lebanon\",\"Pakistan\",\"Romania\",\"Sweden\",\"Thailand\"],\"name\":\"\",\"z\":[37,20,4,3,2,2,2,1,1,1,1,1,1,1,1,1,1],\"type\":\"choropleth\"}],\"name\":\"2005\"},{\"data\":[{\"coloraxis\":\"coloraxis\",\"geo\":\"geo\",\"hovertemplate\":\"release_year=2006<br>country=%{location}<br>counts=%{z}<extra></extra>\",\"locationmode\":\"country names\",\"locations\":[\"United States\",\"India\",\"United Kingdom\",\"Egypt\",\"Japan\",\"Argentina\",\"Canada\",\"Turkey\",\"Australia\",\"France\",\"Germany\",\"Hong Kong\",\"Malaysia\",\"Mexico\",\"Netherlands\",\"Philippines\",\"Saudi Arabia\"],\"name\":\"\",\"z\":[41,21,7,5,5,3,3,2,1,1,1,1,1,1,1,1,1],\"type\":\"choropleth\"}],\"name\":\"2006\"},{\"data\":[{\"coloraxis\":\"coloraxis\",\"geo\":\"geo\",\"hovertemplate\":\"release_year=2007<br>country=%{location}<br>counts=%{z}<extra></extra>\",\"locationmode\":\"country names\",\"locations\":[\"United States\",\"India\",\"Hong Kong\",\"United Kingdom\",\"Canada\",\"Egypt\",\"France\",\"Germany\",\"Japan\",\"Thailand\",\"Argentina\",\"Australia\",\"Colombia\",\"Denmark\",\"Mexico\",\"New Zealand\",\"Norway\",\"Pakistan\",\"Philippines\",\"Venezuela\"],\"name\":\"\",\"z\":[44,16,3,3,2,2,2,2,2,2,1,1,1,1,1,1,1,1,1,1],\"type\":\"choropleth\"}],\"name\":\"2007\"},{\"data\":[{\"coloraxis\":\"coloraxis\",\"geo\":\"geo\",\"hovertemplate\":\"release_year=2008<br>country=%{location}<br>counts=%{z}<extra></extra>\",\"locationmode\":\"country names\",\"locations\":[\"United States\",\"India\",\"United Kingdom\",\"Japan\",\"Egypt\",\"Germany\",\"Indonesia\",\"Philippines\",\"Canada\",\"China\",\"Colombia\",\"Hong Kong\",\"Pakistan\",\"Chile\",\"France\",\"Not Given\",\"Saudi Arabia\",\"Spain\",\"Taiwan\",\"Thailand\"],\"name\":\"\",\"z\":[57,26,11,9,5,4,3,3,2,2,2,2,2,1,1,1,1,1,1,1],\"type\":\"choropleth\"}],\"name\":\"2008\"},{\"data\":[{\"coloraxis\":\"coloraxis\",\"geo\":\"geo\",\"hovertemplate\":\"release_year=2009<br>country=%{location}<br>counts=%{z}<extra></extra>\",\"locationmode\":\"country names\",\"locations\":[\"United States\",\"India\",\"United Kingdom\",\"Egypt\",\"Taiwan\",\"Pakistan\",\"Japan\",\"South Korea\",\"Canada\",\"France\",\"Germany\",\"Hong Kong\",\"Indonesia\",\"Singapore\",\"Thailand\",\"Turkey\",\"Australia\",\"Czech Republic\",\"Malaysia\",\"Nigeria\",\"Not Given\",\"Philippines\",\"South Africa\",\"Spain\"],\"name\":\"\",\"z\":[58,29,10,6,6,5,4,4,3,3,3,3,3,3,2,2,1,1,1,1,1,1,1,1],\"type\":\"choropleth\"}],\"name\":\"2009\"},{\"data\":[{\"coloraxis\":\"coloraxis\",\"geo\":\"geo\",\"hovertemplate\":\"release_year=2010<br>country=%{location}<br>counts=%{z}<extra></extra>\",\"locationmode\":\"country names\",\"locations\":[\"United States\",\"India\",\"Pakistan\",\"United Kingdom\",\"Japan\",\"Canada\",\"Egypt\",\"Turkey\",\"Hong Kong\",\"Thailand\",\"France\",\"Mexico\",\"China\",\"Germany\",\"Lebanon\",\"Not Given\",\"South Korea\",\"Australia\",\"Colombia\",\"Ireland\",\"Nigeria\",\"Philippines\",\"Romania\",\"South Africa\",\"Spain\",\"Taiwan\"],\"name\":\"\",\"z\":[71,42,10,9,8,6,6,6,5,4,3,3,2,2,2,2,2,1,1,1,1,1,1,1,1,1],\"type\":\"choropleth\"}],\"name\":\"2010\"},{\"data\":[{\"coloraxis\":\"coloraxis\",\"geo\":\"geo\",\"hovertemplate\":\"release_year=2011<br>country=%{location}<br>counts=%{z}<extra></extra>\",\"locationmode\":\"country names\",\"locations\":[\"United States\",\"India\",\"United Kingdom\",\"Egypt\",\"Japan\",\"Canada\",\"France\",\"Indonesia\",\"Singapore\",\"Taiwan\",\"Thailand\",\"Turkey\",\"China\",\"Hong Kong\",\"Pakistan\",\"Australia\",\"Iran\",\"Ireland\",\"Italy\",\"Malaysia\",\"Not Given\",\"Philippines\",\"South Korea\"],\"name\":\"\",\"z\":[77,34,17,8,8,4,4,4,4,4,4,3,2,2,2,1,1,1,1,1,1,1,1],\"type\":\"choropleth\"}],\"name\":\"2011\"},{\"data\":[{\"coloraxis\":\"coloraxis\",\"geo\":\"geo\",\"hovertemplate\":\"release_year=2012<br>country=%{location}<br>counts=%{z}<extra></extra>\",\"locationmode\":\"country names\",\"locations\":[\"United States\",\"India\",\"United Kingdom\",\"Egypt\",\"South Korea\",\"Pakistan\",\"Japan\",\"Canada\",\"Taiwan\",\"Philippines\",\"Australia\",\"France\",\"Singapore\",\"South Africa\",\"Thailand\",\"Turkey\",\"Brazil\",\"China\",\"Colombia\",\"Indonesia\",\"Lebanon\",\"Mexico\",\"Nigeria\",\"Denmark\",\"Germany\",\"Israel\",\"Not Given\",\"Saudi Arabia\",\"Spain\",\"Sweden\"],\"name\":\"\",\"z\":[87,41,17,11,11,10,6,5,5,4,3,3,3,3,3,3,2,2,2,2,2,2,2,1,1,1,1,1,1,1],\"type\":\"choropleth\"}],\"name\":\"2012\"},{\"data\":[{\"coloraxis\":\"coloraxis\",\"geo\":\"geo\",\"hovertemplate\":\"release_year=2013<br>country=%{location}<br>counts=%{z}<extra></extra>\",\"locationmode\":\"country names\",\"locations\":[\"United States\",\"India\",\"United Kingdom\",\"Turkey\",\"Japan\",\"Pakistan\",\"Philippines\",\"Egypt\",\"South Korea\",\"Taiwan\",\"Hong Kong\",\"Brazil\",\"Canada\",\"Denmark\",\"France\",\"Indonesia\",\"Nigeria\",\"Not Given\",\"Australia\",\"Chile\",\"Germany\",\"Italy\",\"Mexico\",\"South Africa\",\"Spain\",\"Switzerland\",\"Argentina\",\"Israel\",\"Lebanon\",\"Malaysia\",\"Norway\",\"Russia\",\"Saudi Arabia\",\"Singapore\",\"Thailand\"],\"name\":\"\",\"z\":[101,62,22,10,9,7,7,6,6,6,4,3,3,3,3,3,3,3,2,2,2,2,2,2,2,2,1,1,1,1,1,1,1,1,1],\"type\":\"choropleth\"}],\"name\":\"2013\"},{\"data\":[{\"coloraxis\":\"coloraxis\",\"geo\":\"geo\",\"hovertemplate\":\"release_year=2014<br>country=%{location}<br>counts=%{z}<extra></extra>\",\"locationmode\":\"country names\",\"locations\":[\"United States\",\"India\",\"United Kingdom\",\"Canada\",\"Turkey\",\"Japan\",\"Pakistan\",\"France\",\"Germany\",\"South Korea\",\"Not Given\",\"Singapore\",\"Australia\",\"Denmark\",\"Egypt\",\"Hong Kong\",\"Mexico\",\"Nigeria\",\"Philippines\",\"Norway\",\"Taiwan\",\"Thailand\",\"United Arab Emirates\",\"Argentina\",\"Austria\",\"Brazil\",\"Bulgaria\",\"China\",\"Indonesia\",\"Israel\",\"Kenya\",\"Lebanon\",\"Malaysia\",\"Poland\",\"Romania\",\"Russia\",\"Saudi Arabia\",\"Spain\",\"Vietnam\"],\"name\":\"\",\"z\":[114,55,32,19,15,14,11,10,7,7,6,6,4,4,4,4,4,4,4,3,3,3,3,1,1,1,1,1,1,1,1,1,1,1,1,1,1,1,1],\"type\":\"choropleth\"}],\"name\":\"2014\"},{\"data\":[{\"coloraxis\":\"coloraxis\",\"geo\":\"geo\",\"hovertemplate\":\"release_year=2015<br>country=%{location}<br>counts=%{z}<extra></extra>\",\"locationmode\":\"country names\",\"locations\":[\"United States\",\"India\",\"United Kingdom\",\"Pakistan\",\"Canada\",\"France\",\"Japan\",\"Not Given\",\"South Korea\",\"Turkey\",\"Spain\",\"Australia\",\"Philippines\",\"Taiwan\",\"Mexico\",\"Germany\",\"Nigeria\",\"Russia\",\"Argentina\",\"China\",\"Indonesia\",\"Netherlands\",\"Thailand\",\"Egypt\",\"Malaysia\",\"South Africa\",\"Brazil\",\"Chile\",\"Ireland\",\"Israel\",\"Italy\",\"Denmark\",\"Hong Kong\",\"New Zealand\",\"Romania\",\"Singapore\",\"United Arab Emirates\",\"Belgium\",\"Colombia\",\"Croatia\",\"Iceland\",\"Lebanon\",\"Peru\",\"Poland\",\"Switzerland\",\"Syria\",\"Ukraine\",\"Vietnam\"],\"name\":\"\",\"z\":[173,67,53,27,23,19,14,13,13,13,12,10,10,8,7,6,6,6,5,5,5,5,5,4,4,4,3,3,3,3,3,2,2,2,2,2,2,1,1,1,1,1,1,1,1,1,1,1],\"type\":\"choropleth\"}],\"name\":\"2015\"},{\"data\":[{\"coloraxis\":\"coloraxis\",\"geo\":\"geo\",\"hovertemplate\":\"release_year=2016<br>country=%{location}<br>counts=%{z}<extra></extra>\",\"locationmode\":\"country names\",\"locations\":[\"United States\",\"United Kingdom\",\"India\",\"Pakistan\",\"Canada\",\"South Korea\",\"France\",\"Japan\",\"Spain\",\"Mexico\",\"Australia\",\"China\",\"Nigeria\",\"Turkey\",\"Germany\",\"Not Given\",\"Philippines\",\"Ireland\",\"Argentina\",\"Brazil\",\"Indonesia\",\"Italy\",\"Taiwan\",\"Egypt\",\"Hong Kong\",\"Chile\",\"Denmark\",\"Sweden\",\"Belgium\",\"Netherlands\",\"New Zealand\",\"Norway\",\"South Africa\",\"Thailand\",\"Colombia\",\"Israel\",\"Singapore\",\"United Arab Emirates\",\"Czech Republic\",\"Portugal\",\"Austria\",\"Belarus\",\"Bulgaria\",\"Finland\",\"Hungary\",\"Malaysia\",\"Peru\",\"Romania\",\"Russia\",\"Saudi Arabia\",\"Serbia\",\"Slovenia\",\"Switzerland\",\"Vietnam\"],\"name\":\"\",\"z\":[293,89,75,55,41,32,27,22,21,20,17,14,14,14,12,11,10,9,8,8,8,8,8,7,7,6,6,5,4,4,4,4,4,4,3,3,3,3,2,2,1,1,1,1,1,1,1,1,1,1,1,1,1,1],\"type\":\"choropleth\"}],\"name\":\"2016\"},{\"data\":[{\"coloraxis\":\"coloraxis\",\"geo\":\"geo\",\"hovertemplate\":\"release_year=2017<br>country=%{location}<br>counts=%{z}<extra></extra>\",\"locationmode\":\"country names\",\"locations\":[\"United States\",\"India\",\"United Kingdom\",\"Canada\",\"Pakistan\",\"South Korea\",\"Japan\",\"Spain\",\"Not Given\",\"France\",\"China\",\"Australia\",\"Nigeria\",\"Mexico\",\"Egypt\",\"Argentina\",\"Brazil\",\"Germany\",\"Italy\",\"Philippines\",\"Turkey\",\"Indonesia\",\"South Africa\",\"Taiwan\",\"Thailand\",\"Ireland\",\"Netherlands\",\"Lebanon\",\"Belgium\",\"Israel\",\"Malaysia\",\"Peru\",\"Russia\",\"Sweden\",\"Austria\",\"Bulgaria\",\"Cambodia\",\"Chile\",\"Colombia\",\"Czech Republic\",\"Denmark\",\"Hong Kong\",\"Poland\",\"Switzerland\",\"Bangladesh\",\"Cyprus\",\"Georgia\",\"Ghana\",\"Greece\",\"Guatemala\",\"Hungary\",\"Iceland\",\"Kuwait\",\"New Zealand\",\"Norway\",\"Saudi Arabia\",\"Serbia\",\"Singapore\",\"Somalia\",\"Ukraine\",\"United Arab Emirates\",\"Uruguay\",\"Venezuela\",\"Zimbabwe\"],\"name\":\"\",\"z\":[383,108,85,39,33,32,30,30,29,26,17,15,15,14,13,12,11,11,9,9,9,8,7,7,6,5,5,4,3,3,3,3,3,3,2,2,2,2,2,2,2,2,2,2,1,1,1,1,1,1,1,1,1,1,1,1,1,1,1,1,1,1,1,1],\"type\":\"choropleth\"}],\"name\":\"2017\"},{\"data\":[{\"coloraxis\":\"coloraxis\",\"geo\":\"geo\",\"hovertemplate\":\"release_year=2018<br>country=%{location}<br>counts=%{z}<extra></extra>\",\"locationmode\":\"country names\",\"locations\":[\"United States\",\"India\",\"United Kingdom\",\"Pakistan\",\"Canada\",\"Japan\",\"Spain\",\"France\",\"Not Given\",\"South Korea\",\"Nigeria\",\"Mexico\",\"China\",\"Australia\",\"Indonesia\",\"Egypt\",\"Argentina\",\"Brazil\",\"Colombia\",\"Turkey\",\"Philippines\",\"Taiwan\",\"Germany\",\"Ireland\",\"Malaysia\",\"Thailand\",\"Denmark\",\"Italy\",\"Netherlands\",\"United Arab Emirates\",\"Chile\",\"Hong Kong\",\"Israel\",\"New Zealand\",\"Norway\",\"Lebanon\",\"Poland\",\"Russia\",\"South Africa\",\"Bangladesh\",\"Belgium\",\"Ghana\",\"Singapore\",\"Switzerland\",\"Uruguay\",\"Austria\",\"Bulgaria\",\"Croatia\",\"Czech Republic\",\"Finland\",\"Georgia\",\"Hungary\",\"Iceland\",\"Jamaica\",\"Kenya\",\"Kuwait\",\"Paraguay\",\"Peru\",\"Puerto Rico\",\"Romania\",\"Syria\"],\"name\":\"\",\"z\":[394,107,85,57,48,42,40,33,33,31,22,20,18,17,16,15,13,13,11,10,9,8,6,6,6,6,5,5,5,5,4,4,4,4,4,3,3,3,3,2,2,2,2,2,2,1,1,1,1,1,1,1,1,1,1,1,1,1,1,1,1],\"type\":\"choropleth\"}],\"name\":\"2018\"},{\"data\":[{\"coloraxis\":\"coloraxis\",\"geo\":\"geo\",\"hovertemplate\":\"release_year=2019<br>country=%{location}<br>counts=%{z}<extra></extra>\",\"locationmode\":\"country names\",\"locations\":[\"United States\",\"India\",\"Pakistan\",\"United Kingdom\",\"Not Given\",\"France\",\"Spain\",\"Japan\",\"Canada\",\"South Korea\",\"Mexico\",\"China\",\"Brazil\",\"Nigeria\",\"Philippines\",\"Australia\",\"Argentina\",\"Thailand\",\"Colombia\",\"Indonesia\",\"Italy\",\"Germany\",\"Egypt\",\"Taiwan\",\"Turkey\",\"United Arab Emirates\",\"Hong Kong\",\"Kuwait\",\"Lebanon\",\"South Africa\",\"Finland\",\"Poland\",\"Romania\",\"Sweden\",\"Uruguay\",\"Belgium\",\"Chile\",\"Denmark\",\"Netherlands\",\"Russia\",\"Singapore\",\"Vietnam\",\"Austria\",\"Ghana\",\"Hungary\",\"Ireland\",\"Israel\",\"Jordan\",\"Kenya\",\"Luxembourg\",\"Malaysia\",\"Mauritius\",\"Mozambique\",\"Namibia\",\"New Zealand\",\"Norway\",\"Senegal\",\"Serbia\"],\"name\":\"\",\"z\":[385,102,58,58,37,36,31,29,25,23,20,19,18,16,14,13,12,12,9,9,9,8,7,7,7,5,4,4,4,4,3,3,3,3,3,2,2,2,2,2,2,2,1,1,1,1,1,1,1,1,1,1,1,1,1,1,1,1],\"type\":\"choropleth\"}],\"name\":\"2019\"},{\"data\":[{\"coloraxis\":\"coloraxis\",\"geo\":\"geo\",\"hovertemplate\":\"release_year=2020<br>country=%{location}<br>counts=%{z}<extra></extra>\",\"locationmode\":\"country names\",\"locations\":[\"United States\",\"India\",\"United Kingdom\",\"Not Given\",\"Pakistan\",\"Canada\",\"South Korea\",\"Germany\",\"Spain\",\"Brazil\",\"Japan\",\"Mexico\",\"France\",\"Indonesia\",\"Italy\",\"Nigeria\",\"Argentina\",\"Taiwan\",\"Australia\",\"China\",\"Philippines\",\"Poland\",\"South Africa\",\"Colombia\",\"Turkey\",\"Norway\",\"Thailand\",\"Netherlands\",\"Austria\",\"Denmark\",\"Egypt\",\"Saudi Arabia\",\"Sweden\",\"Chile\",\"Iceland\",\"Israel\",\"Portugal\",\"Belgium\",\"Cameroon\",\"Finland\",\"Kenya\",\"Lebanon\",\"Malaysia\",\"Russia\",\"Singapore\",\"Uruguay\",\"Vietnam\"],\"name\":\"\",\"z\":[355,78,60,48,42,34,29,24,24,22,22,22,20,16,16,14,13,13,11,10,7,7,7,6,6,5,5,4,3,3,3,3,3,2,2,2,2,1,1,1,1,1,1,1,1,1,1],\"type\":\"choropleth\"}],\"name\":\"2020\"},{\"data\":[{\"coloraxis\":\"coloraxis\",\"geo\":\"geo\",\"hovertemplate\":\"release_year=2021<br>country=%{location}<br>counts=%{z}<extra></extra>\",\"locationmode\":\"country names\",\"locations\":[\"United States\",\"Pakistan\",\"Not Given\",\"India\",\"United Kingdom\",\"South Korea\",\"Spain\",\"Mexico\",\"Japan\",\"France\",\"Australia\",\"Germany\",\"Italy\",\"Canada\",\"China\",\"Brazil\",\"Belgium\",\"Indonesia\",\"Nigeria\",\"South Africa\",\"Turkey\",\"Poland\",\"Thailand\",\"Colombia\",\"Israel\",\"Sweden\",\"Argentina\",\"Egypt\",\"Netherlands\",\"Saudi Arabia\",\"United Arab Emirates\",\"Hungary\",\"Iceland\",\"Jordan\",\"Mauritius\",\"New Zealand\",\"Norway\",\"Philippines\",\"Russia\",\"Taiwan\",\"Uruguay\",\"Vietnam\"],\"name\":\"\",\"z\":[168,93,85,35,29,22,16,14,12,11,8,8,8,7,7,6,5,5,5,5,5,4,4,3,3,3,2,2,2,2,2,1,1,1,1,1,1,1,1,1,1,1],\"type\":\"choropleth\"}],\"name\":\"2021\"}]);\n",
       "                        }).then(function(){\n",
       "                            \n",
       "var gd = document.getElementById('9359da28-ab2f-4687-8df8-1c73f92ad982');\n",
       "var x = new MutationObserver(function (mutations, observer) {{\n",
       "        var display = window.getComputedStyle(gd).display;\n",
       "        if (!display || display === 'none') {{\n",
       "            console.log([gd, 'removed!']);\n",
       "            Plotly.purge(gd);\n",
       "            observer.disconnect();\n",
       "        }}\n",
       "}});\n",
       "\n",
       "// Listen for the removal of the full notebook cells\n",
       "var notebookContainer = gd.closest('#notebook-container');\n",
       "if (notebookContainer) {{\n",
       "    x.observe(notebookContainer, {childList: true});\n",
       "}}\n",
       "\n",
       "// Listen for the clearing of the current output cell\n",
       "var outputEl = gd.closest('.output');\n",
       "if (outputEl) {{\n",
       "    x.observe(outputEl, {childList: true});\n",
       "}}\n",
       "\n",
       "                        })                };                });            </script>        </div>"
      ]
     },
     "metadata": {},
     "output_type": "display_data"
    }
   ],
   "source": [
    "import plotly.express as px\n",
    "\n",
    "fig = px.choropleth(year_country2, locations=\"country\", color=\"counts\", \n",
    "                    locationmode='country names',\n",
    "                    animation_frame='release_year',\n",
    "                    range_color=[0,200],\n",
    "                    color_continuous_scale=px.colors.sequential.OrRd\n",
    "                   )\n",
    "\n",
    "fig.update_layout(title='Comparison by country')\n",
    "fig.show()"
   ]
  }
 ],
 "metadata": {
  "kernelspec": {
   "display_name": "Python 3 (ipykernel)",
   "language": "python",
   "name": "python3"
  },
  "language_info": {
   "codemirror_mode": {
    "name": "ipython",
    "version": 3
   },
   "file_extension": ".py",
   "mimetype": "text/x-python",
   "name": "python",
   "nbconvert_exporter": "python",
   "pygments_lexer": "ipython3",
   "version": "3.9.12"
  }
 },
 "nbformat": 4,
 "nbformat_minor": 5
}
